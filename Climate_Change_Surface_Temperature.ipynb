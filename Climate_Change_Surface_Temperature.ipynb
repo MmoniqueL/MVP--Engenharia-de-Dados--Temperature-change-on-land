{
 "cells": [
  {
   "cell_type": "markdown",
   "metadata": {
    "application/vnd.databricks.v1+cell": {
     "cellMetadata": {},
     "inputWidgets": {},
     "nuid": "2d571b4a-1556-49bd-b55e-c927df2bd53f",
     "showTitle": false,
     "tableResultSettingsMap": {},
     "title": ""
    }
   },
   "source": [
    "# 1. Introdução\n",
    "\n",
    "Este trabalho (MVP - Minimum Viable Product) visa desenvolver uma solução real com base nos conhecimentos adquiridos na disciplina de Engenharia de Dados do curso de Pós-Graduação em Ciência de Dados da PUC Rio.\n",
    "Aqui vamos construir um pipeline de dados em nuvem, contemplando as etapas de coleta, modelagem, carga e análise dos dados. \n",
    "\n",
    "\n",
    "\n",
    "O conjunto de dados utilizados para construir esse pipeline é o de _Temperature Change on Land_, disponível na plataforma FAOSTAT, mantida pela Organização das Nações Unidas para Alimentação e Agricultura (FAO).Os dados possuem informações sobre mudanças de temperatura em superfícies terrestres ao redor do mundo, com periodicidade anual por país entre 1961 e 2022.\n"
   ]
  },
  {
   "cell_type": "markdown",
   "metadata": {
    "application/vnd.databricks.v1+cell": {
     "cellMetadata": {},
     "inputWidgets": {},
     "nuid": "d89640ee-28e6-44bb-babe-8315e2c88aef",
     "showTitle": false,
     "tableResultSettingsMap": {},
     "title": ""
    }
   },
   "source": [
    "# 2. Objetivo\n",
    "\n",
    "O objetivo deste trabalho é armazenar e estruturar um conjunto de dados sobre mudanças de temperatura da superficie terrestre por país, utilizando um pipeline de dados em nuvem. Para isso, será realizada a modelagem do banco de dados de forma a garantir um bom desempenho, organização e facilidade na análise dos dados, utilizando conceitos de Data Warehouse e a arquitetura em camadas bronze, prata e ouro. Após o armazenamento e organização, serão conduzidas análises exploratórias com linguagem SQL, com o propósito de responder perguntas analíticas que permitam extrair insights relevantes sobre as variações de temperatura da superfície terrestre ao longo do tempo e entre diferentes países. \n",
    "\n",
    "As perguntas sobre o conjunto de dados a serem respondidas neste trabalho são as seguintes: \n",
    "\n",
    "  - As temperaturas da superfície está aumentando ou diminuindo?\n",
    "  \n",
    "  - Como se encontra o Brasil e neste cenário? Aquecendo ou esfriando?\n",
    "  \n",
    "  - Há alguma região do planeta indo contra a tendência global?\n",
    "\n",
    "  - Qual é tendência das temperaturas nos países considerados potências econômicas regionais e globais?"
   ]
  },
  {
   "cell_type": "markdown",
   "metadata": {
    "application/vnd.databricks.v1+cell": {
     "cellMetadata": {},
     "inputWidgets": {},
     "nuid": "8ba41b20-37ac-4385-b364-a81562ee2114",
     "showTitle": false,
     "tableResultSettingsMap": {},
     "title": ""
    }
   },
   "source": [
    "# 3. Plataforma de Dados em Nuvem\n",
    "\n",
    "A plataforma utilizada foi o Databricks Community Edition. Entre as principais vantagens do Community Edition estão a compatibilidade nativa com Apache Spark, o suporte a múltiplas linguagens de programação (como Python e SQL) e a interface intuitiva baseada em notebooks. Apesar de possuir algumas restrições de performance e armazenamento, e recursos limitados em comparação à versão paga (Databricks Premium), a gratuidade da versão Community torna a plataforma ideal para fins educacionais e a realização de projetos de pequeno porte."
   ]
  },
  {
   "cell_type": "markdown",
   "metadata": {
    "application/vnd.databricks.v1+cell": {
     "cellMetadata": {},
     "inputWidgets": {},
     "nuid": "1a84a533-ea28-4ded-b8dd-6ce3a83b8fa4",
     "showTitle": false,
     "tableResultSettingsMap": {},
     "title": ""
    }
   },
   "source": [
    "# 4. Dados Utilizados"
   ]
  },
  {
   "cell_type": "markdown",
   "metadata": {
    "application/vnd.databricks.v1+cell": {
     "cellMetadata": {},
     "inputWidgets": {},
     "nuid": "c71717c3-f2dd-4fdd-b5f1-922fafcaeda0",
     "showTitle": false,
     "tableResultSettingsMap": {},
     "title": ""
    }
   },
   "source": [
    "## 4.1 Busca e Coleta de Dados\n",
    "\n",
    "Com o objetivo de identificar fontes confiáveis e atualizadas sobre indicadores de mudanças climáticas globais, em especial relacionados à variação de temperatura ao longo dos anos, foi realizada uma uma pesquisa exploratória em diversas bases de dados públicas e gratuitas disponíveis na internet .\n",
    "\n",
    "Após essa investigação, oconjunto de dados selecionados  foi encontrado no trabalho 🔗[Climate Change Indicators](https://www.kaggle.com/datasets/tarunrm09/climate-change-indicators?resource=download) no site da Kaggle. Esses dados são provenientes do portal da FAOSTAT, mantido pela Organização das Nações Unidas para a Alimentação e a Agricultura (FAO). A FAOSTAT é uma plataforma de referência internacional que disponibiliza uma ampla gama de estatísticas relacionadas à agricultura, meio ambiente e sustentabilidade, de forma acessível e gratuita.\n",
    "\n",
    "\n",
    "\n",
    "\n"
   ]
  },
  {
   "cell_type": "markdown",
   "metadata": {
    "application/vnd.databricks.v1+cell": {
     "cellMetadata": {},
     "inputWidgets": {},
     "nuid": "52ac6594-d938-4c3b-bd82-2c86760e4a59",
     "showTitle": false,
     "tableResultSettingsMap": {},
     "title": ""
    }
   },
   "source": [
    "## 4.2 Explicando os Dados\n",
    "\n",
    "Os dados de mudança de temperatura sobre a terra (_Temperature change on land_) da FAOSTAT possuem informações referentes à variação média da temperatura da superfície terrestre, organizadas por país, com atualizações anuais. A divulgação usada aqui cobre o período de 1961 a 2024,e as variações de temperatura são calculados com base em uma climatologia de referência estabelecida entre 1951 e 1980. Os dados incluem:\n",
    "\n",
    "  - Anomalias anuais de temperatura, ou seja, variações em relação à média histórica do período de base.\n",
    "\n",
    "  - Dados referentes a 188 países e 38 territórios, de acordo com o padrão estatístico da FAOSTAT.\n",
    "\n",
    "A base de dados é construída a partir do GISTEMP – a série histórica de mudanças de temperatura da superfície terrestre disponibilizada pela NASA-GISS (Goddard Institute for Space Studies). A coleta de dados é realizada por meio de aproximadamente 26.000 estações meteorológicas em todo o mundo, por meio da rede NOAA-GHCN v4 (Global Historical Climatology Network), combinando medições reais com modelagem espacial.\n",
    "\n",
    "\n",
    "> Catáogo de Dados\n",
    "\n",
    "Com o objetivo de estruturar, documentar e facilitar a compreensão e o uso adequado dessas informações, foi desenvolvido um catálogo de dados detalhado para este trabalho. O catálogo apresenta a descrição técnica dos atributos presentes no conjunto de dados, abrangendo o tipo de dado, domínio de valores válidos, regras de validação, além da caracterização das entidades e relacionamentos, com base no modelo dimensional de esquema estrela utilizado na camada prata da arquitetura medalhão. A construção do catálogo permite garantir maior governança, qualidade e rastreabilidade dos dados, além de ser essencial para análises futuras, integração com outros sistemas e replicação do processo de modelagem.\n",
    "\n",
    "Para mais informações sobre os dados utilizados, suas estruturas e definições técnicas, consulte o **catálogo de dados** deste trabalho, onde estão documentados todos os elementos relevantes do conjunto de dados."
   ]
  },
  {
   "cell_type": "markdown",
   "metadata": {
    "application/vnd.databricks.v1+cell": {
     "cellMetadata": {},
     "inputWidgets": {},
     "nuid": "5e895fa3-55ef-4650-ad43-783b2be230b7",
     "showTitle": false,
     "tableResultSettingsMap": {},
     "title": ""
    }
   },
   "source": [
    "## 4.3 Modelagem de Dados\n",
    "\n",
    "A modelagem é uma etapa fundamental para garantir a eficiência, qualidade e escalabilidade de soluções analíticas em ambientes de dados. No caso de indicadores globais de mudança de temperatura na superfície terrestre, que abrangem registros históricos por país, será feita a aplicação conjunta do esquema em estrela (_star schema_) e da arquitetura em camadas ou medalhão (_medallion architecture_). A combinação entre o esquema estrela e a arquitetura medalhão representa uma abordagem robusta para a modelagem de dados, pois enquanto o esquema estrela viabiliza análises ágeis e estruturadas a partir de uma semântica bem definida, a arquitetura medalhão garante governança, versionamento e qualidade dos dados em cada etapa do pipeline.\n",
    "\n",
    "### 4.3.1 Esquema Estrela\n",
    "\n",
    "O esquema em estrela é um modelo de dados dimensional amplamente adotado em soluções de Business Intelligence e Data Warehousing. Ele se baseia na centralização de uma tabela fato, com os dados quantitativos e métricas, e em tabelas dimensão, com os atributos descritivos das variáveis categóricas.\n",
    "\n",
    "No contexto dos dados aqui utilizados, a tabela fato (fato_temperatura) armazenará os valores de variação de temperatura por país e ano. Já as tabelas dimensão descreverão o país (dim_pais), o tempo (dim_tempo) e o tipo de indicador (dim_indicador).\n",
    "\n",
    "A estrutura de separação em dimensões distintas proporciona diversas vantagens, entre elas:\n",
    "  - Compatibilidade com ferramentas de visualização e construção de dashboards (ex: Power BI, Tableau, etc.);\n",
    "  \n",
    "  - Redução da redundância de dados, uma vez que os atributos descritivos são separados em dimensões reutilizáveis;\n",
    "  \n",
    "  - Alta performance em agregações (por país, tempo, etc).\n",
    "\n",
    "### 4.3.2 Arquitetura Medalhão\n",
    "\n",
    "A arquitetura medalhão organiza os dados em camadas sequenciais, promovendo governança, rastreabilidade, consistência e facilidade de transformação. As camadas que serão utilizadas neste trabalho são:\n",
    "\n",
    "🥉 **Camada Bronze – Dados Brutos**\n",
    "\n",
    "O objetivo desta camada é preservar os dados exatamente como foram extraídos da fonte, sem qualquer transformação.\n",
    "\n",
    "🥈 **Camada Prata – Dados Limpos e Estruturados**\n",
    "\n",
    "Aqui o objetivo é realizar a limpeza, normalização e padronização dos dados.\n",
    "\n",
    "🥇 Camada Ouro – Dados Analíticos\n",
    "\n",
    "Na camada ouro, o objetivo é criar uma estrutura analítica otimizada para consumo por ferramentas de BI e dashboards."
   ]
  },
  {
   "cell_type": "markdown",
   "metadata": {
    "application/vnd.databricks.v1+cell": {
     "cellMetadata": {},
     "inputWidgets": {},
     "nuid": "7b0faa46-5dd9-4966-a83b-3ac4522f7049",
     "showTitle": false,
     "tableResultSettingsMap": {},
     "title": ""
    }
   },
   "source": [
    "# 5. Análise"
   ]
  },
  {
   "cell_type": "markdown",
   "metadata": {
    "application/vnd.databricks.v1+cell": {
     "cellMetadata": {},
     "inputWidgets": {},
     "nuid": "50fc1044-c8b1-4fd8-9f4a-7c4f19f937e5",
     "showTitle": false,
     "tableResultSettingsMap": {},
     "title": ""
    }
   },
   "source": [
    "## 5.1 Carga dos dados no DataBricks\n",
    "\n",
    "Para iniciar o processo de análise de dados, o arquivo CSV contendo as informações sobre variações de temperatura foi importado para o ambiente de nuvem do Databricks Community. A importação foi realizada por meio do DBFS (Databricks File System), um sistema de arquivos distribuído que permite o armazenamento e acesso eficiente de arquivos dentro da plataforma.\n",
    "\n",
    "O upload foi feito diretamente pela interface web do Databricks, garantindo que o arquivo ficasse disponível em um caminho acessível para leitura e manipulação dentro dos notebooks. A partir desse arquivo, foi possível criar DataFrames em PySpark e dar início ao pipeline de tratamento, modelagem e análise dos dados.\n",
    "\n",
    "### Camada Bronze – Ingestão dos dados\n",
    "\n",
    "O passo seguinte foi a criação da camada Bronze, a primeira da arquitetura em camadas do modelo medalhão. Nessa etapa, os dados brutos foram carregados a partir do arquivo CSV importado via DBFS e salvos em formato Delta. Essa camada tem como principal objetivo armazenar os dados em um único DataFrame, sem alterações, preservando a integridade da fonte original e servindo como base para as etapas seguintes de limpeza e transformação dos dados.\n",
    "\n",
    "\n"
   ]
  },
  {
   "cell_type": "code",
   "execution_count": 0,
   "metadata": {
    "application/vnd.databricks.v1+cell": {
     "cellMetadata": {
      "byteLimit": 2048000,
      "rowLimit": 10000
     },
     "inputWidgets": {},
     "nuid": "36419378-78cc-4348-a333-6d2be506322e",
     "showTitle": false,
     "tableResultSettingsMap": {},
     "title": ""
    }
   },
   "outputs": [
    {
     "output_type": "display_data",
     "data": {
      "text/html": [
       "<style scoped>\n",
       "  .table-result-container {\n",
       "    max-height: 300px;\n",
       "    overflow: auto;\n",
       "  }\n",
       "  table, th, td {\n",
       "    border: 1px solid black;\n",
       "    border-collapse: collapse;\n",
       "  }\n",
       "  th, td {\n",
       "    padding: 5px;\n",
       "  }\n",
       "  th {\n",
       "    text-align: left;\n",
       "  }\n",
       "</style><div class='table-result-container'><table class='table-result'><thead style='background-color: white'><tr><th>ObjectId</th><th>Country</th><th>ISO2</th><th>ISO3</th><th>Indicator</th><th>Unit</th><th>Source</th><th>CTS_Code</th><th>CTS_Name</th><th>CTS_Full_Descriptor</th><th>F1961</th><th>F1962</th><th>F1963</th><th>F1964</th><th>F1965</th><th>F1966</th><th>F1967</th><th>F1968</th><th>F1969</th><th>F1970</th><th>F1971</th><th>F1972</th><th>F1973</th><th>F1974</th><th>F1975</th><th>F1976</th><th>F1977</th><th>F1978</th><th>F1979</th><th>F1980</th><th>F1981</th><th>F1982</th><th>F1983</th><th>F1984</th><th>F1985</th><th>F1986</th><th>F1987</th><th>F1988</th><th>F1989</th><th>F1990</th><th>F1991</th><th>F1992</th><th>F1993</th><th>F1994</th><th>F1995</th><th>F1996</th><th>F1997</th><th>F1998</th><th>F1999</th><th>F2000</th><th>F2001</th><th>F2002</th><th>F2003</th><th>F2004</th><th>F2005</th><th>F2006</th><th>F2007</th><th>F2008</th><th>F2009</th><th>F2010</th><th>F2011</th><th>F2012</th><th>F2013</th><th>F2014</th><th>F2015</th><th>F2016</th><th>F2017</th><th>F2018</th><th>F2019</th><th>F2020</th><th>F2021</th><th>F2022</th></tr></thead><tbody><tr><td>1</td><td>Afghanistan, Islamic Rep. of</td><td>AF</td><td>AFG</td><td>Temperature change with respect to a baseline climatology, corresponding to the period 1951-1980</td><td>Degree Celsius</td><td>Food and Agriculture Organization of the United Nations (FAO). 2022. FAOSTAT Climate Change, Climate Indicators, Temperature change. License: CC BY-NC-SA 3.0 IGO. Extracted from: https://www.fao.org/faostat/en/#data/ET. Accessed on 2023-03-28.</td><td>ECCS</td><td>Surface Temperature Change</td><td>Environment, Climate Change, Climate Indicators, Surface Temperature Change</td><td>-0.113</td><td>-0.164</td><td>0.847</td><td>-0.764</td><td>-0.244</td><td>0.226</td><td>-0.371</td><td>-0.423</td><td>-0.539</td><td>0.813</td><td>0.619</td><td>-1.124</td><td>0.232</td><td>-0.489</td><td>-0.445</td><td>-0.286</td><td>0.513</td><td>0.129</td><td>0.361</td><td>0.6</td><td>0.483</td><td>-0.346</td><td>0.164</td><td>0.145</td><td>0.283</td><td>-0.141</td><td>0.391</td><td>0.919</td><td>-0.205</td><td>0.73</td><td>-0.168</td><td>-0.294</td><td>0.22</td><td>0.43</td><td>0.359</td><td>-0.116</td><td>0.471</td><td>0.675</td><td>1.198</td><td>0.993</td><td>1.311</td><td>1.365</td><td>0.587</td><td>1.373</td><td>0.401</td><td>1.72</td><td>0.675</td><td>0.704</td><td>0.895</td><td>1.613</td><td>1.397</td><td>0.223</td><td>1.281</td><td>0.456</td><td>1.093</td><td>1.555</td><td>1.54</td><td>1.544</td><td>0.91</td><td>0.498</td><td>1.327</td><td>2.012</td></tr><tr><td>2</td><td>Albania</td><td>AL</td><td>ALB</td><td>Temperature change with respect to a baseline climatology, corresponding to the period 1951-1980</td><td>Degree Celsius</td><td>Food and Agriculture Organization of the United Nations (FAO). 2022. FAOSTAT Climate Change, Climate Indicators, Temperature change. License: CC BY-NC-SA 3.0 IGO. Extracted from: https://www.fao.org/faostat/en/#data/ET. Accessed on 2023-03-28.</td><td>ECCS</td><td>Surface Temperature Change</td><td>Environment, Climate Change, Climate Indicators, Surface Temperature Change</td><td>0.627</td><td>0.326</td><td>0.075</td><td>-0.166</td><td>-0.388</td><td>0.559</td><td>-0.074</td><td>0.081</td><td>-0.013</td><td>-0.106</td><td>-0.195</td><td>-0.069</td><td>-0.288</td><td>-0.139</td><td>-0.211</td><td>-0.683</td><td>0.545</td><td>-0.814</td><td>0.203</td><td>-0.414</td><td>-0.351</td><td>0.173</td><td>-0.128</td><td>-0.27</td><td>-0.103</td><td>0.569</td><td>-0.106</td><td>0.37</td><td>-0.066</td><td>0.795</td><td>-0.269</td><td>0.106</td><td>0.076</td><td>1.33</td><td>-0.172</td><td>-0.038</td><td>0.075</td><td>0.795</td><td>0.67</td><td>1.065</td><td>1.532</td><td>0.492</td><td>0.97</td><td>0.444</td><td>0.189</td><td>0.345</td><td>1.316</td><td>0.978</td><td>0.91</td><td>1.191</td><td>1.055</td><td>1.487</td><td>1.333</td><td>1.198</td><td>1.569</td><td>1.464</td><td>1.121</td><td>2.028</td><td>1.675</td><td>1.498</td><td>1.536</td><td>1.518</td></tr><tr><td>3</td><td>Algeria</td><td>DZ</td><td>DZA</td><td>Temperature change with respect to a baseline climatology, corresponding to the period 1951-1980</td><td>Degree Celsius</td><td>Food and Agriculture Organization of the United Nations (FAO). 2022. FAOSTAT Climate Change, Climate Indicators, Temperature change. License: CC BY-NC-SA 3.0 IGO. Extracted from: https://www.fao.org/faostat/en/#data/ET. Accessed on 2023-03-28.</td><td>ECCS</td><td>Surface Temperature Change</td><td>Environment, Climate Change, Climate Indicators, Surface Temperature Change</td><td>0.164</td><td>0.114</td><td>0.077</td><td>0.25</td><td>-0.1</td><td>0.433</td><td>-0.026</td><td>-0.067</td><td>0.291</td><td>0.116</td><td>-0.385</td><td>-0.348</td><td>-0.015</td><td>-0.503</td><td>-0.539</td><td>-0.782</td><td>0.504</td><td>0.012</td><td>0.654</td><td>0.232</td><td>0.215</td><td>0.399</td><td>0.56</td><td>-0.004</td><td>0.508</td><td>0.296</td><td>0.975</td><td>1.304</td><td>0.386</td><td>1.266</td><td>0.031</td><td>-0.312</td><td>0.552</td><td>0.732</td><td>0.595</td><td>0.846</td><td>1.059</td><td>1.109</td><td>1.476</td><td>0.82</td><td>1.856</td><td>1.258</td><td>1.585</td><td>0.988</td><td>1.264</td><td>1.395</td><td>1.22</td><td>1.185</td><td>0.945</td><td>2.265</td><td>1.398</td><td>1.147</td><td>1.192</td><td>1.69</td><td>1.121</td><td>1.757</td><td>1.512</td><td>1.21</td><td>1.115</td><td>1.926</td><td>2.33</td><td>1.688</td></tr><tr><td>4</td><td>American Samoa</td><td>AS</td><td>ASM</td><td>Temperature change with respect to a baseline climatology, corresponding to the period 1951-1980</td><td>Degree Celsius</td><td>Food and Agriculture Organization of the United Nations (FAO). 2022. FAOSTAT Climate Change, Climate Indicators, Temperature change. License: CC BY-NC-SA 3.0 IGO. Extracted from: https://www.fao.org/faostat/en/#data/ET. Accessed on 2023-03-28.</td><td>ECCS</td><td>Surface Temperature Change</td><td>Environment, Climate Change, Climate Indicators, Surface Temperature Change</td><td>0.079</td><td>-0.042</td><td>0.169</td><td>-0.14</td><td>-0.562</td><td>0.181</td><td>-0.368</td><td>-0.187</td><td>0.132</td><td>-0.047</td><td>-0.477</td><td>-0.067</td><td>0.33</td><td>-0.308</td><td>-0.118</td><td>-0.177</td><td>0.156</td><td>0.092</td><td>0.341</td><td>0.35</td><td>0.179</td><td>0.28</td><td>0.313</td><td>0.277</td><td>0.256</td><td>0.394</td><td>0.354</td><td>0.509</td><td>0.143</td><td>0.497</td><td>0.641</td><td>0.344</td><td>-0.069</td><td>0.189</td><td>0.755</td><td>0.784</td><td>null</td><td>null</td><td>0.242</td><td>0.626</td><td>0.904</td><td>1.152</td><td>0.716</td><td>0.191</td><td>0.801</td><td>0.403</td><td>1.032</td><td>0.67</td><td>null</td><td>1.311</td><td>0.854</td><td>0.924</td><td>1.257</td><td>1.17</td><td>1.009</td><td>1.539</td><td>1.435</td><td>1.189</td><td>1.539</td><td>1.43</td><td>1.268</td><td>1.256</td></tr><tr><td>5</td><td>Andorra, Principality of</td><td>AD</td><td>AND</td><td>Temperature change with respect to a baseline climatology, corresponding to the period 1951-1980</td><td>Degree Celsius</td><td>Food and Agriculture Organization of the United Nations (FAO). 2022. FAOSTAT Climate Change, Climate Indicators, Temperature change. License: CC BY-NC-SA 3.0 IGO. Extracted from: https://www.fao.org/faostat/en/#data/ET. Accessed on 2023-03-28.</td><td>ECCS</td><td>Surface Temperature Change</td><td>Environment, Climate Change, Climate Indicators, Surface Temperature Change</td><td>0.736</td><td>0.112</td><td>-0.752</td><td>0.308</td><td>-0.49</td><td>0.415</td><td>0.637</td><td>0.018</td><td>-0.137</td><td>0.121</td><td>-0.326</td><td>-0.499</td><td>0.025</td><td>-0.371</td><td>0.246</td><td>-0.045</td><td>-0.093</td><td>-0.163</td><td>0.058</td><td>-0.188</td><td>0.178</td><td>1.044</td><td>0.859</td><td>-0.157</td><td>0.059</td><td>0.387</td><td>0.397</td><td>0.883</td><td>1.162</td><td>1.736</td><td>0.231</td><td>0.386</td><td>0.174</td><td>1.508</td><td>1.279</td><td>0.57</td><td>1.788</td><td>1.018</td><td>1.055</td><td>1.05</td><td>1.48</td><td>0.835</td><td>1.949</td><td>0.936</td><td>0.851</td><td>1.485</td><td>1.024</td><td>0.946</td><td>1.413</td><td>0.471</td><td>1.677</td><td>1.265</td><td>0.831</td><td>1.946</td><td>1.69</td><td>1.99</td><td>1.925</td><td>1.919</td><td>1.964</td><td>2.562</td><td>1.533</td><td>3.243</td></tr></tbody></table></div>"
      ]
     },
     "metadata": {
      "application/vnd.databricks.v1+output": {
       "addedWidgets": {},
       "aggData": [],
       "aggError": "",
       "aggOverflow": false,
       "aggSchema": [],
       "aggSeriesLimitReached": false,
       "aggType": "",
       "arguments": {},
       "columnCustomDisplayInfos": {},
       "data": [
        [
         1,
         "Afghanistan, Islamic Rep. of",
         "AF",
         "AFG",
         "Temperature change with respect to a baseline climatology, corresponding to the period 1951-1980",
         "Degree Celsius",
         "Food and Agriculture Organization of the United Nations (FAO). 2022. FAOSTAT Climate Change, Climate Indicators, Temperature change. License: CC BY-NC-SA 3.0 IGO. Extracted from: https://www.fao.org/faostat/en/#data/ET. Accessed on 2023-03-28.",
         "ECCS",
         "Surface Temperature Change",
         "Environment, Climate Change, Climate Indicators, Surface Temperature Change",
         -0.113,
         -0.164,
         0.847,
         -0.764,
         -0.244,
         0.226,
         -0.371,
         -0.423,
         -0.539,
         0.813,
         0.619,
         -1.124,
         0.232,
         -0.489,
         -0.445,
         -0.286,
         0.513,
         0.129,
         0.361,
         0.6,
         0.483,
         -0.346,
         0.164,
         0.145,
         0.283,
         -0.141,
         0.391,
         0.919,
         -0.205,
         0.73,
         -0.168,
         -0.294,
         0.22,
         0.43,
         0.359,
         -0.116,
         0.471,
         0.675,
         1.198,
         0.993,
         1.311,
         1.365,
         0.587,
         1.373,
         0.401,
         1.72,
         0.675,
         0.704,
         0.895,
         1.613,
         1.397,
         0.223,
         1.281,
         0.456,
         1.093,
         1.555,
         1.54,
         1.544,
         0.91,
         0.498,
         1.327,
         2.012
        ],
        [
         2,
         "Albania",
         "AL",
         "ALB",
         "Temperature change with respect to a baseline climatology, corresponding to the period 1951-1980",
         "Degree Celsius",
         "Food and Agriculture Organization of the United Nations (FAO). 2022. FAOSTAT Climate Change, Climate Indicators, Temperature change. License: CC BY-NC-SA 3.0 IGO. Extracted from: https://www.fao.org/faostat/en/#data/ET. Accessed on 2023-03-28.",
         "ECCS",
         "Surface Temperature Change",
         "Environment, Climate Change, Climate Indicators, Surface Temperature Change",
         0.627,
         0.326,
         0.075,
         -0.166,
         -0.388,
         0.559,
         -0.074,
         0.081,
         -0.013,
         -0.106,
         -0.195,
         -0.069,
         -0.288,
         -0.139,
         -0.211,
         -0.683,
         0.545,
         -0.814,
         0.203,
         -0.414,
         -0.351,
         0.173,
         -0.128,
         -0.27,
         -0.103,
         0.569,
         -0.106,
         0.37,
         -0.066,
         0.795,
         -0.269,
         0.106,
         0.076,
         1.33,
         -0.172,
         -0.038,
         0.075,
         0.795,
         0.67,
         1.065,
         1.532,
         0.492,
         0.97,
         0.444,
         0.189,
         0.345,
         1.316,
         0.978,
         0.91,
         1.191,
         1.055,
         1.487,
         1.333,
         1.198,
         1.569,
         1.464,
         1.121,
         2.028,
         1.675,
         1.498,
         1.536,
         1.518
        ],
        [
         3,
         "Algeria",
         "DZ",
         "DZA",
         "Temperature change with respect to a baseline climatology, corresponding to the period 1951-1980",
         "Degree Celsius",
         "Food and Agriculture Organization of the United Nations (FAO). 2022. FAOSTAT Climate Change, Climate Indicators, Temperature change. License: CC BY-NC-SA 3.0 IGO. Extracted from: https://www.fao.org/faostat/en/#data/ET. Accessed on 2023-03-28.",
         "ECCS",
         "Surface Temperature Change",
         "Environment, Climate Change, Climate Indicators, Surface Temperature Change",
         0.164,
         0.114,
         0.077,
         0.25,
         -0.1,
         0.433,
         -0.026,
         -0.067,
         0.291,
         0.116,
         -0.385,
         -0.348,
         -0.015,
         -0.503,
         -0.539,
         -0.782,
         0.504,
         0.012,
         0.654,
         0.232,
         0.215,
         0.399,
         0.56,
         -0.004,
         0.508,
         0.296,
         0.975,
         1.304,
         0.386,
         1.266,
         0.031,
         -0.312,
         0.552,
         0.732,
         0.595,
         0.846,
         1.059,
         1.109,
         1.476,
         0.82,
         1.856,
         1.258,
         1.585,
         0.988,
         1.264,
         1.395,
         1.22,
         1.185,
         0.945,
         2.265,
         1.398,
         1.147,
         1.192,
         1.69,
         1.121,
         1.757,
         1.512,
         1.21,
         1.115,
         1.926,
         2.33,
         1.688
        ],
        [
         4,
         "American Samoa",
         "AS",
         "ASM",
         "Temperature change with respect to a baseline climatology, corresponding to the period 1951-1980",
         "Degree Celsius",
         "Food and Agriculture Organization of the United Nations (FAO). 2022. FAOSTAT Climate Change, Climate Indicators, Temperature change. License: CC BY-NC-SA 3.0 IGO. Extracted from: https://www.fao.org/faostat/en/#data/ET. Accessed on 2023-03-28.",
         "ECCS",
         "Surface Temperature Change",
         "Environment, Climate Change, Climate Indicators, Surface Temperature Change",
         0.079,
         -0.042,
         0.169,
         -0.14,
         -0.562,
         0.181,
         -0.368,
         -0.187,
         0.132,
         -0.047,
         -0.477,
         -0.067,
         0.33,
         -0.308,
         -0.118,
         -0.177,
         0.156,
         0.092,
         0.341,
         0.35,
         0.179,
         0.28,
         0.313,
         0.277,
         0.256,
         0.394,
         0.354,
         0.509,
         0.143,
         0.497,
         0.641,
         0.344,
         -0.069,
         0.189,
         0.755,
         0.784,
         null,
         null,
         0.242,
         0.626,
         0.904,
         1.152,
         0.716,
         0.191,
         0.801,
         0.403,
         1.032,
         0.67,
         null,
         1.311,
         0.854,
         0.924,
         1.257,
         1.17,
         1.009,
         1.539,
         1.435,
         1.189,
         1.539,
         1.43,
         1.268,
         1.256
        ],
        [
         5,
         "Andorra, Principality of",
         "AD",
         "AND",
         "Temperature change with respect to a baseline climatology, corresponding to the period 1951-1980",
         "Degree Celsius",
         "Food and Agriculture Organization of the United Nations (FAO). 2022. FAOSTAT Climate Change, Climate Indicators, Temperature change. License: CC BY-NC-SA 3.0 IGO. Extracted from: https://www.fao.org/faostat/en/#data/ET. Accessed on 2023-03-28.",
         "ECCS",
         "Surface Temperature Change",
         "Environment, Climate Change, Climate Indicators, Surface Temperature Change",
         0.736,
         0.112,
         -0.752,
         0.308,
         -0.49,
         0.415,
         0.637,
         0.018,
         -0.137,
         0.121,
         -0.326,
         -0.499,
         0.025,
         -0.371,
         0.246,
         -0.045,
         -0.093,
         -0.163,
         0.058,
         -0.188,
         0.178,
         1.044,
         0.859,
         -0.157,
         0.059,
         0.387,
         0.397,
         0.883,
         1.162,
         1.736,
         0.231,
         0.386,
         0.174,
         1.508,
         1.279,
         0.57,
         1.788,
         1.018,
         1.055,
         1.05,
         1.48,
         0.835,
         1.949,
         0.936,
         0.851,
         1.485,
         1.024,
         0.946,
         1.413,
         0.471,
         1.677,
         1.265,
         0.831,
         1.946,
         1.69,
         1.99,
         1.925,
         1.919,
         1.964,
         2.562,
         1.533,
         3.243
        ]
       ],
       "datasetInfos": [],
       "dbfsResultPath": null,
       "isJsonSchema": true,
       "metadata": {},
       "overflow": false,
       "plotOptions": {
        "customPlotOptions": {},
        "displayType": "table",
        "pivotAggregation": null,
        "pivotColumns": null,
        "xColumns": null,
        "yColumns": null
       },
       "removedWidgets": [],
       "schema": [
        {
         "metadata": "{}",
         "name": "ObjectId",
         "type": "\"integer\""
        },
        {
         "metadata": "{}",
         "name": "Country",
         "type": "\"string\""
        },
        {
         "metadata": "{}",
         "name": "ISO2",
         "type": "\"string\""
        },
        {
         "metadata": "{}",
         "name": "ISO3",
         "type": "\"string\""
        },
        {
         "metadata": "{}",
         "name": "Indicator",
         "type": "\"string\""
        },
        {
         "metadata": "{}",
         "name": "Unit",
         "type": "\"string\""
        },
        {
         "metadata": "{}",
         "name": "Source",
         "type": "\"string\""
        },
        {
         "metadata": "{}",
         "name": "CTS_Code",
         "type": "\"string\""
        },
        {
         "metadata": "{}",
         "name": "CTS_Name",
         "type": "\"string\""
        },
        {
         "metadata": "{}",
         "name": "CTS_Full_Descriptor",
         "type": "\"string\""
        },
        {
         "metadata": "{}",
         "name": "F1961",
         "type": "\"double\""
        },
        {
         "metadata": "{}",
         "name": "F1962",
         "type": "\"double\""
        },
        {
         "metadata": "{}",
         "name": "F1963",
         "type": "\"double\""
        },
        {
         "metadata": "{}",
         "name": "F1964",
         "type": "\"double\""
        },
        {
         "metadata": "{}",
         "name": "F1965",
         "type": "\"double\""
        },
        {
         "metadata": "{}",
         "name": "F1966",
         "type": "\"double\""
        },
        {
         "metadata": "{}",
         "name": "F1967",
         "type": "\"double\""
        },
        {
         "metadata": "{}",
         "name": "F1968",
         "type": "\"double\""
        },
        {
         "metadata": "{}",
         "name": "F1969",
         "type": "\"double\""
        },
        {
         "metadata": "{}",
         "name": "F1970",
         "type": "\"double\""
        },
        {
         "metadata": "{}",
         "name": "F1971",
         "type": "\"double\""
        },
        {
         "metadata": "{}",
         "name": "F1972",
         "type": "\"double\""
        },
        {
         "metadata": "{}",
         "name": "F1973",
         "type": "\"double\""
        },
        {
         "metadata": "{}",
         "name": "F1974",
         "type": "\"double\""
        },
        {
         "metadata": "{}",
         "name": "F1975",
         "type": "\"double\""
        },
        {
         "metadata": "{}",
         "name": "F1976",
         "type": "\"double\""
        },
        {
         "metadata": "{}",
         "name": "F1977",
         "type": "\"double\""
        },
        {
         "metadata": "{}",
         "name": "F1978",
         "type": "\"double\""
        },
        {
         "metadata": "{}",
         "name": "F1979",
         "type": "\"double\""
        },
        {
         "metadata": "{}",
         "name": "F1980",
         "type": "\"double\""
        },
        {
         "metadata": "{}",
         "name": "F1981",
         "type": "\"double\""
        },
        {
         "metadata": "{}",
         "name": "F1982",
         "type": "\"double\""
        },
        {
         "metadata": "{}",
         "name": "F1983",
         "type": "\"double\""
        },
        {
         "metadata": "{}",
         "name": "F1984",
         "type": "\"double\""
        },
        {
         "metadata": "{}",
         "name": "F1985",
         "type": "\"double\""
        },
        {
         "metadata": "{}",
         "name": "F1986",
         "type": "\"double\""
        },
        {
         "metadata": "{}",
         "name": "F1987",
         "type": "\"double\""
        },
        {
         "metadata": "{}",
         "name": "F1988",
         "type": "\"double\""
        },
        {
         "metadata": "{}",
         "name": "F1989",
         "type": "\"double\""
        },
        {
         "metadata": "{}",
         "name": "F1990",
         "type": "\"double\""
        },
        {
         "metadata": "{}",
         "name": "F1991",
         "type": "\"double\""
        },
        {
         "metadata": "{}",
         "name": "F1992",
         "type": "\"double\""
        },
        {
         "metadata": "{}",
         "name": "F1993",
         "type": "\"double\""
        },
        {
         "metadata": "{}",
         "name": "F1994",
         "type": "\"double\""
        },
        {
         "metadata": "{}",
         "name": "F1995",
         "type": "\"double\""
        },
        {
         "metadata": "{}",
         "name": "F1996",
         "type": "\"double\""
        },
        {
         "metadata": "{}",
         "name": "F1997",
         "type": "\"double\""
        },
        {
         "metadata": "{}",
         "name": "F1998",
         "type": "\"double\""
        },
        {
         "metadata": "{}",
         "name": "F1999",
         "type": "\"double\""
        },
        {
         "metadata": "{}",
         "name": "F2000",
         "type": "\"double\""
        },
        {
         "metadata": "{}",
         "name": "F2001",
         "type": "\"double\""
        },
        {
         "metadata": "{}",
         "name": "F2002",
         "type": "\"double\""
        },
        {
         "metadata": "{}",
         "name": "F2003",
         "type": "\"double\""
        },
        {
         "metadata": "{}",
         "name": "F2004",
         "type": "\"double\""
        },
        {
         "metadata": "{}",
         "name": "F2005",
         "type": "\"double\""
        },
        {
         "metadata": "{}",
         "name": "F2006",
         "type": "\"double\""
        },
        {
         "metadata": "{}",
         "name": "F2007",
         "type": "\"double\""
        },
        {
         "metadata": "{}",
         "name": "F2008",
         "type": "\"double\""
        },
        {
         "metadata": "{}",
         "name": "F2009",
         "type": "\"double\""
        },
        {
         "metadata": "{}",
         "name": "F2010",
         "type": "\"double\""
        },
        {
         "metadata": "{}",
         "name": "F2011",
         "type": "\"double\""
        },
        {
         "metadata": "{}",
         "name": "F2012",
         "type": "\"double\""
        },
        {
         "metadata": "{}",
         "name": "F2013",
         "type": "\"double\""
        },
        {
         "metadata": "{}",
         "name": "F2014",
         "type": "\"double\""
        },
        {
         "metadata": "{}",
         "name": "F2015",
         "type": "\"double\""
        },
        {
         "metadata": "{}",
         "name": "F2016",
         "type": "\"double\""
        },
        {
         "metadata": "{}",
         "name": "F2017",
         "type": "\"double\""
        },
        {
         "metadata": "{}",
         "name": "F2018",
         "type": "\"double\""
        },
        {
         "metadata": "{}",
         "name": "F2019",
         "type": "\"double\""
        },
        {
         "metadata": "{}",
         "name": "F2020",
         "type": "\"double\""
        },
        {
         "metadata": "{}",
         "name": "F2021",
         "type": "\"double\""
        },
        {
         "metadata": "{}",
         "name": "F2022",
         "type": "\"double\""
        }
       ],
       "type": "table"
      }
     },
     "output_type": "display_data"
    }
   ],
   "source": [
    "# Criar o schema Bronze\n",
    "spark.sql(\"CREATE SCHEMA IF NOT EXISTS bronze\")\n",
    "\n",
    "# Leitura do CSV\n",
    "df_bronze = (\n",
    "    spark.read\n",
    "    .option(\"header\", True)\n",
    "    .option(\"inferSchema\", True)\n",
    "    .csv(\"dbfs:/FileStore/tables/climate_change_indicators-9.csv\")\n",
    ")\n",
    "\n",
    "# Salvando como Delta Table no schema bronze\n",
    "df_bronze.write.format(\"delta\").mode(\"overwrite\").saveAsTable(\"bronze.climate_change_raw\")\n",
    "\n",
    "# Visualização das primeiras 5 linhas da tabela bronze\n",
    "display(spark.table(\"bronze.climate_change_raw\").limit(5))"
   ]
  },
  {
   "cell_type": "code",
   "execution_count": 0,
   "metadata": {
    "application/vnd.databricks.v1+cell": {
     "cellMetadata": {
      "byteLimit": 2048000,
      "rowLimit": 10000
     },
     "inputWidgets": {},
     "nuid": "ab50e209-0d87-413c-9e0c-fb8ca7ed34f5",
     "showTitle": false,
     "tableResultSettingsMap": {},
     "title": ""
    }
   },
   "outputs": [
    {
     "output_type": "stream",
     "name": "stdout",
     "output_type": "stream",
     "text": [
      "root\n |-- ObjectId: integer (nullable = true)\n |-- Country: string (nullable = true)\n |-- ISO2: string (nullable = true)\n |-- ISO3: string (nullable = true)\n |-- Indicator: string (nullable = true)\n |-- Unit: string (nullable = true)\n |-- Source: string (nullable = true)\n |-- CTS_Code: string (nullable = true)\n |-- CTS_Name: string (nullable = true)\n |-- CTS_Full_Descriptor: string (nullable = true)\n |-- F1961: double (nullable = true)\n |-- F1962: double (nullable = true)\n |-- F1963: double (nullable = true)\n |-- F1964: double (nullable = true)\n |-- F1965: double (nullable = true)\n |-- F1966: double (nullable = true)\n |-- F1967: double (nullable = true)\n |-- F1968: double (nullable = true)\n |-- F1969: double (nullable = true)\n |-- F1970: double (nullable = true)\n |-- F1971: double (nullable = true)\n |-- F1972: double (nullable = true)\n |-- F1973: double (nullable = true)\n |-- F1974: double (nullable = true)\n |-- F1975: double (nullable = true)\n |-- F1976: double (nullable = true)\n |-- F1977: double (nullable = true)\n |-- F1978: double (nullable = true)\n |-- F1979: double (nullable = true)\n |-- F1980: double (nullable = true)\n |-- F1981: double (nullable = true)\n |-- F1982: double (nullable = true)\n |-- F1983: double (nullable = true)\n |-- F1984: double (nullable = true)\n |-- F1985: double (nullable = true)\n |-- F1986: double (nullable = true)\n |-- F1987: double (nullable = true)\n |-- F1988: double (nullable = true)\n |-- F1989: double (nullable = true)\n |-- F1990: double (nullable = true)\n |-- F1991: double (nullable = true)\n |-- F1992: double (nullable = true)\n |-- F1993: double (nullable = true)\n |-- F1994: double (nullable = true)\n |-- F1995: double (nullable = true)\n |-- F1996: double (nullable = true)\n |-- F1997: double (nullable = true)\n |-- F1998: double (nullable = true)\n |-- F1999: double (nullable = true)\n |-- F2000: double (nullable = true)\n |-- F2001: double (nullable = true)\n |-- F2002: double (nullable = true)\n |-- F2003: double (nullable = true)\n |-- F2004: double (nullable = true)\n |-- F2005: double (nullable = true)\n |-- F2006: double (nullable = true)\n |-- F2007: double (nullable = true)\n |-- F2008: double (nullable = true)\n |-- F2009: double (nullable = true)\n |-- F2010: double (nullable = true)\n |-- F2011: double (nullable = true)\n |-- F2012: double (nullable = true)\n |-- F2013: double (nullable = true)\n |-- F2014: double (nullable = true)\n |-- F2015: double (nullable = true)\n |-- F2016: double (nullable = true)\n |-- F2017: double (nullable = true)\n |-- F2018: double (nullable = true)\n |-- F2019: double (nullable = true)\n |-- F2020: double (nullable = true)\n |-- F2021: double (nullable = true)\n |-- F2022: double (nullable = true)\n\n"
     ]
    }
   ],
   "source": [
    "# Leitura da camada bronze\n",
    "df_bronze = spark.table(\"bronze.climate_change_raw\")\n",
    "\n",
    "# Verificar schema atual\n",
    "df_bronze.printSchema()"
   ]
  },
  {
   "cell_type": "markdown",
   "metadata": {
    "application/vnd.databricks.v1+cell": {
     "cellMetadata": {},
     "inputWidgets": {},
     "nuid": "9007bd30-e3e6-4b00-b05b-b5ce1a6e11e8",
     "showTitle": false,
     "tableResultSettingsMap": {},
     "title": ""
    }
   },
   "source": [
    "###  Camada Prata – Transformação\n",
    "\n",
    "A partir deste ponto, foram realizados ajustes nos dados visando a organização e eficiência das análises. Na camada prata serão execudatas as seguintes atividades:\n",
    "\n",
    "  - Conversão de tipos de dados das colunas de ano de double para float.\n",
    "  \n",
    "  - Transformação de colunas ano (F1961, F1962, ..., F2024) para formato longitudinal (unpivot), de forma que cada linha represente um único valor por ano.\n",
    " \n",
    "  - Remoção de colunas não utilizadas ou redundantes, como ISO2.\n",
    "  \n",
    "  - Padronização do nome de países e elementos para garantir consistência.\n",
    "\n"
   ]
  },
  {
   "cell_type": "code",
   "execution_count": 0,
   "metadata": {
    "application/vnd.databricks.v1+cell": {
     "cellMetadata": {
      "byteLimit": 2048000,
      "rowLimit": 10000
     },
     "inputWidgets": {},
     "nuid": "b8819b77-e946-4d85-9c7b-275e55bc0864",
     "showTitle": false,
     "tableResultSettingsMap": {},
     "title": ""
    }
   },
   "outputs": [
    {
     "output_type": "stream",
     "name": "stdout",
     "output_type": "stream",
     "text": [
      "Out[3]: DataFrame[]"
     ]
    }
   ],
   "source": [
    "from pyspark.sql.functions import col, expr\n",
    "\n",
    "# Criação do schema Prata\n",
    "spark.sql(\"CREATE SCHEMA IF NOT EXISTS silver\")\n",
    "\n"
   ]
  },
  {
   "cell_type": "markdown",
   "metadata": {
    "application/vnd.databricks.v1+cell": {
     "cellMetadata": {},
     "inputWidgets": {},
     "nuid": "13467e6c-ebdf-4653-bc1a-814d3f24d4a3",
     "showTitle": false,
     "tableResultSettingsMap": {},
     "title": ""
    }
   },
   "source": [
    "A coluna ISO2 foi removida por conter informação redundante com a coluna ISO3, que também representa a sigla dos países. Optou-se por manter apenas a ISO3, por ser a forma mais comum e padronizada de identificação internacional de países, com três letras, o que facilita a leitura e compreensão.\n",
    "\n",
    "Além disso, os atributos referentes aos anos estavam originalmente no formato double e foram convertidos para o tipo float, que é suficiente para representar valores com pequena variação decimal e possuem a precisão necessária para as análises propostas neste trabalho."
   ]
  },
  {
   "cell_type": "code",
   "execution_count": 0,
   "metadata": {
    "application/vnd.databricks.v1+cell": {
     "cellMetadata": {
      "byteLimit": 2048000,
      "rowLimit": 10000
     },
     "inputWidgets": {},
     "nuid": "4e426ef6-dbf5-4b8c-96d3-50a020d7bd95",
     "showTitle": false,
     "tableResultSettingsMap": {},
     "title": ""
    }
   },
   "outputs": [
    {
     "output_type": "stream",
     "name": "stdout",
     "output_type": "stream",
     "text": [
      "root\n |-- ObjectId: integer (nullable = true)\n |-- Country: string (nullable = true)\n |-- ISO3: string (nullable = true)\n |-- Indicator: string (nullable = true)\n |-- Unit: string (nullable = true)\n |-- Source: string (nullable = true)\n |-- CTS_Code: string (nullable = true)\n |-- CTS_Name: string (nullable = true)\n |-- CTS_Full_Descriptor: string (nullable = true)\n |-- F1961: float (nullable = true)\n |-- F1962: float (nullable = true)\n |-- F1963: float (nullable = true)\n |-- F1964: float (nullable = true)\n |-- F1965: float (nullable = true)\n |-- F1966: float (nullable = true)\n |-- F1967: float (nullable = true)\n |-- F1968: float (nullable = true)\n |-- F1969: float (nullable = true)\n |-- F1970: float (nullable = true)\n |-- F1971: float (nullable = true)\n |-- F1972: float (nullable = true)\n |-- F1973: float (nullable = true)\n |-- F1974: float (nullable = true)\n |-- F1975: float (nullable = true)\n |-- F1976: float (nullable = true)\n |-- F1977: float (nullable = true)\n |-- F1978: float (nullable = true)\n |-- F1979: float (nullable = true)\n |-- F1980: float (nullable = true)\n |-- F1981: float (nullable = true)\n |-- F1982: float (nullable = true)\n |-- F1983: float (nullable = true)\n |-- F1984: float (nullable = true)\n |-- F1985: float (nullable = true)\n |-- F1986: float (nullable = true)\n |-- F1987: float (nullable = true)\n |-- F1988: float (nullable = true)\n |-- F1989: float (nullable = true)\n |-- F1990: float (nullable = true)\n |-- F1991: float (nullable = true)\n |-- F1992: float (nullable = true)\n |-- F1993: float (nullable = true)\n |-- F1994: float (nullable = true)\n |-- F1995: float (nullable = true)\n |-- F1996: float (nullable = true)\n |-- F1997: float (nullable = true)\n |-- F1998: float (nullable = true)\n |-- F1999: float (nullable = true)\n |-- F2000: float (nullable = true)\n |-- F2001: float (nullable = true)\n |-- F2002: float (nullable = true)\n |-- F2003: float (nullable = true)\n |-- F2004: float (nullable = true)\n |-- F2005: float (nullable = true)\n |-- F2006: float (nullable = true)\n |-- F2007: float (nullable = true)\n |-- F2008: float (nullable = true)\n |-- F2009: float (nullable = true)\n |-- F2010: float (nullable = true)\n |-- F2011: float (nullable = true)\n |-- F2012: float (nullable = true)\n |-- F2013: float (nullable = true)\n |-- F2014: float (nullable = true)\n |-- F2015: float (nullable = true)\n |-- F2016: float (nullable = true)\n |-- F2017: float (nullable = true)\n |-- F2018: float (nullable = true)\n |-- F2019: float (nullable = true)\n |-- F2020: float (nullable = true)\n |-- F2021: float (nullable = true)\n |-- F2022: float (nullable = true)\n\n"
     ]
    },
    {
     "output_type": "display_data",
     "data": {
      "text/html": [
       "<style scoped>\n",
       "  .table-result-container {\n",
       "    max-height: 300px;\n",
       "    overflow: auto;\n",
       "  }\n",
       "  table, th, td {\n",
       "    border: 1px solid black;\n",
       "    border-collapse: collapse;\n",
       "  }\n",
       "  th, td {\n",
       "    padding: 5px;\n",
       "  }\n",
       "  th {\n",
       "    text-align: left;\n",
       "  }\n",
       "</style><div class='table-result-container'><table class='table-result'><thead style='background-color: white'><tr><th>ObjectId</th><th>Country</th><th>ISO3</th><th>Indicator</th><th>Unit</th><th>Source</th><th>CTS_Code</th><th>CTS_Name</th><th>CTS_Full_Descriptor</th><th>F1961</th><th>F1962</th><th>F1963</th><th>F1964</th><th>F1965</th><th>F1966</th><th>F1967</th><th>F1968</th><th>F1969</th><th>F1970</th><th>F1971</th><th>F1972</th><th>F1973</th><th>F1974</th><th>F1975</th><th>F1976</th><th>F1977</th><th>F1978</th><th>F1979</th><th>F1980</th><th>F1981</th><th>F1982</th><th>F1983</th><th>F1984</th><th>F1985</th><th>F1986</th><th>F1987</th><th>F1988</th><th>F1989</th><th>F1990</th><th>F1991</th><th>F1992</th><th>F1993</th><th>F1994</th><th>F1995</th><th>F1996</th><th>F1997</th><th>F1998</th><th>F1999</th><th>F2000</th><th>F2001</th><th>F2002</th><th>F2003</th><th>F2004</th><th>F2005</th><th>F2006</th><th>F2007</th><th>F2008</th><th>F2009</th><th>F2010</th><th>F2011</th><th>F2012</th><th>F2013</th><th>F2014</th><th>F2015</th><th>F2016</th><th>F2017</th><th>F2018</th><th>F2019</th><th>F2020</th><th>F2021</th><th>F2022</th></tr></thead><tbody><tr><td>1</td><td>Afghanistan, Islamic Rep. of</td><td>AFG</td><td>Temperature change with respect to a baseline climatology, corresponding to the period 1951-1980</td><td>Degree Celsius</td><td>Food and Agriculture Organization of the United Nations (FAO). 2022. FAOSTAT Climate Change, Climate Indicators, Temperature change. License: CC BY-NC-SA 3.0 IGO. Extracted from: https://www.fao.org/faostat/en/#data/ET. Accessed on 2023-03-28.</td><td>ECCS</td><td>Surface Temperature Change</td><td>Environment, Climate Change, Climate Indicators, Surface Temperature Change</td><td>-0.113</td><td>-0.164</td><td>0.847</td><td>-0.764</td><td>-0.244</td><td>0.226</td><td>-0.371</td><td>-0.423</td><td>-0.539</td><td>0.813</td><td>0.619</td><td>-1.124</td><td>0.232</td><td>-0.489</td><td>-0.445</td><td>-0.286</td><td>0.513</td><td>0.129</td><td>0.361</td><td>0.6</td><td>0.483</td><td>-0.346</td><td>0.164</td><td>0.145</td><td>0.283</td><td>-0.141</td><td>0.391</td><td>0.919</td><td>-0.205</td><td>0.73</td><td>-0.168</td><td>-0.294</td><td>0.22</td><td>0.43</td><td>0.359</td><td>-0.116</td><td>0.471</td><td>0.675</td><td>1.198</td><td>0.993</td><td>1.311</td><td>1.365</td><td>0.587</td><td>1.373</td><td>0.401</td><td>1.72</td><td>0.675</td><td>0.704</td><td>0.895</td><td>1.613</td><td>1.397</td><td>0.223</td><td>1.281</td><td>0.456</td><td>1.093</td><td>1.555</td><td>1.54</td><td>1.544</td><td>0.91</td><td>0.498</td><td>1.327</td><td>2.012</td></tr><tr><td>2</td><td>Albania</td><td>ALB</td><td>Temperature change with respect to a baseline climatology, corresponding to the period 1951-1980</td><td>Degree Celsius</td><td>Food and Agriculture Organization of the United Nations (FAO). 2022. FAOSTAT Climate Change, Climate Indicators, Temperature change. License: CC BY-NC-SA 3.0 IGO. Extracted from: https://www.fao.org/faostat/en/#data/ET. Accessed on 2023-03-28.</td><td>ECCS</td><td>Surface Temperature Change</td><td>Environment, Climate Change, Climate Indicators, Surface Temperature Change</td><td>0.627</td><td>0.326</td><td>0.075</td><td>-0.166</td><td>-0.388</td><td>0.559</td><td>-0.074</td><td>0.081</td><td>-0.013</td><td>-0.106</td><td>-0.195</td><td>-0.069</td><td>-0.288</td><td>-0.139</td><td>-0.211</td><td>-0.683</td><td>0.545</td><td>-0.814</td><td>0.203</td><td>-0.414</td><td>-0.351</td><td>0.173</td><td>-0.128</td><td>-0.27</td><td>-0.103</td><td>0.569</td><td>-0.106</td><td>0.37</td><td>-0.066</td><td>0.795</td><td>-0.269</td><td>0.106</td><td>0.076</td><td>1.33</td><td>-0.172</td><td>-0.038</td><td>0.075</td><td>0.795</td><td>0.67</td><td>1.065</td><td>1.532</td><td>0.492</td><td>0.97</td><td>0.444</td><td>0.189</td><td>0.345</td><td>1.316</td><td>0.978</td><td>0.91</td><td>1.191</td><td>1.055</td><td>1.487</td><td>1.333</td><td>1.198</td><td>1.569</td><td>1.464</td><td>1.121</td><td>2.028</td><td>1.675</td><td>1.498</td><td>1.536</td><td>1.518</td></tr><tr><td>3</td><td>Algeria</td><td>DZA</td><td>Temperature change with respect to a baseline climatology, corresponding to the period 1951-1980</td><td>Degree Celsius</td><td>Food and Agriculture Organization of the United Nations (FAO). 2022. FAOSTAT Climate Change, Climate Indicators, Temperature change. License: CC BY-NC-SA 3.0 IGO. Extracted from: https://www.fao.org/faostat/en/#data/ET. Accessed on 2023-03-28.</td><td>ECCS</td><td>Surface Temperature Change</td><td>Environment, Climate Change, Climate Indicators, Surface Temperature Change</td><td>0.164</td><td>0.114</td><td>0.077</td><td>0.25</td><td>-0.1</td><td>0.433</td><td>-0.026</td><td>-0.067</td><td>0.291</td><td>0.116</td><td>-0.385</td><td>-0.348</td><td>-0.015</td><td>-0.503</td><td>-0.539</td><td>-0.782</td><td>0.504</td><td>0.012</td><td>0.654</td><td>0.232</td><td>0.215</td><td>0.399</td><td>0.56</td><td>-0.004</td><td>0.508</td><td>0.296</td><td>0.975</td><td>1.304</td><td>0.386</td><td>1.266</td><td>0.031</td><td>-0.312</td><td>0.552</td><td>0.732</td><td>0.595</td><td>0.846</td><td>1.059</td><td>1.109</td><td>1.476</td><td>0.82</td><td>1.856</td><td>1.258</td><td>1.585</td><td>0.988</td><td>1.264</td><td>1.395</td><td>1.22</td><td>1.185</td><td>0.945</td><td>2.265</td><td>1.398</td><td>1.147</td><td>1.192</td><td>1.69</td><td>1.121</td><td>1.757</td><td>1.512</td><td>1.21</td><td>1.115</td><td>1.926</td><td>2.33</td><td>1.688</td></tr><tr><td>4</td><td>American Samoa</td><td>ASM</td><td>Temperature change with respect to a baseline climatology, corresponding to the period 1951-1980</td><td>Degree Celsius</td><td>Food and Agriculture Organization of the United Nations (FAO). 2022. FAOSTAT Climate Change, Climate Indicators, Temperature change. License: CC BY-NC-SA 3.0 IGO. Extracted from: https://www.fao.org/faostat/en/#data/ET. Accessed on 2023-03-28.</td><td>ECCS</td><td>Surface Temperature Change</td><td>Environment, Climate Change, Climate Indicators, Surface Temperature Change</td><td>0.079</td><td>-0.042</td><td>0.169</td><td>-0.14</td><td>-0.562</td><td>0.181</td><td>-0.368</td><td>-0.187</td><td>0.132</td><td>-0.047</td><td>-0.477</td><td>-0.067</td><td>0.33</td><td>-0.308</td><td>-0.118</td><td>-0.177</td><td>0.156</td><td>0.092</td><td>0.341</td><td>0.35</td><td>0.179</td><td>0.28</td><td>0.313</td><td>0.277</td><td>0.256</td><td>0.394</td><td>0.354</td><td>0.509</td><td>0.143</td><td>0.497</td><td>0.641</td><td>0.344</td><td>-0.069</td><td>0.189</td><td>0.755</td><td>0.784</td><td>null</td><td>null</td><td>0.242</td><td>0.626</td><td>0.904</td><td>1.152</td><td>0.716</td><td>0.191</td><td>0.801</td><td>0.403</td><td>1.032</td><td>0.67</td><td>null</td><td>1.311</td><td>0.854</td><td>0.924</td><td>1.257</td><td>1.17</td><td>1.009</td><td>1.539</td><td>1.435</td><td>1.189</td><td>1.539</td><td>1.43</td><td>1.268</td><td>1.256</td></tr><tr><td>5</td><td>Andorra, Principality of</td><td>AND</td><td>Temperature change with respect to a baseline climatology, corresponding to the period 1951-1980</td><td>Degree Celsius</td><td>Food and Agriculture Organization of the United Nations (FAO). 2022. FAOSTAT Climate Change, Climate Indicators, Temperature change. License: CC BY-NC-SA 3.0 IGO. Extracted from: https://www.fao.org/faostat/en/#data/ET. Accessed on 2023-03-28.</td><td>ECCS</td><td>Surface Temperature Change</td><td>Environment, Climate Change, Climate Indicators, Surface Temperature Change</td><td>0.736</td><td>0.112</td><td>-0.752</td><td>0.308</td><td>-0.49</td><td>0.415</td><td>0.637</td><td>0.018</td><td>-0.137</td><td>0.121</td><td>-0.326</td><td>-0.499</td><td>0.025</td><td>-0.371</td><td>0.246</td><td>-0.045</td><td>-0.093</td><td>-0.163</td><td>0.058</td><td>-0.188</td><td>0.178</td><td>1.044</td><td>0.859</td><td>-0.157</td><td>0.059</td><td>0.387</td><td>0.397</td><td>0.883</td><td>1.162</td><td>1.736</td><td>0.231</td><td>0.386</td><td>0.174</td><td>1.508</td><td>1.279</td><td>0.57</td><td>1.788</td><td>1.018</td><td>1.055</td><td>1.05</td><td>1.48</td><td>0.835</td><td>1.949</td><td>0.936</td><td>0.851</td><td>1.485</td><td>1.024</td><td>0.946</td><td>1.413</td><td>0.471</td><td>1.677</td><td>1.265</td><td>0.831</td><td>1.946</td><td>1.69</td><td>1.99</td><td>1.925</td><td>1.919</td><td>1.964</td><td>2.562</td><td>1.533</td><td>3.243</td></tr></tbody></table></div>"
      ]
     },
     "metadata": {
      "application/vnd.databricks.v1+output": {
       "addedWidgets": {},
       "aggData": [],
       "aggError": "",
       "aggOverflow": false,
       "aggSchema": [],
       "aggSeriesLimitReached": false,
       "aggType": "",
       "arguments": {},
       "columnCustomDisplayInfos": {},
       "data": [
        [
         1,
         "Afghanistan, Islamic Rep. of",
         "AFG",
         "Temperature change with respect to a baseline climatology, corresponding to the period 1951-1980",
         "Degree Celsius",
         "Food and Agriculture Organization of the United Nations (FAO). 2022. FAOSTAT Climate Change, Climate Indicators, Temperature change. License: CC BY-NC-SA 3.0 IGO. Extracted from: https://www.fao.org/faostat/en/#data/ET. Accessed on 2023-03-28.",
         "ECCS",
         "Surface Temperature Change",
         "Environment, Climate Change, Climate Indicators, Surface Temperature Change",
         -0.113,
         -0.164,
         0.847,
         -0.764,
         -0.244,
         0.226,
         -0.371,
         -0.423,
         -0.539,
         0.813,
         0.619,
         -1.124,
         0.232,
         -0.489,
         -0.445,
         -0.286,
         0.513,
         0.129,
         0.361,
         0.6,
         0.483,
         -0.346,
         0.164,
         0.145,
         0.283,
         -0.141,
         0.391,
         0.919,
         -0.205,
         0.73,
         -0.168,
         -0.294,
         0.22,
         0.43,
         0.359,
         -0.116,
         0.471,
         0.675,
         1.198,
         0.993,
         1.311,
         1.365,
         0.587,
         1.373,
         0.401,
         1.72,
         0.675,
         0.704,
         0.895,
         1.613,
         1.397,
         0.223,
         1.281,
         0.456,
         1.093,
         1.555,
         1.54,
         1.544,
         0.91,
         0.498,
         1.327,
         2.012
        ],
        [
         2,
         "Albania",
         "ALB",
         "Temperature change with respect to a baseline climatology, corresponding to the period 1951-1980",
         "Degree Celsius",
         "Food and Agriculture Organization of the United Nations (FAO). 2022. FAOSTAT Climate Change, Climate Indicators, Temperature change. License: CC BY-NC-SA 3.0 IGO. Extracted from: https://www.fao.org/faostat/en/#data/ET. Accessed on 2023-03-28.",
         "ECCS",
         "Surface Temperature Change",
         "Environment, Climate Change, Climate Indicators, Surface Temperature Change",
         0.627,
         0.326,
         0.075,
         -0.166,
         -0.388,
         0.559,
         -0.074,
         0.081,
         -0.013,
         -0.106,
         -0.195,
         -0.069,
         -0.288,
         -0.139,
         -0.211,
         -0.683,
         0.545,
         -0.814,
         0.203,
         -0.414,
         -0.351,
         0.173,
         -0.128,
         -0.27,
         -0.103,
         0.569,
         -0.106,
         0.37,
         -0.066,
         0.795,
         -0.269,
         0.106,
         0.076,
         1.33,
         -0.172,
         -0.038,
         0.075,
         0.795,
         0.67,
         1.065,
         1.532,
         0.492,
         0.97,
         0.444,
         0.189,
         0.345,
         1.316,
         0.978,
         0.91,
         1.191,
         1.055,
         1.487,
         1.333,
         1.198,
         1.569,
         1.464,
         1.121,
         2.028,
         1.675,
         1.498,
         1.536,
         1.518
        ],
        [
         3,
         "Algeria",
         "DZA",
         "Temperature change with respect to a baseline climatology, corresponding to the period 1951-1980",
         "Degree Celsius",
         "Food and Agriculture Organization of the United Nations (FAO). 2022. FAOSTAT Climate Change, Climate Indicators, Temperature change. License: CC BY-NC-SA 3.0 IGO. Extracted from: https://www.fao.org/faostat/en/#data/ET. Accessed on 2023-03-28.",
         "ECCS",
         "Surface Temperature Change",
         "Environment, Climate Change, Climate Indicators, Surface Temperature Change",
         0.164,
         0.114,
         0.077,
         0.25,
         -0.1,
         0.433,
         -0.026,
         -0.067,
         0.291,
         0.116,
         -0.385,
         -0.348,
         -0.015,
         -0.503,
         -0.539,
         -0.782,
         0.504,
         0.012,
         0.654,
         0.232,
         0.215,
         0.399,
         0.56,
         -0.004,
         0.508,
         0.296,
         0.975,
         1.304,
         0.386,
         1.266,
         0.031,
         -0.312,
         0.552,
         0.732,
         0.595,
         0.846,
         1.059,
         1.109,
         1.476,
         0.82,
         1.856,
         1.258,
         1.585,
         0.988,
         1.264,
         1.395,
         1.22,
         1.185,
         0.945,
         2.265,
         1.398,
         1.147,
         1.192,
         1.69,
         1.121,
         1.757,
         1.512,
         1.21,
         1.115,
         1.926,
         2.33,
         1.688
        ],
        [
         4,
         "American Samoa",
         "ASM",
         "Temperature change with respect to a baseline climatology, corresponding to the period 1951-1980",
         "Degree Celsius",
         "Food and Agriculture Organization of the United Nations (FAO). 2022. FAOSTAT Climate Change, Climate Indicators, Temperature change. License: CC BY-NC-SA 3.0 IGO. Extracted from: https://www.fao.org/faostat/en/#data/ET. Accessed on 2023-03-28.",
         "ECCS",
         "Surface Temperature Change",
         "Environment, Climate Change, Climate Indicators, Surface Temperature Change",
         0.079,
         -0.042,
         0.169,
         -0.14,
         -0.562,
         0.181,
         -0.368,
         -0.187,
         0.132,
         -0.047,
         -0.477,
         -0.067,
         0.33,
         -0.308,
         -0.118,
         -0.177,
         0.156,
         0.092,
         0.341,
         0.35,
         0.179,
         0.28,
         0.313,
         0.277,
         0.256,
         0.394,
         0.354,
         0.509,
         0.143,
         0.497,
         0.641,
         0.344,
         -0.069,
         0.189,
         0.755,
         0.784,
         null,
         null,
         0.242,
         0.626,
         0.904,
         1.152,
         0.716,
         0.191,
         0.801,
         0.403,
         1.032,
         0.67,
         null,
         1.311,
         0.854,
         0.924,
         1.257,
         1.17,
         1.009,
         1.539,
         1.435,
         1.189,
         1.539,
         1.43,
         1.268,
         1.256
        ],
        [
         5,
         "Andorra, Principality of",
         "AND",
         "Temperature change with respect to a baseline climatology, corresponding to the period 1951-1980",
         "Degree Celsius",
         "Food and Agriculture Organization of the United Nations (FAO). 2022. FAOSTAT Climate Change, Climate Indicators, Temperature change. License: CC BY-NC-SA 3.0 IGO. Extracted from: https://www.fao.org/faostat/en/#data/ET. Accessed on 2023-03-28.",
         "ECCS",
         "Surface Temperature Change",
         "Environment, Climate Change, Climate Indicators, Surface Temperature Change",
         0.736,
         0.112,
         -0.752,
         0.308,
         -0.49,
         0.415,
         0.637,
         0.018,
         -0.137,
         0.121,
         -0.326,
         -0.499,
         0.025,
         -0.371,
         0.246,
         -0.045,
         -0.093,
         -0.163,
         0.058,
         -0.188,
         0.178,
         1.044,
         0.859,
         -0.157,
         0.059,
         0.387,
         0.397,
         0.883,
         1.162,
         1.736,
         0.231,
         0.386,
         0.174,
         1.508,
         1.279,
         0.57,
         1.788,
         1.018,
         1.055,
         1.05,
         1.48,
         0.835,
         1.949,
         0.936,
         0.851,
         1.485,
         1.024,
         0.946,
         1.413,
         0.471,
         1.677,
         1.265,
         0.831,
         1.946,
         1.69,
         1.99,
         1.925,
         1.919,
         1.964,
         2.562,
         1.533,
         3.243
        ]
       ],
       "datasetInfos": [],
       "dbfsResultPath": null,
       "isJsonSchema": true,
       "metadata": {},
       "overflow": false,
       "plotOptions": {
        "customPlotOptions": {},
        "displayType": "table",
        "pivotAggregation": null,
        "pivotColumns": null,
        "xColumns": null,
        "yColumns": null
       },
       "removedWidgets": [],
       "schema": [
        {
         "metadata": "{}",
         "name": "ObjectId",
         "type": "\"integer\""
        },
        {
         "metadata": "{}",
         "name": "Country",
         "type": "\"string\""
        },
        {
         "metadata": "{}",
         "name": "ISO3",
         "type": "\"string\""
        },
        {
         "metadata": "{}",
         "name": "Indicator",
         "type": "\"string\""
        },
        {
         "metadata": "{}",
         "name": "Unit",
         "type": "\"string\""
        },
        {
         "metadata": "{}",
         "name": "Source",
         "type": "\"string\""
        },
        {
         "metadata": "{}",
         "name": "CTS_Code",
         "type": "\"string\""
        },
        {
         "metadata": "{}",
         "name": "CTS_Name",
         "type": "\"string\""
        },
        {
         "metadata": "{}",
         "name": "CTS_Full_Descriptor",
         "type": "\"string\""
        },
        {
         "metadata": "{}",
         "name": "F1961",
         "type": "\"float\""
        },
        {
         "metadata": "{}",
         "name": "F1962",
         "type": "\"float\""
        },
        {
         "metadata": "{}",
         "name": "F1963",
         "type": "\"float\""
        },
        {
         "metadata": "{}",
         "name": "F1964",
         "type": "\"float\""
        },
        {
         "metadata": "{}",
         "name": "F1965",
         "type": "\"float\""
        },
        {
         "metadata": "{}",
         "name": "F1966",
         "type": "\"float\""
        },
        {
         "metadata": "{}",
         "name": "F1967",
         "type": "\"float\""
        },
        {
         "metadata": "{}",
         "name": "F1968",
         "type": "\"float\""
        },
        {
         "metadata": "{}",
         "name": "F1969",
         "type": "\"float\""
        },
        {
         "metadata": "{}",
         "name": "F1970",
         "type": "\"float\""
        },
        {
         "metadata": "{}",
         "name": "F1971",
         "type": "\"float\""
        },
        {
         "metadata": "{}",
         "name": "F1972",
         "type": "\"float\""
        },
        {
         "metadata": "{}",
         "name": "F1973",
         "type": "\"float\""
        },
        {
         "metadata": "{}",
         "name": "F1974",
         "type": "\"float\""
        },
        {
         "metadata": "{}",
         "name": "F1975",
         "type": "\"float\""
        },
        {
         "metadata": "{}",
         "name": "F1976",
         "type": "\"float\""
        },
        {
         "metadata": "{}",
         "name": "F1977",
         "type": "\"float\""
        },
        {
         "metadata": "{}",
         "name": "F1978",
         "type": "\"float\""
        },
        {
         "metadata": "{}",
         "name": "F1979",
         "type": "\"float\""
        },
        {
         "metadata": "{}",
         "name": "F1980",
         "type": "\"float\""
        },
        {
         "metadata": "{}",
         "name": "F1981",
         "type": "\"float\""
        },
        {
         "metadata": "{}",
         "name": "F1982",
         "type": "\"float\""
        },
        {
         "metadata": "{}",
         "name": "F1983",
         "type": "\"float\""
        },
        {
         "metadata": "{}",
         "name": "F1984",
         "type": "\"float\""
        },
        {
         "metadata": "{}",
         "name": "F1985",
         "type": "\"float\""
        },
        {
         "metadata": "{}",
         "name": "F1986",
         "type": "\"float\""
        },
        {
         "metadata": "{}",
         "name": "F1987",
         "type": "\"float\""
        },
        {
         "metadata": "{}",
         "name": "F1988",
         "type": "\"float\""
        },
        {
         "metadata": "{}",
         "name": "F1989",
         "type": "\"float\""
        },
        {
         "metadata": "{}",
         "name": "F1990",
         "type": "\"float\""
        },
        {
         "metadata": "{}",
         "name": "F1991",
         "type": "\"float\""
        },
        {
         "metadata": "{}",
         "name": "F1992",
         "type": "\"float\""
        },
        {
         "metadata": "{}",
         "name": "F1993",
         "type": "\"float\""
        },
        {
         "metadata": "{}",
         "name": "F1994",
         "type": "\"float\""
        },
        {
         "metadata": "{}",
         "name": "F1995",
         "type": "\"float\""
        },
        {
         "metadata": "{}",
         "name": "F1996",
         "type": "\"float\""
        },
        {
         "metadata": "{}",
         "name": "F1997",
         "type": "\"float\""
        },
        {
         "metadata": "{}",
         "name": "F1998",
         "type": "\"float\""
        },
        {
         "metadata": "{}",
         "name": "F1999",
         "type": "\"float\""
        },
        {
         "metadata": "{}",
         "name": "F2000",
         "type": "\"float\""
        },
        {
         "metadata": "{}",
         "name": "F2001",
         "type": "\"float\""
        },
        {
         "metadata": "{}",
         "name": "F2002",
         "type": "\"float\""
        },
        {
         "metadata": "{}",
         "name": "F2003",
         "type": "\"float\""
        },
        {
         "metadata": "{}",
         "name": "F2004",
         "type": "\"float\""
        },
        {
         "metadata": "{}",
         "name": "F2005",
         "type": "\"float\""
        },
        {
         "metadata": "{}",
         "name": "F2006",
         "type": "\"float\""
        },
        {
         "metadata": "{}",
         "name": "F2007",
         "type": "\"float\""
        },
        {
         "metadata": "{}",
         "name": "F2008",
         "type": "\"float\""
        },
        {
         "metadata": "{}",
         "name": "F2009",
         "type": "\"float\""
        },
        {
         "metadata": "{}",
         "name": "F2010",
         "type": "\"float\""
        },
        {
         "metadata": "{}",
         "name": "F2011",
         "type": "\"float\""
        },
        {
         "metadata": "{}",
         "name": "F2012",
         "type": "\"float\""
        },
        {
         "metadata": "{}",
         "name": "F2013",
         "type": "\"float\""
        },
        {
         "metadata": "{}",
         "name": "F2014",
         "type": "\"float\""
        },
        {
         "metadata": "{}",
         "name": "F2015",
         "type": "\"float\""
        },
        {
         "metadata": "{}",
         "name": "F2016",
         "type": "\"float\""
        },
        {
         "metadata": "{}",
         "name": "F2017",
         "type": "\"float\""
        },
        {
         "metadata": "{}",
         "name": "F2018",
         "type": "\"float\""
        },
        {
         "metadata": "{}",
         "name": "F2019",
         "type": "\"float\""
        },
        {
         "metadata": "{}",
         "name": "F2020",
         "type": "\"float\""
        },
        {
         "metadata": "{}",
         "name": "F2021",
         "type": "\"float\""
        },
        {
         "metadata": "{}",
         "name": "F2022",
         "type": "\"float\""
        }
       ],
       "type": "table"
      }
     },
     "output_type": "display_data"
    }
   ],
   "source": [
    "# Remoção da coluna ISO2\n",
    "df_silver = df_bronze.drop(\"ISO2\")\n",
    "\n",
    "\n",
    "# Conversão dos anos F1961–F2022 para float\n",
    "anos = [f\"F{ano}\" for ano in range(1961, 2023)]\n",
    "\n",
    "for col_ano in anos:\n",
    "    df_silver = df_silver.withColumn(col_ano, col(col_ano).cast(\"float\"))\n",
    "\n",
    "# Salvando como Delta Table no schema silver\n",
    "df_silver.write.format(\"delta\").mode(\"overwrite\").saveAsTable(\"silver.climate_change_edited\")\n",
    "\n",
    "# Leitura da camada silver\n",
    "df_silver = spark.table(\"silver.climate_change_edited\")\n",
    "\n",
    "# Verificar schema atual\n",
    "df_silver.printSchema()\n",
    "\n",
    "# Visualização das primeiras 5 linhas da tabela silver\n",
    "display(spark.table(\"silver.climate_change_edited\").limit(5))\n",
    "\n"
   ]
  },
  {
   "cell_type": "markdown",
   "metadata": {
    "application/vnd.databricks.v1+cell": {
     "cellMetadata": {},
     "inputWidgets": {},
     "nuid": "32bdb895-6da1-46b3-a05c-8ed42792eaf3",
     "showTitle": false,
     "tableResultSettingsMap": {},
     "title": ""
    }
   },
   "source": [
    "Os próximos passos consistem em:\n",
    "\n",
    "  - Aplicar a operação de unpivot para transformar as colunas referentes aos anos em linhas, reorganizando os dados em um formato mais adequado para análises temporais;\n",
    "  \n",
    "  - Remover as linhas com valores nulos antes da criação da tabela fato, uma vez que essas informações são desconhecidas e, portanto, não serão consideradas nas análises sobre o comportamento da temperatura na superfície terrestre."
   ]
  },
  {
   "cell_type": "code",
   "execution_count": 0,
   "metadata": {
    "application/vnd.databricks.v1+cell": {
     "cellMetadata": {
      "byteLimit": 2048000,
      "rowLimit": 10000
     },
     "inputWidgets": {},
     "nuid": "6742bf8b-51bf-475e-89e1-621296270791",
     "showTitle": false,
     "tableResultSettingsMap": {},
     "title": ""
    }
   },
   "outputs": [
    {
     "output_type": "display_data",
     "data": {
      "text/html": [
       "<style scoped>\n",
       "  .table-result-container {\n",
       "    max-height: 300px;\n",
       "    overflow: auto;\n",
       "  }\n",
       "  table, th, td {\n",
       "    border: 1px solid black;\n",
       "    border-collapse: collapse;\n",
       "  }\n",
       "  th, td {\n",
       "    padding: 5px;\n",
       "  }\n",
       "  th {\n",
       "    text-align: left;\n",
       "  }\n",
       "</style><div class='table-result-container'><table class='table-result'><thead style='background-color: white'><tr><th>Country</th><th>ISO3</th><th>Indicator</th><th>Unit</th><th>Source</th><th>CTS_Code</th><th>CTS_Name</th><th>CTS_Full_Descriptor</th><th>ano</th><th>valor_temperatura</th></tr></thead><tbody><tr><td>Afghanistan, Islamic Rep. of</td><td>AFG</td><td>Temperature change with respect to a baseline climatology, corresponding to the period 1951-1980</td><td>Degree Celsius</td><td>Food and Agriculture Organization of the United Nations (FAO). 2022. FAOSTAT Climate Change, Climate Indicators, Temperature change. License: CC BY-NC-SA 3.0 IGO. Extracted from: https://www.fao.org/faostat/en/#data/ET. Accessed on 2023-03-28.</td><td>ECCS</td><td>Surface Temperature Change</td><td>Environment, Climate Change, Climate Indicators, Surface Temperature Change</td><td>1961</td><td>-0.113</td></tr><tr><td>Afghanistan, Islamic Rep. of</td><td>AFG</td><td>Temperature change with respect to a baseline climatology, corresponding to the period 1951-1980</td><td>Degree Celsius</td><td>Food and Agriculture Organization of the United Nations (FAO). 2022. FAOSTAT Climate Change, Climate Indicators, Temperature change. License: CC BY-NC-SA 3.0 IGO. Extracted from: https://www.fao.org/faostat/en/#data/ET. Accessed on 2023-03-28.</td><td>ECCS</td><td>Surface Temperature Change</td><td>Environment, Climate Change, Climate Indicators, Surface Temperature Change</td><td>1962</td><td>-0.164</td></tr><tr><td>Afghanistan, Islamic Rep. of</td><td>AFG</td><td>Temperature change with respect to a baseline climatology, corresponding to the period 1951-1980</td><td>Degree Celsius</td><td>Food and Agriculture Organization of the United Nations (FAO). 2022. FAOSTAT Climate Change, Climate Indicators, Temperature change. License: CC BY-NC-SA 3.0 IGO. Extracted from: https://www.fao.org/faostat/en/#data/ET. Accessed on 2023-03-28.</td><td>ECCS</td><td>Surface Temperature Change</td><td>Environment, Climate Change, Climate Indicators, Surface Temperature Change</td><td>1963</td><td>0.847</td></tr><tr><td>Afghanistan, Islamic Rep. of</td><td>AFG</td><td>Temperature change with respect to a baseline climatology, corresponding to the period 1951-1980</td><td>Degree Celsius</td><td>Food and Agriculture Organization of the United Nations (FAO). 2022. FAOSTAT Climate Change, Climate Indicators, Temperature change. License: CC BY-NC-SA 3.0 IGO. Extracted from: https://www.fao.org/faostat/en/#data/ET. Accessed on 2023-03-28.</td><td>ECCS</td><td>Surface Temperature Change</td><td>Environment, Climate Change, Climate Indicators, Surface Temperature Change</td><td>1964</td><td>-0.764</td></tr><tr><td>Afghanistan, Islamic Rep. of</td><td>AFG</td><td>Temperature change with respect to a baseline climatology, corresponding to the period 1951-1980</td><td>Degree Celsius</td><td>Food and Agriculture Organization of the United Nations (FAO). 2022. FAOSTAT Climate Change, Climate Indicators, Temperature change. License: CC BY-NC-SA 3.0 IGO. Extracted from: https://www.fao.org/faostat/en/#data/ET. Accessed on 2023-03-28.</td><td>ECCS</td><td>Surface Temperature Change</td><td>Environment, Climate Change, Climate Indicators, Surface Temperature Change</td><td>1965</td><td>-0.244</td></tr></tbody></table></div>"
      ]
     },
     "metadata": {
      "application/vnd.databricks.v1+output": {
       "addedWidgets": {},
       "aggData": [],
       "aggError": "",
       "aggOverflow": false,
       "aggSchema": [],
       "aggSeriesLimitReached": false,
       "aggType": "",
       "arguments": {},
       "columnCustomDisplayInfos": {},
       "data": [
        [
         "Afghanistan, Islamic Rep. of",
         "AFG",
         "Temperature change with respect to a baseline climatology, corresponding to the period 1951-1980",
         "Degree Celsius",
         "Food and Agriculture Organization of the United Nations (FAO). 2022. FAOSTAT Climate Change, Climate Indicators, Temperature change. License: CC BY-NC-SA 3.0 IGO. Extracted from: https://www.fao.org/faostat/en/#data/ET. Accessed on 2023-03-28.",
         "ECCS",
         "Surface Temperature Change",
         "Environment, Climate Change, Climate Indicators, Surface Temperature Change",
         1961,
         -0.113
        ],
        [
         "Afghanistan, Islamic Rep. of",
         "AFG",
         "Temperature change with respect to a baseline climatology, corresponding to the period 1951-1980",
         "Degree Celsius",
         "Food and Agriculture Organization of the United Nations (FAO). 2022. FAOSTAT Climate Change, Climate Indicators, Temperature change. License: CC BY-NC-SA 3.0 IGO. Extracted from: https://www.fao.org/faostat/en/#data/ET. Accessed on 2023-03-28.",
         "ECCS",
         "Surface Temperature Change",
         "Environment, Climate Change, Climate Indicators, Surface Temperature Change",
         1962,
         -0.164
        ],
        [
         "Afghanistan, Islamic Rep. of",
         "AFG",
         "Temperature change with respect to a baseline climatology, corresponding to the period 1951-1980",
         "Degree Celsius",
         "Food and Agriculture Organization of the United Nations (FAO). 2022. FAOSTAT Climate Change, Climate Indicators, Temperature change. License: CC BY-NC-SA 3.0 IGO. Extracted from: https://www.fao.org/faostat/en/#data/ET. Accessed on 2023-03-28.",
         "ECCS",
         "Surface Temperature Change",
         "Environment, Climate Change, Climate Indicators, Surface Temperature Change",
         1963,
         0.847
        ],
        [
         "Afghanistan, Islamic Rep. of",
         "AFG",
         "Temperature change with respect to a baseline climatology, corresponding to the period 1951-1980",
         "Degree Celsius",
         "Food and Agriculture Organization of the United Nations (FAO). 2022. FAOSTAT Climate Change, Climate Indicators, Temperature change. License: CC BY-NC-SA 3.0 IGO. Extracted from: https://www.fao.org/faostat/en/#data/ET. Accessed on 2023-03-28.",
         "ECCS",
         "Surface Temperature Change",
         "Environment, Climate Change, Climate Indicators, Surface Temperature Change",
         1964,
         -0.764
        ],
        [
         "Afghanistan, Islamic Rep. of",
         "AFG",
         "Temperature change with respect to a baseline climatology, corresponding to the period 1951-1980",
         "Degree Celsius",
         "Food and Agriculture Organization of the United Nations (FAO). 2022. FAOSTAT Climate Change, Climate Indicators, Temperature change. License: CC BY-NC-SA 3.0 IGO. Extracted from: https://www.fao.org/faostat/en/#data/ET. Accessed on 2023-03-28.",
         "ECCS",
         "Surface Temperature Change",
         "Environment, Climate Change, Climate Indicators, Surface Temperature Change",
         1965,
         -0.244
        ]
       ],
       "datasetInfos": [],
       "dbfsResultPath": null,
       "isJsonSchema": true,
       "metadata": {},
       "overflow": false,
       "plotOptions": {
        "customPlotOptions": {},
        "displayType": "table",
        "pivotAggregation": null,
        "pivotColumns": null,
        "xColumns": null,
        "yColumns": null
       },
       "removedWidgets": [],
       "schema": [
        {
         "metadata": "{}",
         "name": "Country",
         "type": "\"string\""
        },
        {
         "metadata": "{}",
         "name": "ISO3",
         "type": "\"string\""
        },
        {
         "metadata": "{}",
         "name": "Indicator",
         "type": "\"string\""
        },
        {
         "metadata": "{}",
         "name": "Unit",
         "type": "\"string\""
        },
        {
         "metadata": "{}",
         "name": "Source",
         "type": "\"string\""
        },
        {
         "metadata": "{}",
         "name": "CTS_Code",
         "type": "\"string\""
        },
        {
         "metadata": "{}",
         "name": "CTS_Name",
         "type": "\"string\""
        },
        {
         "metadata": "{}",
         "name": "CTS_Full_Descriptor",
         "type": "\"string\""
        },
        {
         "metadata": "{}",
         "name": "ano",
         "type": "\"integer\""
        },
        {
         "metadata": "{}",
         "name": "valor_temperatura",
         "type": "\"float\""
        }
       ],
       "type": "table"
      }
     },
     "output_type": "display_data"
    }
   ],
   "source": [
    " # Unpivot dos anos\n",
    "stack_expr = \", \".join([f\"'{ano}', `{f'F{ano}'}`\" for ano in range(1961, 2023)])\n",
    "\n",
    "df_unpivot = df_silver.selectExpr(\n",
    "    \"Country\", \"ISO3\", \"Indicator\", \"Unit\", \"Source\",\n",
    "    \"CTS_Code\", \"CTS_Name\", \"CTS_Full_Descriptor\",\n",
    "    f\"stack({len(anos)}, {stack_expr}) as (ano, valor_temperatura)\"\n",
    ").withColumn(\"ano\", col(\"ano\").cast(\"int\"))\n",
    "\n",
    "# Remover linhas com valores nulos\n",
    "df_unpivot = df_unpivot.dropna()\n",
    "\n",
    "# Escreve tabela fato\n",
    "df_unpivot.write.format(\"delta\").mode(\"overwrite\").saveAsTable(\"silver.fato_temperatura_prata\")\n",
    "\n",
    "# Visualização das primeiras 5 linhas da tabela silver\n",
    "display(spark.table(\"silver.fato_temperatura_prata\").limit(5))"
   ]
  },
  {
   "cell_type": "markdown",
   "metadata": {
    "application/vnd.databricks.v1+cell": {
     "cellMetadata": {},
     "inputWidgets": {},
     "nuid": "4a734db0-871e-454f-b85b-e965e1f4caf9",
     "showTitle": false,
     "tableResultSettingsMap": {},
     "title": ""
    }
   },
   "source": [
    "### Camada Ouro – Visualizações e Análises\n",
    "\n",
    "Nesta camada será feita a criação da tabelas finais fato fato_temperatura e das tabelas dimensão:dim_pais, dim_tempo, dim_elemento. Essas versões serão usadas para as análises em SQL feitas com intuito de responder as perguntas feitas no objetivo deste trabalho.\n"
   ]
  },
  {
   "cell_type": "code",
   "execution_count": 0,
   "metadata": {
    "application/vnd.databricks.v1+cell": {
     "cellMetadata": {
      "byteLimit": 2048000,
      "rowLimit": 10000
     },
     "inputWidgets": {},
     "nuid": "3b2c1d81-589f-4484-bda6-8707b9e87952",
     "showTitle": false,
     "tableResultSettingsMap": {},
     "title": ""
    }
   },
   "outputs": [
    {
     "output_type": "stream",
     "name": "stdout",
     "output_type": "stream",
     "text": [
      "Out[16]: DataFrame[]"
     ]
    }
   ],
   "source": [
    "# Criação do schema Ouro\n",
    "spark.sql(\"CREATE SCHEMA IF NOT EXISTS gold\")"
   ]
  },
  {
   "cell_type": "markdown",
   "metadata": {
    "application/vnd.databricks.v1+cell": {
     "cellMetadata": {},
     "inputWidgets": {},
     "nuid": "e8105cc6-59b5-413f-87e2-7486097f2274",
     "showTitle": false,
     "tableResultSettingsMap": {},
     "title": ""
    }
   },
   "source": [
    "> Criacao da tabela Fato \n",
    "\n",
    "Criaçõ da tabela fato final, composta pelas colunas listadas abaixo:\n",
    "\n",
    "- codigo_iso3 - Código ISO3 do pais. Identificador da dimensão país/território\n",
    "- codigo_CTS - Identificador da dimensão elemento climático\n",
    "- ano - Identificador da dimensão tempo\n",
    "- valor_temperatura - Anomalia de temperatura em graus Celsius (diferença da média 1951–1980)\n"
   ]
  },
  {
   "cell_type": "code",
   "execution_count": 0,
   "metadata": {
    "application/vnd.databricks.v1+cell": {
     "cellMetadata": {
      "byteLimit": 2048000,
      "rowLimit": 10000
     },
     "inputWidgets": {},
     "nuid": "5470d233-9fb8-4491-b6df-4b38226386f8",
     "showTitle": false,
     "tableResultSettingsMap": {},
     "title": ""
    }
   },
   "outputs": [
    {
     "output_type": "display_data",
     "data": {
      "text/html": [
       "<style scoped>\n",
       "  .table-result-container {\n",
       "    max-height: 300px;\n",
       "    overflow: auto;\n",
       "  }\n",
       "  table, th, td {\n",
       "    border: 1px solid black;\n",
       "    border-collapse: collapse;\n",
       "  }\n",
       "  th, td {\n",
       "    padding: 5px;\n",
       "  }\n",
       "  th {\n",
       "    text-align: left;\n",
       "  }\n",
       "</style><div class='table-result-container'><table class='table-result'><thead style='background-color: white'><tr><th>codigo_iso3</th><th>codigo_CTS</th><th>ano</th><th>valor_temperatura</th></tr></thead><tbody><tr><td>AFG</td><td>ECCS</td><td>1978</td><td>0.129</td></tr><tr><td>BGD</td><td>ECCS</td><td>1981</td><td>-0.17</td></tr><tr><td>BRB</td><td>ECCS</td><td>1985</td><td>-0.263</td></tr><tr><td>BLR</td><td>ECCS</td><td>2010</td><td>1.461</td></tr><tr><td>BEN</td><td>ECCS</td><td>1972</td><td>0.08</td></tr></tbody></table></div>"
      ]
     },
     "metadata": {
      "application/vnd.databricks.v1+output": {
       "addedWidgets": {},
       "aggData": [],
       "aggError": "",
       "aggOverflow": false,
       "aggSchema": [],
       "aggSeriesLimitReached": false,
       "aggType": "",
       "arguments": {},
       "columnCustomDisplayInfos": {},
       "data": [
        [
         "AFG",
         "ECCS",
         1978,
         0.129
        ],
        [
         "BGD",
         "ECCS",
         1981,
         -0.17
        ],
        [
         "BRB",
         "ECCS",
         1985,
         -0.263
        ],
        [
         "BLR",
         "ECCS",
         2010,
         1.461
        ],
        [
         "BEN",
         "ECCS",
         1972,
         0.08
        ]
       ],
       "datasetInfos": [],
       "dbfsResultPath": null,
       "isJsonSchema": true,
       "metadata": {},
       "overflow": false,
       "plotOptions": {
        "customPlotOptions": {},
        "displayType": "table",
        "pivotAggregation": null,
        "pivotColumns": null,
        "xColumns": null,
        "yColumns": null
       },
       "removedWidgets": [],
       "schema": [
        {
         "metadata": "{}",
         "name": "codigo_iso3",
         "type": "\"string\""
        },
        {
         "metadata": "{}",
         "name": "codigo_CTS",
         "type": "\"string\""
        },
        {
         "metadata": "{}",
         "name": "ano",
         "type": "\"integer\""
        },
        {
         "metadata": "{}",
         "name": "valor_temperatura",
         "type": "\"float\""
        }
       ],
       "type": "table"
      }
     },
     "output_type": "display_data"
    }
   ],
   "source": [
    "# Escreve tabela fato\n",
    "df_fato_gold = df_unpivot \\\n",
    "    .select(\"ISO3\", \"CTS_Code\", \"ano\", \"valor_temperatura\") \\\n",
    "    .distinct() \\\n",
    "    .withColumnRenamed(\"CTS_Code\", \"codigo_CTS\") \\\n",
    "    .withColumnRenamed(\"ISO3\", \"codigo_iso3\")\n",
    "\n",
    "df_fato_gold.write \\\n",
    "    .format(\"delta\") \\\n",
    "    .mode(\"overwrite\") \\\n",
    "    .option(\"overwriteSchema\", \"true\") \\\n",
    "    .saveAsTable(\"gold.fato_temperatura\")\n",
    "\n",
    "# Visualização das primeiras 5 linhas da tabela silver\n",
    "display(spark.table(\"gold.fato_temperatura\").limit(5))"
   ]
  },
  {
   "cell_type": "markdown",
   "metadata": {
    "application/vnd.databricks.v1+cell": {
     "cellMetadata": {},
     "inputWidgets": {},
     "nuid": "3652d251-40be-485a-aa69-a7dd0eea104d",
     "showTitle": false,
     "tableResultSettingsMap": {},
     "title": ""
    }
   },
   "source": [
    "> Tabela Dimensao Pais\n",
    "\n",
    "Criação da tabela de dimensão País com as seguintes colunas:\n",
    "\n",
    "- codigo_iso3 - Código ISO3 do pais\n",
    "- nome_pais - Nome do país ou território\n"
   ]
  },
  {
   "cell_type": "code",
   "execution_count": 0,
   "metadata": {
    "application/vnd.databricks.v1+cell": {
     "cellMetadata": {
      "byteLimit": 2048000,
      "rowLimit": 10000
     },
     "inputWidgets": {},
     "nuid": "921c3910-b29d-49c6-be3a-019fdd8e711a",
     "showTitle": false,
     "tableResultSettingsMap": {},
     "title": ""
    }
   },
   "outputs": [
    {
     "output_type": "display_data",
     "data": {
      "text/html": [
       "<style scoped>\n",
       "  .table-result-container {\n",
       "    max-height: 300px;\n",
       "    overflow: auto;\n",
       "  }\n",
       "  table, th, td {\n",
       "    border: 1px solid black;\n",
       "    border-collapse: collapse;\n",
       "  }\n",
       "  th, td {\n",
       "    padding: 5px;\n",
       "  }\n",
       "  th {\n",
       "    text-align: left;\n",
       "  }\n",
       "</style><div class='table-result-container'><table class='table-result'><thead style='background-color: white'><tr><th>nome_pais</th><th>codigo_iso3</th></tr></thead><tbody><tr><td>Faroe Islands</td><td>FRO</td></tr><tr><td>Bhutan</td><td>BTN</td></tr><tr><td>Zambia</td><td>ZMB</td></tr><tr><td>Indonesia</td><td>IDN</td></tr><tr><td>Iraq</td><td>IRQ</td></tr></tbody></table></div>"
      ]
     },
     "metadata": {
      "application/vnd.databricks.v1+output": {
       "addedWidgets": {},
       "aggData": [],
       "aggError": "",
       "aggOverflow": false,
       "aggSchema": [],
       "aggSeriesLimitReached": false,
       "aggType": "",
       "arguments": {},
       "columnCustomDisplayInfos": {},
       "data": [
        [
         "Faroe Islands",
         "FRO"
        ],
        [
         "Bhutan",
         "BTN"
        ],
        [
         "Zambia",
         "ZMB"
        ],
        [
         "Indonesia",
         "IDN"
        ],
        [
         "Iraq",
         "IRQ"
        ]
       ],
       "datasetInfos": [],
       "dbfsResultPath": null,
       "isJsonSchema": true,
       "metadata": {},
       "overflow": false,
       "plotOptions": {
        "customPlotOptions": {},
        "displayType": "table",
        "pivotAggregation": null,
        "pivotColumns": null,
        "xColumns": null,
        "yColumns": null
       },
       "removedWidgets": [],
       "schema": [
        {
         "metadata": "{}",
         "name": "nome_pais",
         "type": "\"string\""
        },
        {
         "metadata": "{}",
         "name": "codigo_iso3",
         "type": "\"string\""
        }
       ],
       "type": "table"
      }
     },
     "output_type": "display_data"
    }
   ],
   "source": [
    "# Tabela dimensão país\n",
    "df_dim_pais_gold = df_unpivot.select(\"Country\", \"ISO3\").distinct() \\\n",
    "    .withColumnRenamed(\"Country\", \"nome_pais\") \\\n",
    "    .withColumnRenamed(\"ISO3\", \"codigo_iso3\") \\\n",
    "    .write.format(\"delta\").mode(\"overwrite\").saveAsTable(\"gold.dim_pais\")\n",
    "\n",
    "# Visualização das primeiras 5 linhas da tabela silver\n",
    "display(spark.table(\"gold.dim_pais\").limit(5))"
   ]
  },
  {
   "cell_type": "markdown",
   "metadata": {
    "application/vnd.databricks.v1+cell": {
     "cellMetadata": {},
     "inputWidgets": {},
     "nuid": "81e90014-9208-44d9-be8a-34a7858afca0",
     "showTitle": false,
     "tableResultSettingsMap": {},
     "title": ""
    }
   },
   "source": [
    "> Tabela Dimensao Tempo\n",
    "\n",
    "Criação da tabela de dimensão Tempo com as seguintes colunas:\n",
    "\n",
    "- ano -\tAno da observação\n",
    "- decada - Decada da observação\n"
   ]
  },
  {
   "cell_type": "code",
   "execution_count": 0,
   "metadata": {
    "application/vnd.databricks.v1+cell": {
     "cellMetadata": {
      "byteLimit": 2048000,
      "rowLimit": 10000
     },
     "inputWidgets": {},
     "nuid": "9bdbe949-aff8-407e-a284-f52e49096b25",
     "showTitle": false,
     "tableResultSettingsMap": {
      "0": {
       "dataGridStateBlob": null,
       "filterBlob": "{\"filterGroups\":[{\"enabled\":true,\"filterGroupId\":\"fg_c4e6b7f0\",\"op\":\"OR\",\"filters\":[{\"filterId\":\"f_73e34925\",\"enabled\":true,\"columnId\":\"ano\",\"dataType\":\"integer\",\"filterType\":\"oneof\"}],\"local\":false,\"updatedAt\":1743907336372}],\"syncTimestamp\":1743907336372}",
       "queryPlanFiltersBlob": null,
       "tableResultIndex": 0
      }
     },
     "title": ""
    }
   },
   "outputs": [
    {
     "output_type": "display_data",
     "data": {
      "text/html": [
       "<style scoped>\n",
       "  .table-result-container {\n",
       "    max-height: 300px;\n",
       "    overflow: auto;\n",
       "  }\n",
       "  table, th, td {\n",
       "    border: 1px solid black;\n",
       "    border-collapse: collapse;\n",
       "  }\n",
       "  th, td {\n",
       "    padding: 5px;\n",
       "  }\n",
       "  th {\n",
       "    text-align: left;\n",
       "  }\n",
       "</style><div class='table-result-container'><table class='table-result'><thead style='background-color: white'><tr><th>ano</th><th>decada</th></tr></thead><tbody><tr><td>1990</td><td>1990</td></tr><tr><td>1975</td><td>1970</td></tr><tr><td>1977</td><td>1970</td></tr><tr><td>2003</td><td>2000</td></tr><tr><td>2007</td><td>2000</td></tr></tbody></table></div>"
      ]
     },
     "metadata": {
      "application/vnd.databricks.v1+output": {
       "addedWidgets": {},
       "aggData": [],
       "aggError": "",
       "aggOverflow": false,
       "aggSchema": [],
       "aggSeriesLimitReached": false,
       "aggType": "",
       "arguments": {},
       "columnCustomDisplayInfos": {},
       "data": [
        [
         1990,
         1990
        ],
        [
         1975,
         1970
        ],
        [
         1977,
         1970
        ],
        [
         2003,
         2000
        ],
        [
         2007,
         2000
        ]
       ],
       "datasetInfos": [],
       "dbfsResultPath": null,
       "isJsonSchema": true,
       "metadata": {},
       "overflow": false,
       "plotOptions": {
        "customPlotOptions": {},
        "displayType": "table",
        "pivotAggregation": null,
        "pivotColumns": null,
        "xColumns": null,
        "yColumns": null
       },
       "removedWidgets": [],
       "schema": [
        {
         "metadata": "{}",
         "name": "ano",
         "type": "\"integer\""
        },
        {
         "metadata": "{}",
         "name": "decada",
         "type": "\"integer\""
        }
       ],
       "type": "table"
      }
     },
     "output_type": "display_data"
    }
   ],
   "source": [
    "#  Tabela dimensão tempo\n",
    "df_dim_tempo_gold = df_unpivot.select(\"ano\").distinct() \\\n",
    "    .withColumn(\"decada\", (col(\"ano\") / 10).cast(\"int\") * 10) \\\n",
    "    .write.format(\"delta\").mode(\"overwrite\").saveAsTable(\"gold.dim_tempo\")\n",
    "\n",
    "# Visualização das primeiras 5 linhas da tabela silver Dimensao tempo\n",
    "display(spark.table(\"gold.dim_tempo\").limit(5))"
   ]
  },
  {
   "cell_type": "markdown",
   "metadata": {
    "application/vnd.databricks.v1+cell": {
     "cellMetadata": {},
     "inputWidgets": {},
     "nuid": "1e93a4fa-c7de-46e9-bdf4-617afe3bc034",
     "showTitle": false,
     "tableResultSettingsMap": {},
     "title": ""
    }
   },
   "source": [
    "> Tabela Dimensao Indicador\n",
    "\n",
    "Criação da tabela de dimensão Tempo com as seguintes colunas:\n",
    "\n",
    "- nome_indicador - Nome do elemento (climático)\n",
    "- unidade - Unidade de medição \n",
    "- fonte - Fonte dos dados\n",
    "- codigo_CTS - Código do indicador climático\n",
    "- nome_CTS - Nome do indicador climático\n",
    "- descricao_CTS - Descrição completa do indicador climático\n"
   ]
  },
  {
   "cell_type": "code",
   "execution_count": 0,
   "metadata": {
    "application/vnd.databricks.v1+cell": {
     "cellMetadata": {
      "byteLimit": 2048000,
      "rowLimit": 10000
     },
     "inputWidgets": {},
     "nuid": "73f3fe8f-fa8c-4cd2-9fc6-3a43e2600b82",
     "showTitle": false,
     "tableResultSettingsMap": {},
     "title": ""
    }
   },
   "outputs": [
    {
     "output_type": "display_data",
     "data": {
      "text/html": [
       "<style scoped>\n",
       "  .table-result-container {\n",
       "    max-height: 300px;\n",
       "    overflow: auto;\n",
       "  }\n",
       "  table, th, td {\n",
       "    border: 1px solid black;\n",
       "    border-collapse: collapse;\n",
       "  }\n",
       "  th, td {\n",
       "    padding: 5px;\n",
       "  }\n",
       "  th {\n",
       "    text-align: left;\n",
       "  }\n",
       "</style><div class='table-result-container'><table class='table-result'><thead style='background-color: white'><tr><th>nome_indicador</th><th>unidade</th><th>fonte</th><th>codigo_CTS</th><th>nome_CTS</th><th>descricao_CTS</th></tr></thead><tbody><tr><td>Temperature change with respect to a baseline climatology, corresponding to the period 1951-1980</td><td>Degree Celsius</td><td>Food and Agriculture Organization of the United Nations (FAO). 2022. FAOSTAT Climate Change, Climate Indicators, Temperature change. License: CC BY-NC-SA 3.0 IGO. Extracted from: https://www.fao.org/faostat/en/#data/ET. Accessed on 2023-03-28.</td><td>ECCS</td><td>Surface Temperature Change</td><td>Environment, Climate Change, Climate Indicators, Surface Temperature Change</td></tr></tbody></table></div>"
      ]
     },
     "metadata": {
      "application/vnd.databricks.v1+output": {
       "addedWidgets": {},
       "aggData": [],
       "aggError": "",
       "aggOverflow": false,
       "aggSchema": [],
       "aggSeriesLimitReached": false,
       "aggType": "",
       "arguments": {},
       "columnCustomDisplayInfos": {},
       "data": [
        [
         "Temperature change with respect to a baseline climatology, corresponding to the period 1951-1980",
         "Degree Celsius",
         "Food and Agriculture Organization of the United Nations (FAO). 2022. FAOSTAT Climate Change, Climate Indicators, Temperature change. License: CC BY-NC-SA 3.0 IGO. Extracted from: https://www.fao.org/faostat/en/#data/ET. Accessed on 2023-03-28.",
         "ECCS",
         "Surface Temperature Change",
         "Environment, Climate Change, Climate Indicators, Surface Temperature Change"
        ]
       ],
       "datasetInfos": [],
       "dbfsResultPath": null,
       "isJsonSchema": true,
       "metadata": {},
       "overflow": false,
       "plotOptions": {
        "customPlotOptions": {},
        "displayType": "table",
        "pivotAggregation": null,
        "pivotColumns": null,
        "xColumns": null,
        "yColumns": null
       },
       "removedWidgets": [],
       "schema": [
        {
         "metadata": "{}",
         "name": "nome_indicador",
         "type": "\"string\""
        },
        {
         "metadata": "{}",
         "name": "unidade",
         "type": "\"string\""
        },
        {
         "metadata": "{}",
         "name": "fonte",
         "type": "\"string\""
        },
        {
         "metadata": "{}",
         "name": "codigo_CTS",
         "type": "\"string\""
        },
        {
         "metadata": "{}",
         "name": "nome_CTS",
         "type": "\"string\""
        },
        {
         "metadata": "{}",
         "name": "descricao_CTS",
         "type": "\"string\""
        }
       ],
       "type": "table"
      }
     },
     "output_type": "display_data"
    }
   ],
   "source": [
    "# Tabela dimensão indicador\n",
    "df_dim_indicador_gold = df_unpivot .select(\"Indicator\", \"Unit\", \"Source\", \"CTS_Code\", \"CTS_Name\", \"CTS_Full_Descriptor\").distinct() \\\n",
    "    .withColumnRenamed(\"Indicator\", \"nome_indicador\") \\\n",
    "    .withColumnRenamed(\"Unit\", \"unidade\") \\\n",
    "    .withColumnRenamed(\"Source\", \"fonte\") \\\n",
    "    .withColumnRenamed(\"CTS_Code\", \"codigo_CTS\") \\\n",
    "    .withColumnRenamed(\"CTS_Name\", \"nome_CTS\") \\\n",
    "    .withColumnRenamed(\"CTS_Full_Descriptor\", \"descricao_CTS\") \\\n",
    "    .write.format(\"delta\").mode(\"overwrite\").saveAsTable(\"gold.dim_indicador\")\n",
    "\n",
    "# Visualização das primeiras 5 linhas da tabela silver Dimensao Indicador\n",
    "display(spark.table(\"gold.dim_indicador\").limit(5))"
   ]
  },
  {
   "cell_type": "markdown",
   "metadata": {
    "application/vnd.databricks.v1+cell": {
     "cellMetadata": {},
     "inputWidgets": {},
     "nuid": "5ea9d325-29bc-4b94-9d67-13e658f1fa5f",
     "showTitle": false,
     "tableResultSettingsMap": {},
     "title": ""
    }
   },
   "source": [
    "# Análises em SQL\n",
    "\n",
    "Consultas em SQL (Structured Query Language) são amplamente utilizadas em bancos de dados por permitirem extrair, filtrar, agrupar e analisar informações de forma estruturada e eficiente. Essa linguagem é essencial para transformar dados armazenados em insumos valiosos para tomada de decisão. Neste trabalho, utilizaremos consultas em SQL para responder às questões propostas no objetivo, explorando o comportamento das mudanças de temperatura ao longo do tempo e entre diferentes países."
   ]
  },
  {
   "cell_type": "markdown",
   "metadata": {
    "application/vnd.databricks.v1+cell": {
     "cellMetadata": {},
     "inputWidgets": {},
     "nuid": "6d6395b4-3eec-4d3d-9d4c-fc8bf4185792",
     "showTitle": false,
     "tableResultSettingsMap": {},
     "title": ""
    }
   },
   "source": [
    "Compare as temperaturas entre as cinco maiores economias da América do Sul no período entre 1961 e 2022."
   ]
  },
  {
   "cell_type": "markdown",
   "metadata": {
    "application/vnd.databricks.v1+cell": {
     "cellMetadata": {},
     "inputWidgets": {},
     "nuid": "8a3867c5-1c7e-48f8-bc58-43fdce91afeb",
     "showTitle": false,
     "tableResultSettingsMap": {},
     "title": ""
    }
   },
   "source": [
    "Quantos países tiveram  valores de temperatura maiores que 1.5 em 1961? Caso haja, quais foram esses países?"
   ]
  },
  {
   "cell_type": "code",
   "execution_count": 0,
   "metadata": {
    "application/vnd.databricks.v1+cell": {
     "cellMetadata": {
      "byteLimit": 2048000,
      "implicitDf": true,
      "rowLimit": 10000
     },
     "inputWidgets": {},
     "nuid": "194f5a4b-a2ce-4464-a1b8-f9fd6bbbad31",
     "showTitle": false,
     "tableResultSettingsMap": {},
     "title": ""
    }
   },
   "outputs": [
    {
     "output_type": "display_data",
     "data": {
      "text/html": [
       "<style scoped>\n",
       "  .table-result-container {\n",
       "    max-height: 300px;\n",
       "    overflow: auto;\n",
       "  }\n",
       "  table, th, td {\n",
       "    border: 1px solid black;\n",
       "    border-collapse: collapse;\n",
       "  }\n",
       "  th, td {\n",
       "    padding: 5px;\n",
       "  }\n",
       "  th {\n",
       "    text-align: left;\n",
       "  }\n",
       "</style><div class='table-result-container'><table class='table-result'><thead style='background-color: white'><tr><th>quantidade_paises</th></tr></thead><tbody><tr><td>2</td></tr></tbody></table></div>"
      ]
     },
     "metadata": {
      "application/vnd.databricks.v1+output": {
       "addedWidgets": {},
       "aggData": [],
       "aggError": "",
       "aggOverflow": false,
       "aggSchema": [],
       "aggSeriesLimitReached": false,
       "aggType": "",
       "arguments": {},
       "columnCustomDisplayInfos": {},
       "data": [
        [
         2
        ]
       ],
       "datasetInfos": [],
       "dbfsResultPath": null,
       "isJsonSchema": true,
       "metadata": {},
       "overflow": false,
       "plotOptions": {
        "customPlotOptions": {},
        "displayType": "table",
        "pivotAggregation": null,
        "pivotColumns": null,
        "xColumns": null,
        "yColumns": null
       },
       "removedWidgets": [],
       "schema": [
        {
         "metadata": "{}",
         "name": "quantidade_paises",
         "type": "\"long\""
        }
       ],
       "type": "table"
      }
     },
     "output_type": "display_data"
    }
   ],
   "source": [
    "%sql\n",
    "SELECT \n",
    "    COUNT(DISTINCT f.ISO3) AS quantidade_paises\n",
    "FROM \n",
    "    gold.fato_temperatura f\n",
    "WHERE \n",
    "    f.ano = 1961\n",
    "    AND f.valor_temperatura > 1.5;\n"
   ]
  },
  {
   "cell_type": "code",
   "execution_count": 0,
   "metadata": {
    "application/vnd.databricks.v1+cell": {
     "cellMetadata": {
      "byteLimit": 2048000,
      "implicitDf": true,
      "rowLimit": 10000
     },
     "inputWidgets": {},
     "nuid": "007e98c9-e64a-4c32-97a7-508446578e16",
     "showTitle": false,
     "tableResultSettingsMap": {},
     "title": ""
    }
   },
   "outputs": [
    {
     "output_type": "display_data",
     "data": {
      "text/html": [
       "<style scoped>\n",
       "  .table-result-container {\n",
       "    max-height: 300px;\n",
       "    overflow: auto;\n",
       "  }\n",
       "  table, th, td {\n",
       "    border: 1px solid black;\n",
       "    border-collapse: collapse;\n",
       "  }\n",
       "  th, td {\n",
       "    padding: 5px;\n",
       "  }\n",
       "  th {\n",
       "    text-align: left;\n",
       "  }\n",
       "</style><div class='table-result-container'><table class='table-result'><thead style='background-color: white'><tr><th>nome_pais</th><th>Valor_Temperatura</th></tr></thead><tbody><tr><td>Finland</td><td>1.892</td></tr><tr><td>Sweden</td><td>1.563</td></tr></tbody></table></div>"
      ]
     },
     "metadata": {
      "application/vnd.databricks.v1+output": {
       "addedWidgets": {},
       "aggData": [],
       "aggError": "",
       "aggOverflow": false,
       "aggSchema": [],
       "aggSeriesLimitReached": false,
       "aggType": "",
       "arguments": {},
       "columnCustomDisplayInfos": {},
       "data": [
        [
         "Finland",
         1.892
        ],
        [
         "Sweden",
         1.563
        ]
       ],
       "datasetInfos": [],
       "dbfsResultPath": null,
       "isJsonSchema": true,
       "metadata": {},
       "overflow": false,
       "plotOptions": {
        "customPlotOptions": {},
        "displayType": "table",
        "pivotAggregation": null,
        "pivotColumns": null,
        "xColumns": null,
        "yColumns": null
       },
       "removedWidgets": [],
       "schema": [
        {
         "metadata": "{}",
         "name": "nome_pais",
         "type": "\"string\""
        },
        {
         "metadata": "{}",
         "name": "Valor_Temperatura",
         "type": "\"float\""
        }
       ],
       "type": "table"
      }
     },
     "output_type": "display_data"
    }
   ],
   "source": [
    "%sql\n",
    " SELECT \n",
    "    dp.nome_pais,\n",
    "    ROUND(f.valor_temperatura, 3) AS Valor_Temperatura\n",
    "  \n",
    "FROM \n",
    "     gold.fato_temperatura f\n",
    "JOIN gold.dim_pais dp \n",
    "     ON f.codigo_iso3 = dp.codigo_iso3\n",
    "WHERE \n",
    "    f.ano = 1961\n",
    "    AND f.valor_temperatura > 1.5;"
   ]
  },
  {
   "cell_type": "markdown",
   "metadata": {
    "application/vnd.databricks.v1+cell": {
     "cellMetadata": {},
     "inputWidgets": {},
     "nuid": "3f69ce5b-2c98-4435-b271-583bf41f92c2",
     "showTitle": false,
     "tableResultSettingsMap": {},
     "title": ""
    }
   },
   "source": [
    "No ano de 1961 período de coleta de dados apenas dois países, Finlância e Suécia, apresentaram aqueimentos maiores que 1.5 graus Celcius em sua superfície."
   ]
  },
  {
   "cell_type": "markdown",
   "metadata": {
    "application/vnd.databricks.v1+cell": {
     "cellMetadata": {},
     "inputWidgets": {},
     "nuid": "f996acd5-4ebe-4c17-b402-1a9981fe3977",
     "showTitle": false,
     "tableResultSettingsMap": {},
     "title": ""
    }
   },
   "source": [
    "Quantos países tiveram  valores de temperatura maiores que 1.5 em 2022?"
   ]
  },
  {
   "cell_type": "code",
   "execution_count": 0,
   "metadata": {
    "application/vnd.databricks.v1+cell": {
     "cellMetadata": {
      "byteLimit": 2048000,
      "implicitDf": true,
      "rowLimit": 10000
     },
     "inputWidgets": {},
     "nuid": "38838582-a633-4e6d-b015-665d8261c1ce",
     "showTitle": false,
     "tableResultSettingsMap": {},
     "title": ""
    }
   },
   "outputs": [
    {
     "output_type": "display_data",
     "data": {
      "text/html": [
       "<style scoped>\n",
       "  .table-result-container {\n",
       "    max-height: 300px;\n",
       "    overflow: auto;\n",
       "  }\n",
       "  table, th, td {\n",
       "    border: 1px solid black;\n",
       "    border-collapse: collapse;\n",
       "  }\n",
       "  th, td {\n",
       "    padding: 5px;\n",
       "  }\n",
       "  th {\n",
       "    text-align: left;\n",
       "  }\n",
       "</style><div class='table-result-container'><table class='table-result'><thead style='background-color: white'><tr><th>quantidade_paises</th></tr></thead><tbody><tr><td>76</td></tr></tbody></table></div>"
      ]
     },
     "metadata": {
      "application/vnd.databricks.v1+output": {
       "addedWidgets": {},
       "aggData": [],
       "aggError": "",
       "aggOverflow": false,
       "aggSchema": [],
       "aggSeriesLimitReached": false,
       "aggType": "",
       "arguments": {},
       "columnCustomDisplayInfos": {},
       "data": [
        [
         76
        ]
       ],
       "datasetInfos": [],
       "dbfsResultPath": null,
       "isJsonSchema": true,
       "metadata": {},
       "overflow": false,
       "plotOptions": {
        "customPlotOptions": {},
        "displayType": "table",
        "pivotAggregation": null,
        "pivotColumns": null,
        "xColumns": null,
        "yColumns": null
       },
       "removedWidgets": [],
       "schema": [
        {
         "metadata": "{}",
         "name": "quantidade_paises",
         "type": "\"long\""
        }
       ],
       "type": "table"
      }
     },
     "output_type": "display_data"
    }
   ],
   "source": [
    "%sql\n",
    "SELECT \n",
    "    COUNT(DISTINCT f.ISO3) AS quantidade_paises\n",
    "FROM \n",
    "    gold.fato_temperatura f\n",
    "WHERE \n",
    "    f.ano = 2022\n",
    "    AND f.valor_temperatura > 1.5;"
   ]
  },
  {
   "cell_type": "markdown",
   "metadata": {
    "application/vnd.databricks.v1+cell": {
     "cellMetadata": {},
     "inputWidgets": {},
     "nuid": "b56883f9-78a4-4b7b-9664-724bcb4cfbaa",
     "showTitle": false,
     "tableResultSettingsMap": {},
     "title": ""
    }
   },
   "source": [
    "Com o passar dos anos podemos observar que a quantidade de países com aquecimentos mais intensos aumentou significativamente."
   ]
  },
  {
   "cell_type": "markdown",
   "metadata": {
    "application/vnd.databricks.v1+cell": {
     "cellMetadata": {},
     "inputWidgets": {},
     "nuid": "4619470a-3bd1-4def-92fe-c66db122fd2c",
     "showTitle": false,
     "tableResultSettingsMap": {},
     "title": ""
    }
   },
   "source": [
    " Considerando todo o período de coleta de dados (1961 - 20022), qual é a temperatura média global da superficie por ano?"
   ]
  },
  {
   "cell_type": "code",
   "execution_count": 0,
   "metadata": {
    "application/vnd.databricks.v1+cell": {
     "cellMetadata": {
      "byteLimit": 2048000,
      "implicitDf": true,
      "rowLimit": 10000
     },
     "inputWidgets": {},
     "nuid": "e950dbda-68cf-4a14-996b-9eef312bbf0a",
     "showTitle": false,
     "tableResultSettingsMap": {},
     "title": ""
    }
   },
   "outputs": [
    {
     "output_type": "display_data",
     "data": {
      "text/html": [
       "<style scoped>\n",
       "  .table-result-container {\n",
       "    max-height: 300px;\n",
       "    overflow: auto;\n",
       "  }\n",
       "  table, th, td {\n",
       "    border: 1px solid black;\n",
       "    border-collapse: collapse;\n",
       "  }\n",
       "  th, td {\n",
       "    padding: 5px;\n",
       "  }\n",
       "  th {\n",
       "    text-align: left;\n",
       "  }\n",
       "</style><div class='table-result-container'><table class='table-result'><thead style='background-color: white'><tr><th>ano</th><th>media_global</th></tr></thead><tbody><tr><td>1961</td><td>0.16</td></tr><tr><td>1962</td><td>-0.01</td></tr><tr><td>1963</td><td>-0.01</td></tr><tr><td>1964</td><td>-0.07</td></tr><tr><td>1965</td><td>-0.25</td></tr><tr><td>1966</td><td>0.11</td></tr><tr><td>1967</td><td>-0.11</td></tr><tr><td>1968</td><td>-0.2</td></tr><tr><td>1969</td><td>0.16</td></tr><tr><td>1970</td><td>0.09</td></tr><tr><td>1971</td><td>-0.2</td></tr><tr><td>1972</td><td>-0.08</td></tr><tr><td>1973</td><td>0.23</td></tr><tr><td>1974</td><td>-0.16</td></tr><tr><td>1975</td><td>-0.02</td></tr><tr><td>1976</td><td>-0.25</td></tr><tr><td>1977</td><td>0.17</td></tr><tr><td>1978</td><td>0.07</td></tr><tr><td>1979</td><td>0.23</td></tr><tr><td>1980</td><td>0.25</td></tr><tr><td>1981</td><td>0.18</td></tr><tr><td>1982</td><td>0.18</td></tr><tr><td>1983</td><td>0.34</td></tr><tr><td>1984</td><td>0.08</td></tr><tr><td>1985</td><td>0.07</td></tr><tr><td>1986</td><td>0.15</td></tr><tr><td>1987</td><td>0.41</td></tr><tr><td>1988</td><td>0.49</td></tr><tr><td>1989</td><td>0.26</td></tr><tr><td>1990</td><td>0.56</td></tr><tr><td>1991</td><td>0.37</td></tr><tr><td>1992</td><td>0.24</td></tr><tr><td>1993</td><td>0.22</td></tr><tr><td>1994</td><td>0.61</td></tr><tr><td>1995</td><td>0.63</td></tr><tr><td>1996</td><td>0.28</td></tr><tr><td>1997</td><td>0.54</td></tr><tr><td>1998</td><td>0.97</td></tr><tr><td>1999</td><td>0.74</td></tr><tr><td>2000</td><td>0.67</td></tr><tr><td>2001</td><td>0.85</td></tr><tr><td>2002</td><td>0.93</td></tr><tr><td>2003</td><td>0.84</td></tr><tr><td>2004</td><td>0.78</td></tr><tr><td>2005</td><td>0.85</td></tr><tr><td>2006</td><td>0.88</td></tr><tr><td>2007</td><td>1.02</td></tr><tr><td>2008</td><td>0.81</td></tr><tr><td>2009</td><td>0.91</td></tr><tr><td>2010</td><td>1.1</td></tr><tr><td>2011</td><td>0.82</td></tr><tr><td>2012</td><td>0.9</td></tr><tr><td>2013</td><td>0.93</td></tr><tr><td>2014</td><td>1.11</td></tr><tr><td>2015</td><td>1.27</td></tr><tr><td>2016</td><td>1.44</td></tr><tr><td>2017</td><td>1.28</td></tr><tr><td>2018</td><td>1.3</td></tr><tr><td>2019</td><td>1.44</td></tr><tr><td>2020</td><td>1.55</td></tr><tr><td>2021</td><td>1.34</td></tr><tr><td>2022</td><td>1.38</td></tr></tbody></table></div>"
      ]
     },
     "metadata": {
      "application/vnd.databricks.v1+output": {
       "addedWidgets": {},
       "aggData": [],
       "aggError": "",
       "aggOverflow": false,
       "aggSchema": [],
       "aggSeriesLimitReached": false,
       "aggType": "",
       "arguments": {},
       "columnCustomDisplayInfos": {},
       "data": [
        [
         1961,
         0.16
        ],
        [
         1962,
         -0.01
        ],
        [
         1963,
         -0.01
        ],
        [
         1964,
         -0.07
        ],
        [
         1965,
         -0.25
        ],
        [
         1966,
         0.11
        ],
        [
         1967,
         -0.11
        ],
        [
         1968,
         -0.2
        ],
        [
         1969,
         0.16
        ],
        [
         1970,
         0.09
        ],
        [
         1971,
         -0.2
        ],
        [
         1972,
         -0.08
        ],
        [
         1973,
         0.23
        ],
        [
         1974,
         -0.16
        ],
        [
         1975,
         -0.02
        ],
        [
         1976,
         -0.25
        ],
        [
         1977,
         0.17
        ],
        [
         1978,
         0.07
        ],
        [
         1979,
         0.23
        ],
        [
         1980,
         0.25
        ],
        [
         1981,
         0.18
        ],
        [
         1982,
         0.18
        ],
        [
         1983,
         0.34
        ],
        [
         1984,
         0.08
        ],
        [
         1985,
         0.07
        ],
        [
         1986,
         0.15
        ],
        [
         1987,
         0.41
        ],
        [
         1988,
         0.49
        ],
        [
         1989,
         0.26
        ],
        [
         1990,
         0.56
        ],
        [
         1991,
         0.37
        ],
        [
         1992,
         0.24
        ],
        [
         1993,
         0.22
        ],
        [
         1994,
         0.61
        ],
        [
         1995,
         0.63
        ],
        [
         1996,
         0.28
        ],
        [
         1997,
         0.54
        ],
        [
         1998,
         0.97
        ],
        [
         1999,
         0.74
        ],
        [
         2000,
         0.67
        ],
        [
         2001,
         0.85
        ],
        [
         2002,
         0.93
        ],
        [
         2003,
         0.84
        ],
        [
         2004,
         0.78
        ],
        [
         2005,
         0.85
        ],
        [
         2006,
         0.88
        ],
        [
         2007,
         1.02
        ],
        [
         2008,
         0.81
        ],
        [
         2009,
         0.91
        ],
        [
         2010,
         1.1
        ],
        [
         2011,
         0.82
        ],
        [
         2012,
         0.9
        ],
        [
         2013,
         0.93
        ],
        [
         2014,
         1.11
        ],
        [
         2015,
         1.27
        ],
        [
         2016,
         1.44
        ],
        [
         2017,
         1.28
        ],
        [
         2018,
         1.3
        ],
        [
         2019,
         1.44
        ],
        [
         2020,
         1.55
        ],
        [
         2021,
         1.34
        ],
        [
         2022,
         1.38
        ]
       ],
       "datasetInfos": [],
       "dbfsResultPath": null,
       "isJsonSchema": true,
       "metadata": {},
       "overflow": false,
       "plotOptions": {
        "customPlotOptions": {},
        "displayType": "table",
        "pivotAggregation": null,
        "pivotColumns": null,
        "xColumns": null,
        "yColumns": null
       },
       "removedWidgets": [],
       "schema": [
        {
         "metadata": "{}",
         "name": "ano",
         "type": "\"integer\""
        },
        {
         "metadata": "{}",
         "name": "media_global",
         "type": "\"double\""
        }
       ],
       "type": "table"
      }
     },
     "output_type": "display_data"
    },
    {
     "output_type": "display_data",
     "data": {
      "text/plain": [
       "Databricks visualization. Run in Databricks to view."
      ]
     },
     "metadata": {
      "application/vnd.databricks.v1.subcommand+json": {
       "baseErrorDetails": null,
       "bindings": {},
       "collapsed": false,
       "command": "%sql WITH q AS (SELECT DISTINCT ano, ROUND(AVG(valor_temperatura), 2) AS media_global\nFROM silver.fato_temperatura\nGROUP BY ano\nORDER BY ano) SELECT `ano`,`media_global`,`ano` FROM q",
       "commandTitle": "Temperatura Média Global da Superfíce por Ano",
       "commandType": "auto",
       "commandVersion": 0,
       "commentThread": [],
       "commentsVisible": false,
       "contentSha256Hex": null,
       "customPlotOptions": {
        "redashChart": [
         {
          "key": "type",
          "value": "CHART"
         },
         {
          "key": "options",
          "value": {
           "alignYAxesAtZero": true,
           "coefficient": 1,
           "columnConfigurationMap": {
            "series": {
             "column": "ano",
             "id": "column_e5a4637930"
            },
            "x": {
             "column": "ano",
             "id": "column_e5a4637928"
            },
            "y": [
             {
              "column": "media_global",
              "id": "column_e5a4637929"
             }
            ]
           },
           "dateTimeFormat": "DD/MM/YYYY HH:mm",
           "direction": {
            "type": "counterclockwise"
           },
           "error_y": {
            "type": "data",
            "visible": true
           },
           "globalSeriesType": "scatter",
           "legend": {
            "traceorder": "normal"
           },
           "missingValuesAsZero": true,
           "numberFormat": "0,0.[00000]",
           "percentFormat": "0[.]00%",
           "series": {
            "error_y": {
             "type": "data",
             "visible": true
            },
            "stacking": null
           },
           "seriesOptions": {
            "column_e5a4637929": {
             "name": "media_global",
             "yAxis": 0
            }
           },
           "showDataLabels": false,
           "sizemode": "diameter",
           "sortX": true,
           "sortY": true,
           "swappedAxes": false,
           "textFormat": "",
           "useAggregationsUi": true,
           "valuesOptions": {},
           "version": 2,
           "xAxis": {
            "labels": {
             "enabled": true
            },
            "type": "-"
           },
           "yAxis": [
            {
             "type": "-"
            },
            {
             "opposite": true,
             "type": "-"
            }
           ]
          }
         }
        ]
       },
       "datasetPreviewNameToCmdIdMap": {},
       "diffDeletes": [],
       "diffInserts": [],
       "displayType": "redashChart",
       "error": null,
       "errorDetails": null,
       "errorSummary": null,
       "errorTraceType": null,
       "finishTime": 0,
       "globalVars": {},
       "guid": "",
       "height": "auto",
       "hideCommandCode": false,
       "hideCommandResult": false,
       "iPythonMetadata": null,
       "inputWidgets": {},
       "isLockedInExamMode": false,
       "latestUser": "a user",
       "latestUserId": null,
       "listResultMetadata": null,
       "metadata": {},
       "nuid": "b5efb27a-35d2-4852-a19f-ba5fca372497",
       "origId": 0,
       "parentHierarchy": [],
       "pivotAggregation": null,
       "pivotColumns": null,
       "position": 15.0,
       "resultDbfsErrorMessage": null,
       "resultDbfsStatus": "INLINED_IN_TREE",
       "results": null,
       "showCommandTitle": false,
       "startTime": 0,
       "state": "input",
       "streamStates": {},
       "subcommandOptions": {
        "queryPlan": {
         "selects": [
          {
           "column": "ano",
           "type": "column"
          },
          {
           "column": "media_global",
           "type": "column"
          },
          {
           "column": "ano",
           "type": "column"
          }
         ]
        }
       },
       "submitTime": 0,
       "subtype": "tableResultSubCmd.visualization",
       "tableResultIndex": 0,
       "tableResultSettingsMap": {},
       "useConsistentColors": false,
       "version": "CommandV1",
       "width": "auto",
       "workflows": [],
       "xColumns": null,
       "yColumns": null
      }
     },
     "output_type": "display_data"
    }
   ],
   "source": [
    "%sql\n",
    "--\n",
    "SELECT DISTINCT ano, ROUND(AVG(valor_temperatura), 2) AS media_global\n",
    "FROM gold.fato_temperatura\n",
    "GROUP BY ano\n",
    "ORDER BY ano;"
   ]
  },
  {
   "cell_type": "markdown",
   "metadata": {
    "application/vnd.databricks.v1+cell": {
     "cellMetadata": {},
     "inputWidgets": {},
     "nuid": "db21e945-e8e4-411b-bd7a-79afe3ad1d07",
     "showTitle": false,
     "tableResultSettingsMap": {},
     "title": ""
    }
   },
   "source": [
    "Podemos notar que há uma tendência de aumento no valor das anomalias das temperaturas das supefícies, intensificado apartir da década de 90."
   ]
  },
  {
   "cell_type": "markdown",
   "metadata": {
    "application/vnd.databricks.v1+cell": {
     "cellMetadata": {},
     "inputWidgets": {},
     "nuid": "14e871a2-0189-425d-8aa9-13164f8bc6b5",
     "showTitle": false,
     "tableResultSettingsMap": {},
     "title": ""
    }
   },
   "source": [
    "Qual é a temperatura média global por decada?"
   ]
  },
  {
   "cell_type": "code",
   "execution_count": 0,
   "metadata": {
    "application/vnd.databricks.v1+cell": {
     "cellMetadata": {
      "byteLimit": 2048000,
      "implicitDf": true,
      "rowLimit": 10000
     },
     "inputWidgets": {},
     "nuid": "6db814e3-7c83-4c5f-bd6b-7c22d8f8b50b",
     "showTitle": false,
     "tableResultSettingsMap": {},
     "title": ""
    }
   },
   "outputs": [
    {
     "output_type": "display_data",
     "data": {
      "text/html": [
       "<style scoped>\n",
       "  .table-result-container {\n",
       "    max-height: 300px;\n",
       "    overflow: auto;\n",
       "  }\n",
       "  table, th, td {\n",
       "    border: 1px solid black;\n",
       "    border-collapse: collapse;\n",
       "  }\n",
       "  th, td {\n",
       "    padding: 5px;\n",
       "  }\n",
       "  th {\n",
       "    text-align: left;\n",
       "  }\n",
       "</style><div class='table-result-container'><table class='table-result'><thead style='background-color: white'><tr><th>decada</th><th>media_decada</th></tr></thead><tbody><tr><td>1960</td><td>-0.02</td></tr><tr><td>1970</td><td>0.01</td></tr><tr><td>1980</td><td>0.24</td></tr><tr><td>1990</td><td>0.52</td></tr><tr><td>2000</td><td>0.85</td></tr><tr><td>2010</td><td>1.16</td></tr><tr><td>2020</td><td>1.43</td></tr></tbody></table></div>"
      ]
     },
     "metadata": {
      "application/vnd.databricks.v1+output": {
       "addedWidgets": {},
       "aggData": [],
       "aggError": "",
       "aggOverflow": false,
       "aggSchema": [],
       "aggSeriesLimitReached": false,
       "aggType": "",
       "arguments": {},
       "columnCustomDisplayInfos": {},
       "data": [
        [
         1960,
         -0.02
        ],
        [
         1970,
         0.01
        ],
        [
         1980,
         0.24
        ],
        [
         1990,
         0.52
        ],
        [
         2000,
         0.85
        ],
        [
         2010,
         1.16
        ],
        [
         2020,
         1.43
        ]
       ],
       "datasetInfos": [],
       "dbfsResultPath": null,
       "isJsonSchema": true,
       "metadata": {},
       "overflow": false,
       "plotOptions": {
        "customPlotOptions": {},
        "displayType": "table",
        "pivotAggregation": null,
        "pivotColumns": null,
        "xColumns": null,
        "yColumns": null
       },
       "removedWidgets": [],
       "schema": [
        {
         "metadata": "{}",
         "name": "decada",
         "type": "\"integer\""
        },
        {
         "metadata": "{}",
         "name": "media_decada",
         "type": "\"double\""
        }
       ],
       "type": "table"
      }
     },
     "output_type": "display_data"
    },
    {
     "output_type": "display_data",
     "data": {
      "text/plain": [
       "Databricks visualization. Run in Databricks to view."
      ]
     },
     "metadata": {
      "application/vnd.databricks.v1.subcommand+json": {
       "baseErrorDetails": null,
       "bindings": {},
       "collapsed": false,
       "command": "%sql WITH q AS (SELECT t.decada, ROUND(AVG(f.valor_temperatura), 2) AS media_decada\nFROM silver.fato_temperatura f\nJOIN silver.dim_tempo t ON f.ano = t.ano\nGROUP BY t.decada\nORDER BY t.decada) SELECT `decada`,SUM(`media_decada`) `column_e5a4637935` FROM q GROUP BY `decada`",
       "commandTitle": "Temperatura Média Global da Superfície por Década",
       "commandType": "auto",
       "commandVersion": 0,
       "commentThread": [],
       "commentsVisible": false,
       "contentSha256Hex": null,
       "customPlotOptions": {
        "redashChart": [
         {
          "key": "type",
          "value": "CHART"
         },
         {
          "key": "options",
          "value": {
           "alignYAxesAtZero": true,
           "coefficient": 1,
           "columnConfigurationMap": {
            "x": {
             "column": "decada",
             "id": "column_e5a4637934"
            },
            "y": [
             {
              "column": "media_decada",
              "id": "column_e5a4637935",
              "transform": "SUM"
             }
            ]
           },
           "dateTimeFormat": "DD/MM/YYYY HH:mm",
           "direction": {
            "type": "counterclockwise"
           },
           "error_y": {
            "type": "data",
            "visible": true
           },
           "globalSeriesType": "area",
           "isAggregationOn": true,
           "legend": {
            "traceorder": "normal"
           },
           "missingValuesAsZero": true,
           "numberFormat": "0,0.[00000]",
           "percentFormat": "0[.]00%",
           "series": {
            "error_y": {
             "type": "data",
             "visible": true
            },
            "stacking": null
           },
           "seriesOptions": {
            "column_e5a4637935": {
             "color": "#00B6EB",
             "name": "media_decada",
             "type": "area",
             "yAxis": 0
            }
           },
           "showDataLabels": true,
           "sizemode": "diameter",
           "sortX": true,
           "sortY": true,
           "swappedAxes": false,
           "textFormat": "",
           "useAggregationsUi": true,
           "valuesOptions": {},
           "version": 2,
           "xAxis": {
            "labels": {
             "enabled": true
            },
            "type": "-"
           },
           "yAxis": [
            {
             "type": "-"
            },
            {
             "opposite": true,
             "type": "-"
            }
           ]
          }
         }
        ]
       },
       "datasetPreviewNameToCmdIdMap": {},
       "diffDeletes": [],
       "diffInserts": [],
       "displayType": "redashChart",
       "error": null,
       "errorDetails": null,
       "errorSummary": null,
       "errorTraceType": null,
       "finishTime": 0,
       "globalVars": {},
       "guid": "",
       "height": "auto",
       "hideCommandCode": false,
       "hideCommandResult": false,
       "iPythonMetadata": null,
       "inputWidgets": {},
       "isLockedInExamMode": false,
       "latestUser": "a user",
       "latestUserId": null,
       "listResultMetadata": null,
       "metadata": {},
       "nuid": "3d1a79fc-f3c4-436a-884f-2d0fdfbf2318",
       "origId": 0,
       "parentHierarchy": [],
       "pivotAggregation": null,
       "pivotColumns": null,
       "position": 17.0,
       "resultDbfsErrorMessage": null,
       "resultDbfsStatus": "INLINED_IN_TREE",
       "results": null,
       "showCommandTitle": false,
       "startTime": 0,
       "state": "input",
       "streamStates": {},
       "subcommandOptions": {
        "queryPlan": {
         "groups": [
          {
           "column": "decada",
           "type": "column"
          }
         ],
         "selects": [
          {
           "column": "decada",
           "type": "column"
          },
          {
           "alias": "column_e5a4637935",
           "args": [
            {
             "column": "media_decada",
             "type": "column"
            }
           ],
           "function": "SUM",
           "type": "function"
          }
         ]
        }
       },
       "submitTime": 0,
       "subtype": "tableResultSubCmd.visualization",
       "tableResultIndex": 0,
       "tableResultSettingsMap": {},
       "useConsistentColors": false,
       "version": "CommandV1",
       "width": "auto",
       "workflows": [],
       "xColumns": null,
       "yColumns": null
      }
     },
     "output_type": "display_data"
    }
   ],
   "source": [
    "%sql\n",
    "--\n",
    "SELECT t.decada, ROUND(AVG(f.valor_temperatura), 2) AS media_decada\n",
    "FROM gold.fato_temperatura f\n",
    "JOIN gold.dim_tempo t ON f.ano = t.ano\n",
    "GROUP BY t.decada\n",
    "ORDER BY t.decada;"
   ]
  },
  {
   "cell_type": "markdown",
   "metadata": {
    "application/vnd.databricks.v1+cell": {
     "cellMetadata": {},
     "inputWidgets": {},
     "nuid": "2e3d2a7e-1fbb-4e1d-9c92-5a73ef84d628",
     "showTitle": false,
     "tableResultSettingsMap": {},
     "title": ""
    }
   },
   "source": [
    "Podemos notar que, a partir da década de 80, as médias nas temperaturas das superfícies vêm aumentanto em torno de 0.3 C por década."
   ]
  },
  {
   "cell_type": "markdown",
   "metadata": {
    "application/vnd.databricks.v1+cell": {
     "cellMetadata": {},
     "inputWidgets": {},
     "nuid": "f62afd6a-84c7-44ce-9a68-624afd731212",
     "showTitle": false,
     "tableResultSettingsMap": {},
     "title": ""
    }
   },
   "source": [
    "**A temperatura média da superfície no Brasil no período entre 1961 e 2022 também aumentou?**"
   ]
  },
  {
   "cell_type": "code",
   "execution_count": 0,
   "metadata": {
    "application/vnd.databricks.v1+cell": {
     "cellMetadata": {
      "byteLimit": 2048000,
      "implicitDf": true,
      "rowLimit": 10000
     },
     "inputWidgets": {},
     "nuid": "0a2fc92c-057d-46a2-93f6-776b476960f3",
     "showTitle": false,
     "tableResultSettingsMap": {},
     "title": ""
    }
   },
   "outputs": [
    {
     "output_type": "display_data",
     "data": {
      "text/html": [
       "<style scoped>\n",
       "  .table-result-container {\n",
       "    max-height: 300px;\n",
       "    overflow: auto;\n",
       "  }\n",
       "  table, th, td {\n",
       "    border: 1px solid black;\n",
       "    border-collapse: collapse;\n",
       "  }\n",
       "  th, td {\n",
       "    padding: 5px;\n",
       "  }\n",
       "  th {\n",
       "    text-align: left;\n",
       "  }\n",
       "</style><div class='table-result-container'><table class='table-result'><thead style='background-color: white'><tr><th>ano</th><th>media_Brasil</th></tr></thead><tbody><tr><td>1961</td><td>0.17</td></tr><tr><td>1962</td><td>-0.18</td></tr><tr><td>1963</td><td>0.16</td></tr><tr><td>1964</td><td>-0.21</td></tr><tr><td>1965</td><td>-0.08</td></tr><tr><td>1966</td><td>0.04</td></tr><tr><td>1967</td><td>0.07</td></tr><tr><td>1968</td><td>-0.41</td></tr><tr><td>1969</td><td>0.33</td></tr><tr><td>1970</td><td>0.13</td></tr><tr><td>1971</td><td>-0.13</td></tr><tr><td>1972</td><td>0.11</td></tr><tr><td>1973</td><td>0.44</td></tr><tr><td>1974</td><td>-0.18</td></tr><tr><td>1975</td><td>-0.14</td></tr><tr><td>1976</td><td>-0.19</td></tr><tr><td>1977</td><td>0.25</td></tr><tr><td>1978</td><td>0.03</td></tr><tr><td>1979</td><td>0.02</td></tr><tr><td>1980</td><td>0.31</td></tr><tr><td>1981</td><td>0.19</td></tr><tr><td>1982</td><td>0.28</td></tr><tr><td>1983</td><td>0.47</td></tr><tr><td>1984</td><td>0.29</td></tr><tr><td>1985</td><td>0.09</td></tr><tr><td>1986</td><td>0.28</td></tr><tr><td>1987</td><td>0.72</td></tr><tr><td>1988</td><td>0.46</td></tr><tr><td>1989</td><td>0.13</td></tr><tr><td>1990</td><td>0.44</td></tr><tr><td>1991</td><td>0.47</td></tr><tr><td>1992</td><td>0.4</td></tr><tr><td>1993</td><td>0.5</td></tr><tr><td>1994</td><td>0.61</td></tr><tr><td>1995</td><td>0.8</td></tr><tr><td>1996</td><td>0.5</td></tr><tr><td>1997</td><td>0.67</td></tr><tr><td>1998</td><td>1.23</td></tr><tr><td>1999</td><td>0.52</td></tr><tr><td>2000</td><td>0.5</td></tr><tr><td>2001</td><td>0.75</td></tr><tr><td>2002</td><td>1.05</td></tr><tr><td>2003</td><td>0.93</td></tr><tr><td>2004</td><td>0.77</td></tr><tr><td>2005</td><td>1.09</td></tr><tr><td>2006</td><td>0.77</td></tr><tr><td>2007</td><td>0.97</td></tr><tr><td>2008</td><td>0.73</td></tr><tr><td>2009</td><td>0.97</td></tr><tr><td>2010</td><td>1.11</td></tr><tr><td>2011</td><td>0.81</td></tr><tr><td>2012</td><td>1.02</td></tr><tr><td>2013</td><td>0.92</td></tr><tr><td>2014</td><td>1.15</td></tr><tr><td>2015</td><td>1.52</td></tr><tr><td>2016</td><td>1.46</td></tr><tr><td>2017</td><td>1.36</td></tr><tr><td>2018</td><td>1.15</td></tr><tr><td>2019</td><td>1.52</td></tr><tr><td>2020</td><td>1.48</td></tr><tr><td>2021</td><td>1.15</td></tr><tr><td>2022</td><td>0.93</td></tr></tbody></table></div>"
      ]
     },
     "metadata": {
      "application/vnd.databricks.v1+output": {
       "addedWidgets": {},
       "aggData": [],
       "aggError": "",
       "aggOverflow": false,
       "aggSchema": [],
       "aggSeriesLimitReached": false,
       "aggType": "",
       "arguments": {},
       "columnCustomDisplayInfos": {},
       "data": [
        [
         1961,
         0.17
        ],
        [
         1962,
         -0.18
        ],
        [
         1963,
         0.16
        ],
        [
         1964,
         -0.21
        ],
        [
         1965,
         -0.08
        ],
        [
         1966,
         0.04
        ],
        [
         1967,
         0.07
        ],
        [
         1968,
         -0.41
        ],
        [
         1969,
         0.33
        ],
        [
         1970,
         0.13
        ],
        [
         1971,
         -0.13
        ],
        [
         1972,
         0.11
        ],
        [
         1973,
         0.44
        ],
        [
         1974,
         -0.18
        ],
        [
         1975,
         -0.14
        ],
        [
         1976,
         -0.19
        ],
        [
         1977,
         0.25
        ],
        [
         1978,
         0.03
        ],
        [
         1979,
         0.02
        ],
        [
         1980,
         0.31
        ],
        [
         1981,
         0.19
        ],
        [
         1982,
         0.28
        ],
        [
         1983,
         0.47
        ],
        [
         1984,
         0.29
        ],
        [
         1985,
         0.09
        ],
        [
         1986,
         0.28
        ],
        [
         1987,
         0.72
        ],
        [
         1988,
         0.46
        ],
        [
         1989,
         0.13
        ],
        [
         1990,
         0.44
        ],
        [
         1991,
         0.47
        ],
        [
         1992,
         0.4
        ],
        [
         1993,
         0.5
        ],
        [
         1994,
         0.61
        ],
        [
         1995,
         0.8
        ],
        [
         1996,
         0.5
        ],
        [
         1997,
         0.67
        ],
        [
         1998,
         1.23
        ],
        [
         1999,
         0.52
        ],
        [
         2000,
         0.5
        ],
        [
         2001,
         0.75
        ],
        [
         2002,
         1.05
        ],
        [
         2003,
         0.93
        ],
        [
         2004,
         0.77
        ],
        [
         2005,
         1.09
        ],
        [
         2006,
         0.77
        ],
        [
         2007,
         0.97
        ],
        [
         2008,
         0.73
        ],
        [
         2009,
         0.97
        ],
        [
         2010,
         1.11
        ],
        [
         2011,
         0.81
        ],
        [
         2012,
         1.02
        ],
        [
         2013,
         0.92
        ],
        [
         2014,
         1.15
        ],
        [
         2015,
         1.52
        ],
        [
         2016,
         1.46
        ],
        [
         2017,
         1.36
        ],
        [
         2018,
         1.15
        ],
        [
         2019,
         1.52
        ],
        [
         2020,
         1.48
        ],
        [
         2021,
         1.15
        ],
        [
         2022,
         0.93
        ]
       ],
       "datasetInfos": [],
       "dbfsResultPath": null,
       "isJsonSchema": true,
       "metadata": {},
       "overflow": false,
       "plotOptions": {
        "customPlotOptions": {},
        "displayType": "table",
        "pivotAggregation": null,
        "pivotColumns": null,
        "xColumns": null,
        "yColumns": null
       },
       "removedWidgets": [],
       "schema": [
        {
         "metadata": "{}",
         "name": "ano",
         "type": "\"integer\""
        },
        {
         "metadata": "{}",
         "name": "media_Brasil",
         "type": "\"double\""
        }
       ],
       "type": "table"
      }
     },
     "output_type": "display_data"
    },
    {
     "output_type": "display_data",
     "data": {
      "text/plain": [
       "Databricks visualization. Run in Databricks to view."
      ]
     },
     "metadata": {
      "application/vnd.databricks.v1.subcommand+json": {
       "baseErrorDetails": null,
       "bindings": {},
       "collapsed": false,
       "command": "%sql WITH q AS (SELECT DISTINCT ano, ROUND(AVG(valor_temperatura), 2) AS media_Brasil\nFROM silver.fato_temperatura\nWHERE ISO3 IN (\"BRA\")\nGROUP BY ano\nORDER BY ano) SELECT `ano`,AVG(`media_Brasil`) `column_e5a4637954` FROM q GROUP BY `ano`",
       "commandTitle": "Temperatura Média da Superfície no Brasil no Período entre 1961 e 2022",
       "commandType": "auto",
       "commandVersion": 0,
       "commentThread": [],
       "commentsVisible": false,
       "contentSha256Hex": null,
       "customPlotOptions": {
        "redashChart": [
         {
          "key": "type",
          "value": "CHART"
         },
         {
          "key": "options",
          "value": {
           "alignYAxesAtZero": true,
           "coefficient": 1,
           "columnConfigurationMap": {
            "x": {
             "column": "ano",
             "id": "column_e5a4637953"
            },
            "y": [
             {
              "column": "media_Brasil",
              "id": "column_e5a4637954",
              "transform": "AVG"
             }
            ]
           },
           "dateTimeFormat": "DD/MM/YYYY HH:mm",
           "direction": {
            "type": "counterclockwise"
           },
           "error_y": {
            "type": "data",
            "visible": true
           },
           "globalSeriesType": "line",
           "isAggregationOn": true,
           "legend": {
            "traceorder": "normal"
           },
           "missingValuesAsZero": true,
           "numberFormat": "0,0.[00000]",
           "percentFormat": "0[.]00%",
           "series": {
            "error_y": {
             "type": "data",
             "visible": true
            },
            "stacking": null
           },
           "seriesOptions": {
            "column_e5a4637954": {
             "name": "media_Brasil",
             "type": "line",
             "yAxis": 0
            }
           },
           "showDataLabels": false,
           "sizemode": "diameter",
           "sortX": true,
           "sortY": true,
           "swappedAxes": false,
           "textFormat": "",
           "useAggregationsUi": true,
           "valuesOptions": {},
           "version": 2,
           "xAxis": {
            "labels": {
             "enabled": true
            },
            "type": "-"
           },
           "yAxis": [
            {
             "type": "-"
            },
            {
             "opposite": true,
             "type": "-"
            }
           ]
          }
         }
        ]
       },
       "datasetPreviewNameToCmdIdMap": {},
       "diffDeletes": [],
       "diffInserts": [],
       "displayType": "redashChart",
       "error": null,
       "errorDetails": null,
       "errorSummary": null,
       "errorTraceType": null,
       "finishTime": 0,
       "globalVars": {},
       "guid": "",
       "height": "auto",
       "hideCommandCode": false,
       "hideCommandResult": false,
       "iPythonMetadata": null,
       "inputWidgets": {},
       "isLockedInExamMode": false,
       "latestUser": "a user",
       "latestUserId": null,
       "listResultMetadata": null,
       "metadata": {},
       "nuid": "5afc2cd0-1ae5-4766-9b0e-44deb863c400",
       "origId": 0,
       "parentHierarchy": [],
       "pivotAggregation": null,
       "pivotColumns": null,
       "position": 19.0,
       "resultDbfsErrorMessage": null,
       "resultDbfsStatus": "INLINED_IN_TREE",
       "results": null,
       "showCommandTitle": false,
       "startTime": 0,
       "state": "input",
       "streamStates": {},
       "subcommandOptions": {
        "queryPlan": {
         "groups": [
          {
           "column": "ano",
           "type": "column"
          }
         ],
         "selects": [
          {
           "column": "ano",
           "type": "column"
          },
          {
           "alias": "column_e5a4637954",
           "args": [
            {
             "column": "media_Brasil",
             "type": "column"
            }
           ],
           "function": "AVG",
           "type": "function"
          }
         ]
        }
       },
       "submitTime": 0,
       "subtype": "tableResultSubCmd.visualization",
       "tableResultIndex": 0,
       "tableResultSettingsMap": {},
       "useConsistentColors": false,
       "version": "CommandV1",
       "width": "auto",
       "workflows": [],
       "xColumns": null,
       "yColumns": null
      }
     },
     "output_type": "display_data"
    }
   ],
   "source": [
    "%sql\n",
    "--\n",
    "SELECT DISTINCT ano, ROUND(AVG(valor_temperatura), 2) AS media_Brasil\n",
    "FROM gold.fato_temperatura\n",
    "WHERE ISO3 IN (\"BRA\")\n",
    "GROUP BY ano\n",
    "ORDER BY ano;"
   ]
  },
  {
   "cell_type": "markdown",
   "metadata": {
    "application/vnd.databricks.v1+cell": {
     "cellMetadata": {},
     "inputWidgets": {},
     "nuid": "1e51ba98-c547-4fef-8af4-ed7b615011e2",
     "showTitle": false,
     "tableResultSettingsMap": {},
     "title": ""
    }
   },
   "source": [
    "Sim, podemos notar que a tendência das temperaturas no Brasil é a mesma que a tendência mundial."
   ]
  },
  {
   "cell_type": "markdown",
   "metadata": {
    "application/vnd.databricks.v1+cell": {
     "cellMetadata": {},
     "inputWidgets": {},
     "nuid": "e238bea9-b925-4ab6-85a5-1f8079bc308e",
     "showTitle": false,
     "tableResultSettingsMap": {},
     "title": ""
    }
   },
   "source": [
    "Algum país apresentou resfriamento de sua superfície em 2022?"
   ]
  },
  {
   "cell_type": "code",
   "execution_count": 0,
   "metadata": {
    "application/vnd.databricks.v1+cell": {
     "cellMetadata": {
      "byteLimit": 2048000,
      "implicitDf": true,
      "rowLimit": 10000
     },
     "inputWidgets": {},
     "nuid": "d138e309-9d69-47cc-86ab-09a0ca225716",
     "showTitle": false,
     "tableResultSettingsMap": {},
     "title": ""
    }
   },
   "outputs": [
    {
     "output_type": "display_data",
     "data": {
      "text/html": [
       "<style scoped>\n",
       "  .table-result-container {\n",
       "    max-height: 300px;\n",
       "    overflow: auto;\n",
       "  }\n",
       "  table, th, td {\n",
       "    border: 1px solid black;\n",
       "    border-collapse: collapse;\n",
       "  }\n",
       "  th, td {\n",
       "    padding: 5px;\n",
       "  }\n",
       "  th {\n",
       "    text-align: left;\n",
       "  }\n",
       "</style><div class='table-result-container'><table class='table-result'><thead style='background-color: white'><tr><th>nome_pais</th><th>ano</th><th>Valor_Temperatura</th></tr></thead><tbody><tr><td>Botswana</td><td>2022</td><td>-1.3</td></tr><tr><td>Zimbabwe</td><td>2022</td><td>-0.49</td></tr></tbody></table></div>"
      ]
     },
     "metadata": {
      "application/vnd.databricks.v1+output": {
       "addedWidgets": {},
       "aggData": [],
       "aggError": "",
       "aggOverflow": false,
       "aggSchema": [],
       "aggSeriesLimitReached": false,
       "aggType": "",
       "arguments": {},
       "columnCustomDisplayInfos": {},
       "data": [
        [
         "Botswana",
         2022,
         -1.3
        ],
        [
         "Zimbabwe",
         2022,
         -0.49
        ]
       ],
       "datasetInfos": [],
       "dbfsResultPath": null,
       "isJsonSchema": true,
       "metadata": {},
       "overflow": false,
       "plotOptions": {
        "customPlotOptions": {},
        "displayType": "table",
        "pivotAggregation": null,
        "pivotColumns": null,
        "xColumns": null,
        "yColumns": null
       },
       "removedWidgets": [],
       "schema": [
        {
         "metadata": "{}",
         "name": "nome_pais",
         "type": "\"string\""
        },
        {
         "metadata": "{}",
         "name": "ano",
         "type": "\"integer\""
        },
        {
         "metadata": "{}",
         "name": "Valor_Temperatura",
         "type": "\"float\""
        }
       ],
       "type": "table"
      }
     },
     "output_type": "display_data"
    }
   ],
   "source": [
    "%sql\n",
    "SELECT \n",
    "    dp.nome_pais,\n",
    "    f.ano,\n",
    "    ROUND(f.valor_temperatura, 3) AS Valor_Temperatura\n",
    "  \n",
    "FROM \n",
    "     gold.fato_temperatura f\n",
    "JOIN gold.dim_pais dp \n",
    "     ON f.codigo_iso3 = dp.codigo_iso3\n",
    "WHERE \n",
    "    f.ano = 2022\n",
    "    AND f.valor_temperatura < 0;"
   ]
  },
  {
   "cell_type": "markdown",
   "metadata": {
    "application/vnd.databricks.v1+cell": {
     "cellMetadata": {},
     "inputWidgets": {},
     "nuid": "8caca85b-7fbc-40c4-b4cb-05919d6dd8c8",
     "showTitle": false,
     "tableResultSettingsMap": {},
     "title": ""
    }
   },
   "source": [
    "Qual é a tendência da temperatura média da superfície em Botwana no período entre 1961 e 2022?"
   ]
  },
  {
   "cell_type": "code",
   "execution_count": 0,
   "metadata": {
    "application/vnd.databricks.v1+cell": {
     "cellMetadata": {
      "byteLimit": 2048000,
      "implicitDf": true,
      "rowLimit": 10000
     },
     "inputWidgets": {},
     "nuid": "23600233-1521-454c-a3b1-ba785ff647a5",
     "showTitle": false,
     "tableResultSettingsMap": {},
     "title": ""
    }
   },
   "outputs": [
    {
     "output_type": "display_data",
     "data": {
      "text/html": [
       "<style scoped>\n",
       "  .table-result-container {\n",
       "    max-height: 300px;\n",
       "    overflow: auto;\n",
       "  }\n",
       "  table, th, td {\n",
       "    border: 1px solid black;\n",
       "    border-collapse: collapse;\n",
       "  }\n",
       "  th, td {\n",
       "    padding: 5px;\n",
       "  }\n",
       "  th {\n",
       "    text-align: left;\n",
       "  }\n",
       "</style><div class='table-result-container'><table class='table-result'><thead style='background-color: white'><tr><th>ano</th><th>media_Botwana</th></tr></thead><tbody><tr><td>1961</td><td>0.15</td></tr><tr><td>1962</td><td>0.26</td></tr><tr><td>1963</td><td>-0.47</td></tr><tr><td>1964</td><td>-0.06</td></tr><tr><td>1965</td><td>0.1</td></tr><tr><td>1966</td><td>0.44</td></tr><tr><td>1967</td><td>-0.46</td></tr><tr><td>1968</td><td>-0.19</td></tr><tr><td>1969</td><td>0.2</td></tr><tr><td>1970</td><td>0.6</td></tr><tr><td>1971</td><td>-0.13</td></tr><tr><td>1972</td><td>-0.47</td></tr><tr><td>1973</td><td>0.6</td></tr><tr><td>1974</td><td>-0.75</td></tr><tr><td>1975</td><td>-0.22</td></tr><tr><td>1976</td><td>-0.72</td></tr><tr><td>1977</td><td>0.3</td></tr><tr><td>1978</td><td>-0.06</td></tr><tr><td>1979</td><td>0.54</td></tr><tr><td>1980</td><td>-0.04</td></tr><tr><td>1981</td><td>-0.44</td></tr><tr><td>1982</td><td>0.31</td></tr><tr><td>1983</td><td>1.01</td></tr><tr><td>1984</td><td>0.44</td></tr><tr><td>1985</td><td>0.29</td></tr><tr><td>1986</td><td>0.28</td></tr><tr><td>1987</td><td>1.27</td></tr><tr><td>1988</td><td>0.29</td></tr><tr><td>1989</td><td>-0.31</td></tr><tr><td>1990</td><td>0.74</td></tr><tr><td>1991</td><td>0.06</td></tr><tr><td>1992</td><td>0.81</td></tr><tr><td>1993</td><td>0.51</td></tr><tr><td>1994</td><td>-0.12</td></tr><tr><td>1995</td><td>1.14</td></tr><tr><td>1996</td><td>-0.32</td></tr><tr><td>1997</td><td>-0.1</td></tr><tr><td>1998</td><td>0.86</td></tr><tr><td>1999</td><td>0.55</td></tr><tr><td>2000</td><td>-0.72</td></tr><tr><td>2001</td><td>-0.19</td></tr><tr><td>2002</td><td>0.36</td></tr><tr><td>2003</td><td>0.74</td></tr><tr><td>2004</td><td>-0.13</td></tr><tr><td>2005</td><td>1.04</td></tr><tr><td>2006</td><td>-0.5</td></tr><tr><td>2007</td><td>0.23</td></tr><tr><td>2008</td><td>0.15</td></tr><tr><td>2009</td><td>-0.32</td></tr><tr><td>2010</td><td>0.94</td></tr><tr><td>2011</td><td>-0.05</td></tr><tr><td>2012</td><td>0.47</td></tr><tr><td>2013</td><td>0.77</td></tr><tr><td>2014</td><td>-0.09</td></tr><tr><td>2015</td><td>1.55</td></tr><tr><td>2016</td><td>1.47</td></tr><tr><td>2017</td><td>0.02</td></tr><tr><td>2018</td><td>0.73</td></tr><tr><td>2019</td><td>1.52</td></tr><tr><td>2020</td><td>0.49</td></tr><tr><td>2021</td><td>-0.43</td></tr><tr><td>2022</td><td>-1.3</td></tr></tbody></table></div>"
      ]
     },
     "metadata": {
      "application/vnd.databricks.v1+output": {
       "addedWidgets": {},
       "aggData": [],
       "aggError": "",
       "aggOverflow": false,
       "aggSchema": [],
       "aggSeriesLimitReached": false,
       "aggType": "",
       "arguments": {},
       "columnCustomDisplayInfos": {},
       "data": [
        [
         1961,
         0.15
        ],
        [
         1962,
         0.26
        ],
        [
         1963,
         -0.47
        ],
        [
         1964,
         -0.06
        ],
        [
         1965,
         0.1
        ],
        [
         1966,
         0.44
        ],
        [
         1967,
         -0.46
        ],
        [
         1968,
         -0.19
        ],
        [
         1969,
         0.2
        ],
        [
         1970,
         0.6
        ],
        [
         1971,
         -0.13
        ],
        [
         1972,
         -0.47
        ],
        [
         1973,
         0.6
        ],
        [
         1974,
         -0.75
        ],
        [
         1975,
         -0.22
        ],
        [
         1976,
         -0.72
        ],
        [
         1977,
         0.3
        ],
        [
         1978,
         -0.06
        ],
        [
         1979,
         0.54
        ],
        [
         1980,
         -0.04
        ],
        [
         1981,
         -0.44
        ],
        [
         1982,
         0.31
        ],
        [
         1983,
         1.01
        ],
        [
         1984,
         0.44
        ],
        [
         1985,
         0.29
        ],
        [
         1986,
         0.28
        ],
        [
         1987,
         1.27
        ],
        [
         1988,
         0.29
        ],
        [
         1989,
         -0.31
        ],
        [
         1990,
         0.74
        ],
        [
         1991,
         0.06
        ],
        [
         1992,
         0.81
        ],
        [
         1993,
         0.51
        ],
        [
         1994,
         -0.12
        ],
        [
         1995,
         1.14
        ],
        [
         1996,
         -0.32
        ],
        [
         1997,
         -0.1
        ],
        [
         1998,
         0.86
        ],
        [
         1999,
         0.55
        ],
        [
         2000,
         -0.72
        ],
        [
         2001,
         -0.19
        ],
        [
         2002,
         0.36
        ],
        [
         2003,
         0.74
        ],
        [
         2004,
         -0.13
        ],
        [
         2005,
         1.04
        ],
        [
         2006,
         -0.5
        ],
        [
         2007,
         0.23
        ],
        [
         2008,
         0.15
        ],
        [
         2009,
         -0.32
        ],
        [
         2010,
         0.94
        ],
        [
         2011,
         -0.05
        ],
        [
         2012,
         0.47
        ],
        [
         2013,
         0.77
        ],
        [
         2014,
         -0.09
        ],
        [
         2015,
         1.55
        ],
        [
         2016,
         1.47
        ],
        [
         2017,
         0.02
        ],
        [
         2018,
         0.73
        ],
        [
         2019,
         1.52
        ],
        [
         2020,
         0.49
        ],
        [
         2021,
         -0.43
        ],
        [
         2022,
         -1.3
        ]
       ],
       "datasetInfos": [],
       "dbfsResultPath": null,
       "isJsonSchema": true,
       "metadata": {},
       "overflow": false,
       "plotOptions": {
        "customPlotOptions": {},
        "displayType": "table",
        "pivotAggregation": null,
        "pivotColumns": null,
        "xColumns": null,
        "yColumns": null
       },
       "removedWidgets": [],
       "schema": [
        {
         "metadata": "{}",
         "name": "ano",
         "type": "\"integer\""
        },
        {
         "metadata": "{}",
         "name": "media_Botwana",
         "type": "\"double\""
        }
       ],
       "type": "table"
      }
     },
     "output_type": "display_data"
    },
    {
     "output_type": "display_data",
     "data": {
      "text/plain": [
       "Databricks visualization. Run in Databricks to view."
      ]
     },
     "metadata": {
      "application/vnd.databricks.v1.subcommand+json": {
       "baseErrorDetails": null,
       "bindings": {},
       "collapsed": false,
       "command": "%sql WITH q AS (SELECT DISTINCT ano, ROUND(AVG(valor_temperatura), 2) AS media_Brasil\nFROM gold.fato_temperatura\nWHERE ISO3 IN (\"BWA\")\nGROUP BY ano\nORDER BY ano) SELECT `ano`,AVG(`media_Brasil`) `column_1fa29c3d77` FROM q GROUP BY `ano`",
       "commandTitle": "Visualization 1",
       "commandType": "auto",
       "commandVersion": 0,
       "commentThread": [],
       "commentsVisible": false,
       "contentSha256Hex": null,
       "customPlotOptions": {
        "redashChart": [
         {
          "key": "type",
          "value": "CHART"
         },
         {
          "key": "options",
          "value": {
           "alignYAxesAtZero": true,
           "coefficient": 1,
           "columnConfigurationMap": {
            "x": {
             "column": "ano",
             "id": "column_1fa29c3d76"
            },
            "y": [
             {
              "column": "media_Botwana",
              "id": "column_1fa29c3d77",
              "transform": "AVG"
             }
            ]
           },
           "dateTimeFormat": "DD/MM/YYYY HH:mm",
           "direction": {
            "type": "counterclockwise"
           },
           "error_y": {
            "type": "data",
            "visible": true
           },
           "globalSeriesType": "line",
           "isAggregationOn": true,
           "legend": {
            "traceorder": "normal"
           },
           "missingValuesAsZero": true,
           "numberFormat": "0,0.[00000]",
           "percentFormat": "0[.]00%",
           "series": {
            "error_y": {
             "type": "data",
             "visible": true
            },
            "stacking": null
           },
           "seriesOptions": {
            "column_1fa29c3d77": {
             "name": "media_Brasil",
             "type": "line",
             "yAxis": 0
            }
           },
           "showDataLabels": false,
           "sizemode": "diameter",
           "sortX": true,
           "sortY": true,
           "swappedAxes": false,
           "textFormat": "",
           "useAggregationsUi": true,
           "valuesOptions": {},
           "version": 2,
           "xAxis": {
            "labels": {
             "enabled": true
            },
            "type": "-"
           },
           "yAxis": [
            {
             "type": "-"
            },
            {
             "opposite": true,
             "type": "-"
            }
           ]
          }
         }
        ]
       },
       "datasetPreviewNameToCmdIdMap": {},
       "diffDeletes": [],
       "diffInserts": [],
       "displayType": "redashChart",
       "error": null,
       "errorDetails": null,
       "errorSummary": null,
       "errorTraceType": null,
       "finishTime": 0,
       "globalVars": {},
       "guid": "",
       "height": "auto",
       "hideCommandCode": false,
       "hideCommandResult": false,
       "iPythonMetadata": null,
       "inputWidgets": {},
       "isLockedInExamMode": false,
       "latestUser": "a user",
       "latestUserId": null,
       "listResultMetadata": null,
       "metadata": {},
       "nuid": "d73eca68-d0cd-4d44-a8a9-285e701eb44b",
       "origId": 0,
       "parentHierarchy": [],
       "pivotAggregation": null,
       "pivotColumns": null,
       "position": 29.9990234375,
       "resultDbfsErrorMessage": null,
       "resultDbfsStatus": "INLINED_IN_TREE",
       "results": null,
       "showCommandTitle": false,
       "startTime": 0,
       "state": "input",
       "streamStates": {},
       "subcommandOptions": {
        "queryPlan": {
         "groups": [
          {
           "column": "ano",
           "type": "column"
          }
         ],
         "selects": [
          {
           "column": "ano",
           "type": "column"
          },
          {
           "alias": "column_1fa29c3d77",
           "args": [
            {
             "column": "media_Botwana",
             "type": "column"
            }
           ],
           "function": "AVG",
           "type": "function"
          }
         ]
        }
       },
       "submitTime": 0,
       "subtype": "tableResultSubCmd.visualization",
       "tableResultIndex": 0,
       "tableResultSettingsMap": {},
       "useConsistentColors": false,
       "version": "CommandV1",
       "width": "auto",
       "workflows": [],
       "xColumns": null,
       "yColumns": null
      }
     },
     "output_type": "display_data"
    }
   ],
   "source": [
    "%sql\n",
    "SELECT DISTINCT ano, ROUND(AVG(valor_temperatura), 2) AS media_Botwana\n",
    "FROM gold.fato_temperatura\n",
    "WHERE ISO3 IN (\"BWA\")\n",
    "GROUP BY ano\n",
    "ORDER BY ano;"
   ]
  },
  {
   "cell_type": "markdown",
   "metadata": {
    "application/vnd.databricks.v1+cell": {
     "cellMetadata": {},
     "inputWidgets": {},
     "nuid": "4c7da9c0-6fe3-47d9-a653-3b2d9eb8433c",
     "showTitle": false,
     "tableResultSettingsMap": {},
     "title": ""
    }
   },
   "source": [
    "Botwana, diferentemente da temperatura mundial, apresenta uma tendência de estabilidade e uma queda acentuada após 2019."
   ]
  },
  {
   "cell_type": "markdown",
   "metadata": {
    "application/vnd.databricks.v1+cell": {
     "cellMetadata": {},
     "inputWidgets": {},
     "nuid": "8940d048-5093-4193-ba48-7aee895bba8c",
     "showTitle": false,
     "tableResultSettingsMap": {},
     "title": ""
    }
   },
   "source": [
    "Compare as temperaturas nas três maiores economias da América do Sul."
   ]
  },
  {
   "cell_type": "code",
   "execution_count": 0,
   "metadata": {
    "application/vnd.databricks.v1+cell": {
     "cellMetadata": {
      "byteLimit": 2048000,
      "implicitDf": true,
      "rowLimit": 10000
     },
     "inputWidgets": {},
     "nuid": "224c68ae-ed76-446e-93eb-b17583c85e5f",
     "showTitle": false,
     "tableResultSettingsMap": {},
     "title": ""
    }
   },
   "outputs": [
    {
     "output_type": "display_data",
     "data": {
      "text/html": [
       "<style scoped>\n",
       "  .table-result-container {\n",
       "    max-height: 300px;\n",
       "    overflow: auto;\n",
       "  }\n",
       "  table, th, td {\n",
       "    border: 1px solid black;\n",
       "    border-collapse: collapse;\n",
       "  }\n",
       "  th, td {\n",
       "    padding: 5px;\n",
       "  }\n",
       "  th {\n",
       "    text-align: left;\n",
       "  }\n",
       "</style><div class='table-result-container'><table class='table-result'><thead style='background-color: white'><tr><th>ano</th><th>nome_pais</th><th>temperatura_media_America_do_Sul</th></tr></thead><tbody><tr><td>1961</td><td>Argentina</td><td>0.122</td></tr><tr><td>1961</td><td>Brazil</td><td>0.167</td></tr><tr><td>1961</td><td>Colombia</td><td>0.09</td></tr><tr><td>1962</td><td>Argentina</td><td>-0.046</td></tr><tr><td>1962</td><td>Brazil</td><td>-0.184</td></tr><tr><td>1962</td><td>Colombia</td><td>-0.133</td></tr><tr><td>1963</td><td>Argentina</td><td>0.162</td></tr><tr><td>1963</td><td>Brazil</td><td>0.158</td></tr><tr><td>1963</td><td>Colombia</td><td>-0.058</td></tr><tr><td>1964</td><td>Argentina</td><td>-0.343</td></tr><tr><td>1964</td><td>Brazil</td><td>-0.213</td></tr><tr><td>1964</td><td>Colombia</td><td>0.117</td></tr><tr><td>1965</td><td>Argentina</td><td>0.09</td></tr><tr><td>1965</td><td>Brazil</td><td>-0.075</td></tr><tr><td>1965</td><td>Colombia</td><td>-0.217</td></tr><tr><td>1966</td><td>Argentina</td><td>-0.163</td></tr><tr><td>1966</td><td>Brazil</td><td>0.044</td></tr><tr><td>1966</td><td>Colombia</td><td>0.117</td></tr><tr><td>1967</td><td>Argentina</td><td>0.0</td></tr><tr><td>1967</td><td>Brazil</td><td>0.073</td></tr><tr><td>1967</td><td>Colombia</td><td>-0.274</td></tr><tr><td>1968</td><td>Argentina</td><td>0.472</td></tr><tr><td>1968</td><td>Brazil</td><td>-0.409</td></tr><tr><td>1968</td><td>Colombia</td><td>-0.238</td></tr><tr><td>1969</td><td>Argentina</td><td>0.292</td></tr><tr><td>1969</td><td>Brazil</td><td>0.331</td></tr><tr><td>1969</td><td>Colombia</td><td>0.363</td></tr><tr><td>1970</td><td>Argentina</td><td>0.438</td></tr><tr><td>1970</td><td>Brazil</td><td>0.13</td></tr><tr><td>1970</td><td>Colombia</td><td>0.052</td></tr><tr><td>1971</td><td>Argentina</td><td>-0.26</td></tr><tr><td>1971</td><td>Brazil</td><td>-0.134</td></tr><tr><td>1971</td><td>Colombia</td><td>-0.431</td></tr><tr><td>1972</td><td>Argentina</td><td>-0.008</td></tr><tr><td>1972</td><td>Brazil</td><td>0.114</td></tr><tr><td>1972</td><td>Colombia</td><td>-0.022</td></tr><tr><td>1973</td><td>Argentina</td><td>-0.139</td></tr><tr><td>1973</td><td>Brazil</td><td>0.443</td></tr><tr><td>1973</td><td>Colombia</td><td>0.349</td></tr><tr><td>1974</td><td>Argentina</td><td>-0.106</td></tr><tr><td>1974</td><td>Brazil</td><td>-0.179</td></tr><tr><td>1974</td><td>Colombia</td><td>-0.306</td></tr><tr><td>1975</td><td>Argentina</td><td>-0.021</td></tr><tr><td>1975</td><td>Brazil</td><td>-0.14</td></tr><tr><td>1975</td><td>Colombia</td><td>-0.304</td></tr><tr><td>1976</td><td>Argentina</td><td>-0.321</td></tr><tr><td>1976</td><td>Brazil</td><td>-0.185</td></tr><tr><td>1976</td><td>Colombia</td><td>-0.24</td></tr><tr><td>1977</td><td>Argentina</td><td>0.432</td></tr><tr><td>1977</td><td>Brazil</td><td>0.252</td></tr><tr><td>1977</td><td>Colombia</td><td>0.214</td></tr><tr><td>1978</td><td>Argentina</td><td>0.362</td></tr><tr><td>1978</td><td>Brazil</td><td>0.03</td></tr><tr><td>1978</td><td>Colombia</td><td>0.109</td></tr><tr><td>1979</td><td>Argentina</td><td>0.266</td></tr><tr><td>1979</td><td>Brazil</td><td>0.017</td></tr><tr><td>1979</td><td>Colombia</td><td>0.191</td></tr><tr><td>1980</td><td>Argentina</td><td>0.373</td></tr><tr><td>1980</td><td>Brazil</td><td>0.313</td></tr><tr><td>1980</td><td>Colombia</td><td>0.446</td></tr><tr><td>1981</td><td>Argentina</td><td>0.378</td></tr><tr><td>1981</td><td>Brazil</td><td>0.191</td></tr><tr><td>1981</td><td>Colombia</td><td>0.129</td></tr><tr><td>1982</td><td>Argentina</td><td>0.359</td></tr><tr><td>1982</td><td>Brazil</td><td>0.277</td></tr><tr><td>1982</td><td>Colombia</td><td>0.192</td></tr><tr><td>1983</td><td>Argentina</td><td>0.046</td></tr><tr><td>1983</td><td>Brazil</td><td>0.471</td></tr><tr><td>1983</td><td>Colombia</td><td>0.636</td></tr><tr><td>1984</td><td>Argentina</td><td>-0.1</td></tr><tr><td>1984</td><td>Brazil</td><td>0.294</td></tr><tr><td>1984</td><td>Colombia</td><td>-0.233</td></tr><tr><td>1985</td><td>Argentina</td><td>0.308</td></tr><tr><td>1985</td><td>Brazil</td><td>0.092</td></tr><tr><td>1985</td><td>Colombia</td><td>-0.015</td></tr><tr><td>1986</td><td>Argentina</td><td>0.46</td></tr><tr><td>1986</td><td>Brazil</td><td>0.285</td></tr><tr><td>1986</td><td>Colombia</td><td>0.017</td></tr><tr><td>1987</td><td>Argentina</td><td>0.446</td></tr><tr><td>1987</td><td>Brazil</td><td>0.722</td></tr><tr><td>1987</td><td>Colombia</td><td>0.573</td></tr><tr><td>1988</td><td>Argentina</td><td>-0.192</td></tr><tr><td>1988</td><td>Brazil</td><td>0.461</td></tr><tr><td>1988</td><td>Colombia</td><td>0.312</td></tr><tr><td>1989</td><td>Argentina</td><td>0.611</td></tr><tr><td>1989</td><td>Brazil</td><td>0.13</td></tr><tr><td>1989</td><td>Colombia</td><td>-0.091</td></tr><tr><td>1990</td><td>Argentina</td><td>0.436</td></tr><tr><td>1990</td><td>Brazil</td><td>0.435</td></tr><tr><td>1990</td><td>Colombia</td><td>0.31</td></tr><tr><td>1991</td><td>Argentina</td><td>0.261</td></tr><tr><td>1991</td><td>Brazil</td><td>0.468</td></tr><tr><td>1991</td><td>Colombia</td><td>0.449</td></tr><tr><td>1992</td><td>Argentina</td><td>-0.261</td></tr><tr><td>1992</td><td>Brazil</td><td>0.403</td></tr><tr><td>1992</td><td>Colombia</td><td>0.606</td></tr><tr><td>1993</td><td>Argentina</td><td>0.086</td></tr><tr><td>1993</td><td>Brazil</td><td>0.495</td></tr><tr><td>1993</td><td>Colombia</td><td>0.263</td></tr><tr><td>1994</td><td>Argentina</td><td>0.487</td></tr><tr><td>1994</td><td>Brazil</td><td>0.608</td></tr><tr><td>1994</td><td>Colombia</td><td>0.245</td></tr><tr><td>1995</td><td>Argentina</td><td>0.259</td></tr><tr><td>1995</td><td>Brazil</td><td>0.799</td></tr><tr><td>1995</td><td>Colombia</td><td>0.517</td></tr><tr><td>1996</td><td>Argentina</td><td>0.512</td></tr><tr><td>1996</td><td>Brazil</td><td>0.504</td></tr><tr><td>1996</td><td>Colombia</td><td>0.143</td></tr><tr><td>1997</td><td>Argentina</td><td>0.759</td></tr><tr><td>1997</td><td>Brazil</td><td>0.671</td></tr><tr><td>1997</td><td>Colombia</td><td>0.504</td></tr><tr><td>1998</td><td>Argentina</td><td>0.351</td></tr><tr><td>1998</td><td>Brazil</td><td>1.234</td></tr><tr><td>1998</td><td>Colombia</td><td>0.901</td></tr><tr><td>1999</td><td>Argentina</td><td>0.16</td></tr><tr><td>1999</td><td>Brazil</td><td>0.523</td></tr><tr><td>1999</td><td>Colombia</td><td>-0.01</td></tr><tr><td>2000</td><td>Argentina</td><td>-0.186</td></tr><tr><td>2000</td><td>Brazil</td><td>0.495</td></tr><tr><td>2000</td><td>Colombia</td><td>-0.009</td></tr><tr><td>2001</td><td>Argentina</td><td>0.425</td></tr><tr><td>2001</td><td>Brazil</td><td>0.746</td></tr><tr><td>2001</td><td>Colombia</td><td>0.438</td></tr><tr><td>2002</td><td>Argentina</td><td>0.278</td></tr><tr><td>2002</td><td>Brazil</td><td>1.052</td></tr><tr><td>2002</td><td>Colombia</td><td>0.675</td></tr><tr><td>2003</td><td>Argentina</td><td>0.635</td></tr><tr><td>2003</td><td>Brazil</td><td>0.927</td></tr><tr><td>2003</td><td>Colombia</td><td>0.693</td></tr><tr><td>2004</td><td>Argentina</td><td>0.47</td></tr><tr><td>2004</td><td>Brazil</td><td>0.768</td></tr><tr><td>2004</td><td>Colombia</td><td>0.585</td></tr><tr><td>2005</td><td>Argentina</td><td>0.281</td></tr><tr><td>2005</td><td>Brazil</td><td>1.085</td></tr><tr><td>2005</td><td>Colombia</td><td>0.681</td></tr><tr><td>2006</td><td>Argentina</td><td>0.596</td></tr><tr><td>2006</td><td>Brazil</td><td>0.77</td></tr><tr><td>2006</td><td>Colombia</td><td>0.531</td></tr><tr><td>2007</td><td>Argentina</td><td>-0.169</td></tr><tr><td>2007</td><td>Brazil</td><td>0.969</td></tr><tr><td>2007</td><td>Colombia</td><td>0.641</td></tr><tr><td>2008</td><td>Argentina</td><td>0.601</td></tr><tr><td>2008</td><td>Brazil</td><td>0.731</td></tr><tr><td>2008</td><td>Colombia</td><td>0.385</td></tr><tr><td>2009</td><td>Argentina</td><td>0.857</td></tr><tr><td>2009</td><td>Brazil</td><td>0.969</td></tr><tr><td>2009</td><td>Colombia</td><td>0.856</td></tr><tr><td>2010</td><td>Argentina</td><td>0.135</td></tr><tr><td>2010</td><td>Brazil</td><td>1.112</td></tr><tr><td>2010</td><td>Colombia</td><td>1.037</td></tr><tr><td>2011</td><td>Argentina</td><td>0.386</td></tr><tr><td>2011</td><td>Brazil</td><td>0.814</td></tr><tr><td>2011</td><td>Colombia</td><td>0.467</td></tr><tr><td>2012</td><td>Argentina</td><td>0.798</td></tr><tr><td>2012</td><td>Brazil</td><td>1.023</td></tr><tr><td>2012</td><td>Colombia</td><td>0.668</td></tr><tr><td>2013</td><td>Argentina</td><td>0.442</td></tr><tr><td>2013</td><td>Brazil</td><td>0.922</td></tr><tr><td>2013</td><td>Colombia</td><td>0.834</td></tr><tr><td>2014</td><td>Argentina</td><td>0.951</td></tr><tr><td>2014</td><td>Brazil</td><td>1.153</td></tr><tr><td>2014</td><td>Colombia</td><td>0.854</td></tr><tr><td>2015</td><td>Argentina</td><td>0.957</td></tr><tr><td>2015</td><td>Brazil</td><td>1.516</td></tr><tr><td>2015</td><td>Colombia</td><td>1.249</td></tr><tr><td>2016</td><td>Argentina</td><td>0.488</td></tr><tr><td>2016</td><td>Brazil</td><td>1.457</td></tr><tr><td>2016</td><td>Colombia</td><td>1.08</td></tr><tr><td>2017</td><td>Argentina</td><td>1.095</td></tr><tr><td>2017</td><td>Brazil</td><td>1.363</td></tr><tr><td>2017</td><td>Colombia</td><td>0.82</td></tr><tr><td>2018</td><td>Argentina</td><td>0.878</td></tr><tr><td>2018</td><td>Brazil</td><td>1.148</td></tr><tr><td>2018</td><td>Colombia</td><td>1.137</td></tr><tr><td>2019</td><td>Argentina</td><td>0.76</td></tr><tr><td>2019</td><td>Brazil</td><td>1.517</td></tr><tr><td>2019</td><td>Colombia</td><td>1.397</td></tr><tr><td>2020</td><td>Argentina</td><td>1.123</td></tr><tr><td>2020</td><td>Brazil</td><td>1.477</td></tr><tr><td>2020</td><td>Colombia</td><td>1.583</td></tr><tr><td>2021</td><td>Argentina</td><td>1.031</td></tr><tr><td>2021</td><td>Brazil</td><td>1.154</td></tr><tr><td>2021</td><td>Colombia</td><td>1.073</td></tr><tr><td>2022</td><td>Argentina</td><td>0.643</td></tr><tr><td>2022</td><td>Brazil</td><td>0.926</td></tr><tr><td>2022</td><td>Colombia</td><td>0.874</td></tr></tbody></table></div>"
      ]
     },
     "metadata": {
      "application/vnd.databricks.v1+output": {
       "addedWidgets": {},
       "aggData": [],
       "aggError": "",
       "aggOverflow": false,
       "aggSchema": [],
       "aggSeriesLimitReached": false,
       "aggType": "",
       "arguments": {},
       "columnCustomDisplayInfos": {},
       "data": [
        [
         1961,
         "Argentina",
         0.122
        ],
        [
         1961,
         "Brazil",
         0.167
        ],
        [
         1961,
         "Colombia",
         0.09
        ],
        [
         1962,
         "Argentina",
         -0.046
        ],
        [
         1962,
         "Brazil",
         -0.184
        ],
        [
         1962,
         "Colombia",
         -0.133
        ],
        [
         1963,
         "Argentina",
         0.162
        ],
        [
         1963,
         "Brazil",
         0.158
        ],
        [
         1963,
         "Colombia",
         -0.058
        ],
        [
         1964,
         "Argentina",
         -0.343
        ],
        [
         1964,
         "Brazil",
         -0.213
        ],
        [
         1964,
         "Colombia",
         0.117
        ],
        [
         1965,
         "Argentina",
         0.09
        ],
        [
         1965,
         "Brazil",
         -0.075
        ],
        [
         1965,
         "Colombia",
         -0.217
        ],
        [
         1966,
         "Argentina",
         -0.163
        ],
        [
         1966,
         "Brazil",
         0.044
        ],
        [
         1966,
         "Colombia",
         0.117
        ],
        [
         1967,
         "Argentina",
         0.0
        ],
        [
         1967,
         "Brazil",
         0.073
        ],
        [
         1967,
         "Colombia",
         -0.274
        ],
        [
         1968,
         "Argentina",
         0.472
        ],
        [
         1968,
         "Brazil",
         -0.409
        ],
        [
         1968,
         "Colombia",
         -0.238
        ],
        [
         1969,
         "Argentina",
         0.292
        ],
        [
         1969,
         "Brazil",
         0.331
        ],
        [
         1969,
         "Colombia",
         0.363
        ],
        [
         1970,
         "Argentina",
         0.438
        ],
        [
         1970,
         "Brazil",
         0.13
        ],
        [
         1970,
         "Colombia",
         0.052
        ],
        [
         1971,
         "Argentina",
         -0.26
        ],
        [
         1971,
         "Brazil",
         -0.134
        ],
        [
         1971,
         "Colombia",
         -0.431
        ],
        [
         1972,
         "Argentina",
         -0.008
        ],
        [
         1972,
         "Brazil",
         0.114
        ],
        [
         1972,
         "Colombia",
         -0.022
        ],
        [
         1973,
         "Argentina",
         -0.139
        ],
        [
         1973,
         "Brazil",
         0.443
        ],
        [
         1973,
         "Colombia",
         0.349
        ],
        [
         1974,
         "Argentina",
         -0.106
        ],
        [
         1974,
         "Brazil",
         -0.179
        ],
        [
         1974,
         "Colombia",
         -0.306
        ],
        [
         1975,
         "Argentina",
         -0.021
        ],
        [
         1975,
         "Brazil",
         -0.14
        ],
        [
         1975,
         "Colombia",
         -0.304
        ],
        [
         1976,
         "Argentina",
         -0.321
        ],
        [
         1976,
         "Brazil",
         -0.185
        ],
        [
         1976,
         "Colombia",
         -0.24
        ],
        [
         1977,
         "Argentina",
         0.432
        ],
        [
         1977,
         "Brazil",
         0.252
        ],
        [
         1977,
         "Colombia",
         0.214
        ],
        [
         1978,
         "Argentina",
         0.362
        ],
        [
         1978,
         "Brazil",
         0.03
        ],
        [
         1978,
         "Colombia",
         0.109
        ],
        [
         1979,
         "Argentina",
         0.266
        ],
        [
         1979,
         "Brazil",
         0.017
        ],
        [
         1979,
         "Colombia",
         0.191
        ],
        [
         1980,
         "Argentina",
         0.373
        ],
        [
         1980,
         "Brazil",
         0.313
        ],
        [
         1980,
         "Colombia",
         0.446
        ],
        [
         1981,
         "Argentina",
         0.378
        ],
        [
         1981,
         "Brazil",
         0.191
        ],
        [
         1981,
         "Colombia",
         0.129
        ],
        [
         1982,
         "Argentina",
         0.359
        ],
        [
         1982,
         "Brazil",
         0.277
        ],
        [
         1982,
         "Colombia",
         0.192
        ],
        [
         1983,
         "Argentina",
         0.046
        ],
        [
         1983,
         "Brazil",
         0.471
        ],
        [
         1983,
         "Colombia",
         0.636
        ],
        [
         1984,
         "Argentina",
         -0.1
        ],
        [
         1984,
         "Brazil",
         0.294
        ],
        [
         1984,
         "Colombia",
         -0.233
        ],
        [
         1985,
         "Argentina",
         0.308
        ],
        [
         1985,
         "Brazil",
         0.092
        ],
        [
         1985,
         "Colombia",
         -0.015
        ],
        [
         1986,
         "Argentina",
         0.46
        ],
        [
         1986,
         "Brazil",
         0.285
        ],
        [
         1986,
         "Colombia",
         0.017
        ],
        [
         1987,
         "Argentina",
         0.446
        ],
        [
         1987,
         "Brazil",
         0.722
        ],
        [
         1987,
         "Colombia",
         0.573
        ],
        [
         1988,
         "Argentina",
         -0.192
        ],
        [
         1988,
         "Brazil",
         0.461
        ],
        [
         1988,
         "Colombia",
         0.312
        ],
        [
         1989,
         "Argentina",
         0.611
        ],
        [
         1989,
         "Brazil",
         0.13
        ],
        [
         1989,
         "Colombia",
         -0.091
        ],
        [
         1990,
         "Argentina",
         0.436
        ],
        [
         1990,
         "Brazil",
         0.435
        ],
        [
         1990,
         "Colombia",
         0.31
        ],
        [
         1991,
         "Argentina",
         0.261
        ],
        [
         1991,
         "Brazil",
         0.468
        ],
        [
         1991,
         "Colombia",
         0.449
        ],
        [
         1992,
         "Argentina",
         -0.261
        ],
        [
         1992,
         "Brazil",
         0.403
        ],
        [
         1992,
         "Colombia",
         0.606
        ],
        [
         1993,
         "Argentina",
         0.086
        ],
        [
         1993,
         "Brazil",
         0.495
        ],
        [
         1993,
         "Colombia",
         0.263
        ],
        [
         1994,
         "Argentina",
         0.487
        ],
        [
         1994,
         "Brazil",
         0.608
        ],
        [
         1994,
         "Colombia",
         0.245
        ],
        [
         1995,
         "Argentina",
         0.259
        ],
        [
         1995,
         "Brazil",
         0.799
        ],
        [
         1995,
         "Colombia",
         0.517
        ],
        [
         1996,
         "Argentina",
         0.512
        ],
        [
         1996,
         "Brazil",
         0.504
        ],
        [
         1996,
         "Colombia",
         0.143
        ],
        [
         1997,
         "Argentina",
         0.759
        ],
        [
         1997,
         "Brazil",
         0.671
        ],
        [
         1997,
         "Colombia",
         0.504
        ],
        [
         1998,
         "Argentina",
         0.351
        ],
        [
         1998,
         "Brazil",
         1.234
        ],
        [
         1998,
         "Colombia",
         0.901
        ],
        [
         1999,
         "Argentina",
         0.16
        ],
        [
         1999,
         "Brazil",
         0.523
        ],
        [
         1999,
         "Colombia",
         -0.01
        ],
        [
         2000,
         "Argentina",
         -0.186
        ],
        [
         2000,
         "Brazil",
         0.495
        ],
        [
         2000,
         "Colombia",
         -0.009
        ],
        [
         2001,
         "Argentina",
         0.425
        ],
        [
         2001,
         "Brazil",
         0.746
        ],
        [
         2001,
         "Colombia",
         0.438
        ],
        [
         2002,
         "Argentina",
         0.278
        ],
        [
         2002,
         "Brazil",
         1.052
        ],
        [
         2002,
         "Colombia",
         0.675
        ],
        [
         2003,
         "Argentina",
         0.635
        ],
        [
         2003,
         "Brazil",
         0.927
        ],
        [
         2003,
         "Colombia",
         0.693
        ],
        [
         2004,
         "Argentina",
         0.47
        ],
        [
         2004,
         "Brazil",
         0.768
        ],
        [
         2004,
         "Colombia",
         0.585
        ],
        [
         2005,
         "Argentina",
         0.281
        ],
        [
         2005,
         "Brazil",
         1.085
        ],
        [
         2005,
         "Colombia",
         0.681
        ],
        [
         2006,
         "Argentina",
         0.596
        ],
        [
         2006,
         "Brazil",
         0.77
        ],
        [
         2006,
         "Colombia",
         0.531
        ],
        [
         2007,
         "Argentina",
         -0.169
        ],
        [
         2007,
         "Brazil",
         0.969
        ],
        [
         2007,
         "Colombia",
         0.641
        ],
        [
         2008,
         "Argentina",
         0.601
        ],
        [
         2008,
         "Brazil",
         0.731
        ],
        [
         2008,
         "Colombia",
         0.385
        ],
        [
         2009,
         "Argentina",
         0.857
        ],
        [
         2009,
         "Brazil",
         0.969
        ],
        [
         2009,
         "Colombia",
         0.856
        ],
        [
         2010,
         "Argentina",
         0.135
        ],
        [
         2010,
         "Brazil",
         1.112
        ],
        [
         2010,
         "Colombia",
         1.037
        ],
        [
         2011,
         "Argentina",
         0.386
        ],
        [
         2011,
         "Brazil",
         0.814
        ],
        [
         2011,
         "Colombia",
         0.467
        ],
        [
         2012,
         "Argentina",
         0.798
        ],
        [
         2012,
         "Brazil",
         1.023
        ],
        [
         2012,
         "Colombia",
         0.668
        ],
        [
         2013,
         "Argentina",
         0.442
        ],
        [
         2013,
         "Brazil",
         0.922
        ],
        [
         2013,
         "Colombia",
         0.834
        ],
        [
         2014,
         "Argentina",
         0.951
        ],
        [
         2014,
         "Brazil",
         1.153
        ],
        [
         2014,
         "Colombia",
         0.854
        ],
        [
         2015,
         "Argentina",
         0.957
        ],
        [
         2015,
         "Brazil",
         1.516
        ],
        [
         2015,
         "Colombia",
         1.249
        ],
        [
         2016,
         "Argentina",
         0.488
        ],
        [
         2016,
         "Brazil",
         1.457
        ],
        [
         2016,
         "Colombia",
         1.08
        ],
        [
         2017,
         "Argentina",
         1.095
        ],
        [
         2017,
         "Brazil",
         1.363
        ],
        [
         2017,
         "Colombia",
         0.82
        ],
        [
         2018,
         "Argentina",
         0.878
        ],
        [
         2018,
         "Brazil",
         1.148
        ],
        [
         2018,
         "Colombia",
         1.137
        ],
        [
         2019,
         "Argentina",
         0.76
        ],
        [
         2019,
         "Brazil",
         1.517
        ],
        [
         2019,
         "Colombia",
         1.397
        ],
        [
         2020,
         "Argentina",
         1.123
        ],
        [
         2020,
         "Brazil",
         1.477
        ],
        [
         2020,
         "Colombia",
         1.583
        ],
        [
         2021,
         "Argentina",
         1.031
        ],
        [
         2021,
         "Brazil",
         1.154
        ],
        [
         2021,
         "Colombia",
         1.073
        ],
        [
         2022,
         "Argentina",
         0.643
        ],
        [
         2022,
         "Brazil",
         0.926
        ],
        [
         2022,
         "Colombia",
         0.874
        ]
       ],
       "datasetInfos": [],
       "dbfsResultPath": null,
       "isJsonSchema": true,
       "metadata": {},
       "overflow": false,
       "plotOptions": {
        "customPlotOptions": {},
        "displayType": "table",
        "pivotAggregation": null,
        "pivotColumns": null,
        "xColumns": null,
        "yColumns": null
       },
       "removedWidgets": [],
       "schema": [
        {
         "metadata": "{}",
         "name": "ano",
         "type": "\"integer\""
        },
        {
         "metadata": "{}",
         "name": "nome_pais",
         "type": "\"string\""
        },
        {
         "metadata": "{}",
         "name": "temperatura_media_America_do_Sul",
         "type": "\"double\""
        }
       ],
       "type": "table"
      }
     },
     "output_type": "display_data"
    },
    {
     "output_type": "display_data",
     "data": {
      "text/plain": [
       "Databricks visualization. Run in Databricks to view."
      ]
     },
     "metadata": {
      "application/vnd.databricks.v1.subcommand+json": {
       "baseErrorDetails": null,
       "bindings": {},
       "collapsed": false,
       "command": "%sql WITH q AS (SELECT\n    t.ano,\n    p.nome_pais,\n    ROUND(AVG(f.valor_temperatura), 3) AS temperatura_media_America_do_Sul\nFROM\n    gold.fato_temperatura f\nJOIN gold.dim_pais p\n    ON f.ISO3 = p.codigo_iso3\nJOIN gold.dim_tempo t\n    ON f.ano = t.ano\nWHERE\n    p.codigo_iso3 IN ('BRA', 'ARG', 'COL')\nGROUP BY\n    t.ano, p.nome_pais\nORDER BY\n    t.ano, p.nome_pais) SELECT `ano`,AVG(`temperatura_media_America_do_Sul`) `column_4ec8da5841`,`nome_pais` FROM q GROUP BY `ano`,`nome_pais`",
       "commandTitle": "Temperaturas Entre as Cinco Maiores Economias da América do Sul no Período entre 1961 e 2022",
       "commandType": "auto",
       "commandVersion": 0,
       "commentThread": [],
       "commentsVisible": false,
       "contentSha256Hex": null,
       "customPlotOptions": {
        "redashChart": [
         {
          "key": "type",
          "value": "CHART"
         },
         {
          "key": "options",
          "value": {
           "alignYAxesAtZero": true,
           "coefficient": 1,
           "columnConfigurationMap": {
            "series": {
             "column": "nome_pais",
             "id": "column_4ec8da5847"
            },
            "x": {
             "column": "ano",
             "id": "column_4ec8da5840"
            },
            "y": [
             {
              "column": "temperatura_media_America_do_Sul",
              "id": "column_4ec8da5841",
              "transform": "AVG"
             }
            ]
           },
           "dateTimeFormat": "DD/MM/YYYY HH:mm",
           "direction": {
            "type": "counterclockwise"
           },
           "error_y": {
            "type": "data",
            "visible": true
           },
           "globalSeriesType": "line",
           "isAggregationOn": true,
           "legend": {
            "traceorder": "normal"
           },
           "missingValuesAsZero": true,
           "numberFormat": "0,0.[00000]",
           "percentFormat": "0[.]00%",
           "series": {
            "error_y": {
             "type": "data",
             "visible": true
            },
            "stacking": null
           },
           "seriesOptions": {
            "Brazil": {
             "color": "#049235"
            },
            "Colombia": {
             "color": "#FB8D3D"
            },
            "column_4ec8da5841": {
             "name": "temperatura_media_America_do_Sul",
             "type": "line",
             "yAxis": 0
            }
           },
           "showDataLabels": false,
           "sizemode": "diameter",
           "sortX": true,
           "sortY": true,
           "swappedAxes": false,
           "textFormat": "",
           "useAggregationsUi": true,
           "valuesOptions": {},
           "version": 2,
           "xAxis": {
            "labels": {
             "enabled": true
            },
            "type": "-"
           },
           "yAxis": [
            {
             "type": "-"
            },
            {
             "opposite": true,
             "type": "-"
            }
           ]
          }
         }
        ]
       },
       "datasetPreviewNameToCmdIdMap": {},
       "diffDeletes": [],
       "diffInserts": [],
       "displayType": "redashChart",
       "error": null,
       "errorDetails": null,
       "errorSummary": null,
       "errorTraceType": null,
       "finishTime": 0,
       "globalVars": {},
       "guid": "",
       "height": "auto",
       "hideCommandCode": false,
       "hideCommandResult": false,
       "iPythonMetadata": null,
       "inputWidgets": {},
       "isLockedInExamMode": false,
       "latestUser": "a user",
       "latestUserId": null,
       "listResultMetadata": null,
       "metadata": {},
       "nuid": "aaba83cf-0d77-4a94-b783-48461455657c",
       "origId": 0,
       "parentHierarchy": [],
       "pivotAggregation": null,
       "pivotColumns": null,
       "position": 21.0,
       "resultDbfsErrorMessage": null,
       "resultDbfsStatus": "INLINED_IN_TREE",
       "results": null,
       "showCommandTitle": false,
       "startTime": 0,
       "state": "input",
       "streamStates": {},
       "subcommandOptions": {
        "queryPlan": {
         "groups": [
          {
           "column": "ano",
           "type": "column"
          },
          {
           "column": "nome_pais",
           "type": "column"
          }
         ],
         "selects": [
          {
           "column": "ano",
           "type": "column"
          },
          {
           "alias": "column_4ec8da5841",
           "args": [
            {
             "column": "temperatura_media_America_do_Sul",
             "type": "column"
            }
           ],
           "function": "AVG",
           "type": "function"
          },
          {
           "column": "nome_pais",
           "type": "column"
          }
         ]
        }
       },
       "submitTime": 0,
       "subtype": "tableResultSubCmd.visualization",
       "tableResultIndex": 0,
       "tableResultSettingsMap": {},
       "useConsistentColors": false,
       "version": "CommandV1",
       "width": "auto",
       "workflows": [],
       "xColumns": null,
       "yColumns": null
      }
     },
     "output_type": "display_data"
    }
   ],
   "source": [
    "%sql\n",
    "--\n",
    "SELECT\n",
    "    t.ano,\n",
    "    p.nome_pais,\n",
    "    ROUND(AVG(f.valor_temperatura), 3) AS temperatura_media_America_do_Sul\n",
    "FROM\n",
    "    gold.fato_temperatura f\n",
    "JOIN gold.dim_pais p\n",
    "    ON f.ISO3 = p.codigo_iso3\n",
    "JOIN gold.dim_tempo t\n",
    "    ON f.ano = t.ano\n",
    "WHERE\n",
    "    p.codigo_iso3 IN ('BRA', 'ARG', 'COL')\n",
    "GROUP BY\n",
    "    t.ano, p.nome_pais\n",
    "ORDER BY\n",
    "    t.ano, p.nome_pais;"
   ]
  },
  {
   "cell_type": "markdown",
   "metadata": {
    "application/vnd.databricks.v1+cell": {
     "cellMetadata": {},
     "inputWidgets": {},
     "nuid": "0d9fb8c5-d078-4b40-9ea3-e07cd78bcee4",
     "showTitle": false,
     "tableResultSettingsMap": {},
     "title": ""
    }
   },
   "source": [
    "Podemos observar que na América do Sul, Brasil, Argentia e Colômbia seguem a tendência mundial, com as médias brasileira ligeiramente acima da argentina e da comlombiana a partir da década de 90."
   ]
  },
  {
   "cell_type": "markdown",
   "metadata": {
    "application/vnd.databricks.v1+cell": {
     "cellMetadata": {},
     "inputWidgets": {},
     "nuid": "ef5e5d75-53e5-4359-8cad-7619baafaaa0",
     "showTitle": false,
     "tableResultSettingsMap": {},
     "title": ""
    }
   },
   "source": [
    "Faça uma comparação entre as temperaturas das superfícies do Brasil, China e Estados Unidos ao longo das décadas 60 até 20."
   ]
  },
  {
   "cell_type": "code",
   "execution_count": 0,
   "metadata": {
    "application/vnd.databricks.v1+cell": {
     "cellMetadata": {
      "byteLimit": 2048000,
      "implicitDf": true,
      "rowLimit": 10000
     },
     "inputWidgets": {},
     "nuid": "607de4b0-1ad6-4212-84fd-c7577e28bc8b",
     "showTitle": false,
     "tableResultSettingsMap": {},
     "title": ""
    }
   },
   "outputs": [
    {
     "output_type": "display_data",
     "data": {
      "text/html": [
       "<style scoped>\n",
       "  .table-result-container {\n",
       "    max-height: 300px;\n",
       "    overflow: auto;\n",
       "  }\n",
       "  table, th, td {\n",
       "    border: 1px solid black;\n",
       "    border-collapse: collapse;\n",
       "  }\n",
       "  th, td {\n",
       "    padding: 5px;\n",
       "  }\n",
       "  th {\n",
       "    text-align: left;\n",
       "  }\n",
       "</style><div class='table-result-container'><table class='table-result'><thead style='background-color: white'><tr><th>decada</th><th>nome_pais</th><th>temperatura_media</th></tr></thead><tbody><tr><td>1960</td><td>Brazil</td><td>-0.012</td></tr><tr><td>1960</td><td>China, P.R.: Mainland</td><td>-0.029</td></tr><tr><td>1960</td><td>United States</td><td>-0.081</td></tr><tr><td>1970</td><td>Brazil</td><td>0.035</td></tr><tr><td>1970</td><td>China, P.R.: Mainland</td><td>0.052</td></tr><tr><td>1970</td><td>United States</td><td>-0.102</td></tr><tr><td>1980</td><td>Brazil</td><td>0.324</td></tr><tr><td>1980</td><td>China, P.R.: Mainland</td><td>0.191</td></tr><tr><td>1980</td><td>United States</td><td>0.351</td></tr><tr><td>1990</td><td>Brazil</td><td>0.614</td></tr><tr><td>1990</td><td>China, P.R.: Mainland</td><td>0.653</td></tr><tr><td>1990</td><td>United States</td><td>0.51</td></tr><tr><td>2000</td><td>Brazil</td><td>0.851</td></tr><tr><td>2000</td><td>China, P.R.: Mainland</td><td>1.092</td></tr><tr><td>2000</td><td>United States</td><td>0.852</td></tr><tr><td>2010</td><td>Brazil</td><td>1.203</td></tr><tr><td>2010</td><td>China, P.R.: Mainland</td><td>1.149</td></tr><tr><td>2010</td><td>United States</td><td>1.129</td></tr><tr><td>2020</td><td>Brazil</td><td>1.186</td></tr><tr><td>2020</td><td>China, P.R.: Mainland</td><td>1.742</td></tr><tr><td>2020</td><td>United States</td><td>1.228</td></tr></tbody></table></div>"
      ]
     },
     "metadata": {
      "application/vnd.databricks.v1+output": {
       "addedWidgets": {},
       "aggData": [],
       "aggError": "",
       "aggOverflow": false,
       "aggSchema": [],
       "aggSeriesLimitReached": false,
       "aggType": "",
       "arguments": {},
       "columnCustomDisplayInfos": {},
       "data": [
        [
         1960,
         "Brazil",
         -0.012
        ],
        [
         1960,
         "China, P.R.: Mainland",
         -0.029
        ],
        [
         1960,
         "United States",
         -0.081
        ],
        [
         1970,
         "Brazil",
         0.035
        ],
        [
         1970,
         "China, P.R.: Mainland",
         0.052
        ],
        [
         1970,
         "United States",
         -0.102
        ],
        [
         1980,
         "Brazil",
         0.324
        ],
        [
         1980,
         "China, P.R.: Mainland",
         0.191
        ],
        [
         1980,
         "United States",
         0.351
        ],
        [
         1990,
         "Brazil",
         0.614
        ],
        [
         1990,
         "China, P.R.: Mainland",
         0.653
        ],
        [
         1990,
         "United States",
         0.51
        ],
        [
         2000,
         "Brazil",
         0.851
        ],
        [
         2000,
         "China, P.R.: Mainland",
         1.092
        ],
        [
         2000,
         "United States",
         0.852
        ],
        [
         2010,
         "Brazil",
         1.203
        ],
        [
         2010,
         "China, P.R.: Mainland",
         1.149
        ],
        [
         2010,
         "United States",
         1.129
        ],
        [
         2020,
         "Brazil",
         1.186
        ],
        [
         2020,
         "China, P.R.: Mainland",
         1.742
        ],
        [
         2020,
         "United States",
         1.228
        ]
       ],
       "datasetInfos": [],
       "dbfsResultPath": null,
       "isJsonSchema": true,
       "metadata": {},
       "overflow": false,
       "plotOptions": {
        "customPlotOptions": {},
        "displayType": "table",
        "pivotAggregation": null,
        "pivotColumns": null,
        "xColumns": null,
        "yColumns": null
       },
       "removedWidgets": [],
       "schema": [
        {
         "metadata": "{}",
         "name": "decada",
         "type": "\"integer\""
        },
        {
         "metadata": "{}",
         "name": "nome_pais",
         "type": "\"string\""
        },
        {
         "metadata": "{}",
         "name": "temperatura_media",
         "type": "\"double\""
        }
       ],
       "type": "table"
      }
     },
     "output_type": "display_data"
    },
    {
     "output_type": "display_data",
     "data": {
      "text/plain": [
       "Databricks visualization. Run in Databricks to view."
      ]
     },
     "metadata": {
      "application/vnd.databricks.v1.subcommand+json": {
       "baseErrorDetails": null,
       "bindings": {},
       "collapsed": false,
       "command": "%sql WITH q AS (SELECT\n    t.decada,\n    p.nome_pais,\n    ROUND(AVG(f.valor_temperatura), 3) AS temperatura_media\nFROM\n    silver.fato_temperatura f\nJOIN silver.dim_pais p\n    ON f.ISO3 = p.codigo_iso3\nJOIN silver.dim_tempo t\n    ON f.ano = t.ano\nWHERE\n    p.codigo_iso3 IN ('BRA', 'USA', 'CHI')\nGROUP BY\n    t.decada, p.nome_pais\nORDER BY\n    t.decada, p.nome_pais) SELECT `decada`,AVG(`temperatura_media`) `column_e5a4637943`,`nome_pais` FROM q GROUP BY `decada`,`nome_pais`",
       "commandTitle": "Comparação entre as Temperaturas Médias das Superfícies entre Brasil, EUA e China por Década",
       "commandType": "auto",
       "commandVersion": 0,
       "commentThread": [],
       "commentsVisible": false,
       "contentSha256Hex": null,
       "customPlotOptions": {
        "redashChart": [
         {
          "key": "type",
          "value": "CHART"
         },
         {
          "key": "options",
          "value": {
           "alignYAxesAtZero": true,
           "coefficient": 1,
           "columnConfigurationMap": {
            "series": {
             "column": "nome_pais",
             "id": "column_e5a4637944"
            },
            "x": {
             "column": "decada",
             "id": "column_e5a4637942"
            },
            "y": [
             {
              "column": "temperatura_media",
              "id": "column_e5a4637943",
              "transform": "AVG"
             }
            ]
           },
           "dateTimeFormat": "DD/MM/YYYY HH:mm",
           "direction": {
            "type": "counterclockwise"
           },
           "error_y": {
            "type": "data",
            "visible": true
           },
           "globalSeriesType": "column",
           "isAggregationOn": true,
           "legend": {
            "traceorder": "normal"
           },
           "missingValuesAsZero": true,
           "numberFormat": "0,0.[00000]",
           "percentFormat": "0[.]00%",
           "series": {
            "error_y": {
             "type": "data",
             "visible": true
            },
            "stacking": null
           },
           "seriesOptions": {
            "Brazil": {
             "color": "#049235"
            },
            "United States": {
             "color": "#002FB4"
            },
            "column_e5a4637943": {
             "name": "temperatura_media",
             "type": "column",
             "yAxis": 0
            }
           },
           "showDataLabels": false,
           "sizemode": "diameter",
           "sortX": true,
           "sortY": true,
           "swappedAxes": false,
           "textFormat": "",
           "useAggregationsUi": true,
           "valuesOptions": {},
           "version": 2,
           "xAxis": {
            "labels": {
             "enabled": true
            },
            "type": "-"
           },
           "yAxis": [
            {
             "type": "-"
            },
            {
             "opposite": true,
             "type": "-"
            }
           ]
          }
         }
        ]
       },
       "datasetPreviewNameToCmdIdMap": {},
       "diffDeletes": [],
       "diffInserts": [],
       "displayType": "redashChart",
       "error": null,
       "errorDetails": null,
       "errorSummary": null,
       "errorTraceType": null,
       "finishTime": 0,
       "globalVars": {},
       "guid": "",
       "height": "auto",
       "hideCommandCode": false,
       "hideCommandResult": false,
       "iPythonMetadata": null,
       "inputWidgets": {},
       "isLockedInExamMode": false,
       "latestUser": "a user",
       "latestUserId": null,
       "listResultMetadata": null,
       "metadata": {},
       "nuid": "da4ec758-ed6f-4438-aa24-3adc9076da61",
       "origId": 0,
       "parentHierarchy": [],
       "pivotAggregation": null,
       "pivotColumns": null,
       "position": 18.0,
       "resultDbfsErrorMessage": null,
       "resultDbfsStatus": "INLINED_IN_TREE",
       "results": null,
       "showCommandTitle": false,
       "startTime": 0,
       "state": "input",
       "streamStates": {},
       "subcommandOptions": {
        "queryPlan": {
         "groups": [
          {
           "column": "decada",
           "type": "column"
          },
          {
           "column": "nome_pais",
           "type": "column"
          }
         ],
         "selects": [
          {
           "column": "decada",
           "type": "column"
          },
          {
           "alias": "column_e5a4637943",
           "args": [
            {
             "column": "temperatura_media",
             "type": "column"
            }
           ],
           "function": "AVG",
           "type": "function"
          },
          {
           "column": "nome_pais",
           "type": "column"
          }
         ]
        }
       },
       "submitTime": 0,
       "subtype": "tableResultSubCmd.visualization",
       "tableResultIndex": 0,
       "tableResultSettingsMap": {},
       "useConsistentColors": false,
       "version": "CommandV1",
       "width": "auto",
       "workflows": [],
       "xColumns": null,
       "yColumns": null
      }
     },
     "output_type": "display_data"
    }
   ],
   "source": [
    "%sql\n",
    "--\n",
    "SELECT\n",
    "    t.decada,\n",
    "    p.nome_pais,\n",
    "    ROUND(AVG(f.valor_temperatura), 3) AS temperatura_media\n",
    "FROM\n",
    "    gold.fato_temperatura f\n",
    "JOIN gold.dim_pais p\n",
    "    ON f.ISO3 = p.codigo_iso3\n",
    "JOIN gold.dim_tempo t\n",
    "    ON f.ano = t.ano\n",
    "WHERE\n",
    "    p.codigo_iso3 IN ('BRA', 'USA', 'CHN')\n",
    "GROUP BY\n",
    "    t.decada, p.nome_pais\n",
    "ORDER BY\n",
    "    t.decada, p.nome_pais;"
   ]
  },
  {
   "cell_type": "markdown",
   "metadata": {
    "application/vnd.databricks.v1+cell": {
     "cellMetadata": {},
     "inputWidgets": {},
     "nuid": "d7438153-7d0f-451a-a435-eca1bbfc1ac7",
     "showTitle": false,
     "tableResultSettingsMap": {},
     "title": ""
    }
   },
   "source": [
    "Todos apresentam tendência de aumento nas temperaturas das superfícies a partir da década de 80. Vale ressaltar que a China apresentou o maior aumento nas média das temperaturas entre as décadas de 10 e o ínicio da década de 20, com Brasil e estados unidos se mantendo praticamente estávveis."
   ]
  },
  {
   "cell_type": "markdown",
   "metadata": {
    "application/vnd.databricks.v1+cell": {
     "cellMetadata": {},
     "inputWidgets": {},
     "nuid": "0d81da44-2ee8-4675-ab46-095c20324af9",
     "showTitle": false,
     "tableResultSettingsMap": {},
     "title": ""
    }
   },
   "source": [
    "### Resumo Geral das Análises em SQL\n",
    "\n",
    "As consultas SQL executadas sobre os dados tratados na camada Gold permitiram extrair insights relevantes sobre o comportamento da temperatura média da superfície terrestre ao longo do tempo e entre diferentes países.\n",
    "\n",
    "Observou-se uma tendência geral de aumento nas anomalias das temperaturas das superfícies, intensificada a partir da década de 1990.No entanto, desde a década de 1980, as temperaturas médias vêm subindo de forma consistente, com um acréscimo aproximado de 0,3 °C por década. Foi identificado que apenas dois países apresentaram valores médios de temperatura inferiores a 0 °C, indicando um resfriamento na superfície, no ano de 2022, o que sugere que é necessário averiguar o que acontece localmente nessa região.\n",
    "\n",
    "Além disso, 76 países já ultrapassaram o limiar crítico de 1.5 °C de aumento da temperatura média em suas superfícies em 2022, valor amplamente referenciado em acordos climáticos internacionais como o Acorde de Paris. Em comparação com 1961, o número de países nessa condição aumentou de forma expressiva, já que neste ano apenas dois países tiveram anomalias maiores que 1.5 °C.\n",
    "\n",
    "Na comparação entre Brasil e as principais potências economias da América do Sul,Argentina e Comlômbia, nota-se que os países seguem esse padrão global de aquecimento, com as médias brasileira ligeiramente acima da argentina e da comlombiana a partir da década de 90.\n",
    "refletindo um comportamento semelhante ao das principais potências mundiais.\n",
    "\n",
    "Quando comparamoss o Brasil com as potênncias globais, China e Estados Unidos, todos os três países demonstram uma tendência clara de aumento nas temperaturas médias da superfície a partir da década de 1980. Destaca-se que a China apresentou o maior crescimento nas médias das temperaturas entre a década de 2010 e o início da década de 2020, enquanto Brasil e Estados Unidos mantiveram-se praticamente estáveis nesse mesmo período.\n"
   ]
  },
  {
   "cell_type": "markdown",
   "metadata": {
    "application/vnd.databricks.v1+cell": {
     "cellMetadata": {},
     "inputWidgets": {},
     "nuid": "35720b8c-d53c-41f4-a1b7-62dbfe5d7dd8",
     "showTitle": false,
     "tableResultSettingsMap": {},
     "title": ""
    }
   },
   "source": [
    "# 6. Autoavaliação\n",
    "\n",
    "Seguindo a ideia de desenvlver o MVP sobre dados de mudança climática, foi utilizada uma base de dados proveniente da plataforma FAOSTAT, que disponibiliza estatísticas globais sobre mudanças de temperatura com base em dados da NASA-GISS. Os objetivos propostos neste MVP foram atingidos de maneira satisfatória. Todas as etapas previstas — desde a coleta, preparação, modelagem e análise dos dados — foram realizadas de acordo com o planejamento. .\n",
    "\n",
    "A modelagem de dados foi desenvolvida em ambiente de nuvem, utilizando a plataforma Databricks Community Edition, com adoção da arquitetura em camadas (medalhão) — bronze, prata e ouro — para garantir organização, rastreabilidade e facilidade de manutenção dos dados ao longo do pipeline.\n",
    "\n",
    "Foi possível trabalhar com um conjunto de dados que permitiu relacionamentos entre múltiplas tabelas, possibilitando a construção de uma modelagem no esquema estrela, composta por tabelas fato e dimensão, o que favoreceu a prática de joins em consultas em SQL gerando análises mais robustas.\n",
    "\n",
    "Durante o desenvolvimento, a execução do catálogo de dados e a definição do modelo conceitual exigiram mais esforço do que o inicialmente previsto. Isso se deve à necessidade de delimitar corretamente as entidades e seus relacionamentos, além de estruturar adequadamente a separação entre fatos e dimensões para garantir consistência nas análises.\n",
    "\n",
    "Como possibilidade de evolução futura do trabalho, sugere-se o uso da versão mais completa do conjunto de dados disponível no site da FAOSTAT, que abrange até o ano de 2024, incluindo médias trimestrais, médias por continente (como Antártida) e os valores de desvio padrão para cada medição. A inclusão dessas informações permitiria enriquecer ainda mais as análises, oferecendo uma visão mais precisa do comportamento das médias das temperaturas na superfície terrestre em diferentes escalas geográficas e temporais."
   ]
  }
 ],
 "metadata": {
  "application/vnd.databricks.v1+notebook": {
   "computePreferences": null,
   "dashboards": [
    {
     "elements": [
      {
       "dashboardResultIndex": null,
       "elementNUID": "5afc2cd0-1ae5-4766-9b0e-44deb863c400",
       "elementType": "command",
       "guid": "0810b7c8-21da-4c43-95f4-a63195063a2b",
       "options": null,
       "position": {
        "height": 6,
        "width": 12,
        "x": 0,
        "y": 221,
        "z": null
       },
       "resultIndex": null
      },
      {
       "dashboardResultIndex": null,
       "elementNUID": "da4ec758-ed6f-4438-aa24-3adc9076da61",
       "elementType": "command",
       "guid": "10e6e654-27fc-4bb3-9bf1-25fbc744b873",
       "options": null,
       "position": {
        "height": 6,
        "width": 12,
        "x": 0,
        "y": 213,
        "z": null
       },
       "resultIndex": null
      },
      {
       "dashboardResultIndex": null,
       "elementNUID": "e238bea9-b925-4ab6-85a5-1f8079bc308e",
       "elementType": "command",
       "guid": "1452c4dd-d149-4584-8056-bd35f36c8afb",
       "options": null,
       "position": {
        "height": 1,
        "width": 12,
        "x": 0,
        "y": 285,
        "z": null
       },
       "resultIndex": null
      },
      {
       "dashboardResultIndex": null,
       "elementNUID": "35720b8c-d53c-41f4-a1b7-62dbfe5d7dd8",
       "elementType": "command",
       "guid": "152f010b-f879-42e0-85e9-40b49d5871e4",
       "options": null,
       "position": {
        "height": 23,
        "width": 12,
        "x": 0,
        "y": 333,
        "z": null
       },
       "resultIndex": null
      },
      {
       "dashboardResultIndex": null,
       "elementNUID": "d7438153-7d0f-451a-a435-eca1bbfc1ac7",
       "elementType": "command",
       "guid": "15515408-6a19-400b-9b3b-a806f4d64307",
       "options": null,
       "position": {
        "height": 4,
        "width": 12,
        "x": 0,
        "y": 327,
        "z": null
       },
       "resultIndex": null
      },
      {
       "dashboardResultIndex": null,
       "elementNUID": "50fc1044-c8b1-4fd8-9f4a-7c4f19f937e5",
       "elementType": "command",
       "guid": "1695ac00-b61a-44aa-b0a8-dadefdc7bcdb",
       "options": null,
       "position": {
        "height": 6,
        "width": 12,
        "x": 0,
        "y": 109,
        "z": null
       },
       "resultIndex": null
      },
      {
       "dashboardResultIndex": null,
       "elementNUID": "13467e6c-ebdf-4653-bc1a-814d3f24d4a3",
       "elementType": "command",
       "guid": "19459c5f-922c-4129-96f2-b1e2dfd0e40f",
       "options": null,
       "position": {
        "height": 7,
        "width": 12,
        "x": 0,
        "y": 131,
        "z": null
       },
       "resultIndex": null
      },
      {
       "dashboardResultIndex": null,
       "elementNUID": "32bdb895-6da1-46b3-a05c-8ed42792eaf3",
       "elementType": "command",
       "guid": "1a03bd0f-e1f8-400d-8b45-a4203b152d6a",
       "options": null,
       "position": {
        "height": 7,
        "width": 12,
        "x": 0,
        "y": 144,
        "z": null
       },
       "resultIndex": null
      },
      {
       "dashboardResultIndex": 0,
       "elementNUID": "6742bf8b-51bf-475e-89e1-621296270791",
       "elementType": "command",
       "guid": "1b97b584-dda1-4b3f-9f02-6d7169b7cd5a",
       "options": null,
       "position": {
        "height": 6,
        "width": 12,
        "x": 0,
        "y": 151,
        "z": null
       },
       "resultIndex": null
      },
      {
       "dashboardResultIndex": null,
       "elementNUID": "8ba41b20-37ac-4385-b364-a81562ee2114",
       "elementType": "command",
       "guid": "2413ce13-426f-4b5c-bae0-07940f4ee91b",
       "options": null,
       "position": {
        "height": 9,
        "width": 12,
        "x": 0,
        "y": 26,
        "z": null
       },
       "resultIndex": null
      },
      {
       "dashboardResultIndex": null,
       "elementNUID": "2e3d2a7e-1fbb-4e1d-9c92-5a73ef84d628",
       "elementType": "command",
       "guid": "24be19e8-ab0f-4ac7-8c61-a7692055fbf4",
       "options": null,
       "position": {
        "height": 3,
        "width": 12,
        "x": 0,
        "y": 272,
        "z": null
       },
       "resultIndex": null
      },
      {
       "dashboardResultIndex": null,
       "elementNUID": "2d571b4a-1556-49bd-b55e-c927df2bd53f",
       "elementType": "command",
       "guid": "28125a11-04d5-4e0e-91fa-7dbfa4aca375",
       "options": null,
       "position": {
        "height": 10,
        "width": 12,
        "x": 0,
        "y": 0,
        "z": null
       },
       "resultIndex": null
      },
      {
       "dashboardResultIndex": 0,
       "elementNUID": "5470d233-9fb8-4491-b6df-4b38226386f8",
       "elementType": "command",
       "guid": "2abcec33-56c0-4dee-a200-2ea7eab0102a",
       "options": null,
       "position": {
        "height": 6,
        "width": 12,
        "x": 0,
        "y": 164,
        "z": null
       },
       "resultIndex": null
      },
      {
       "dashboardResultIndex": null,
       "elementNUID": "b56883f9-78a4-4b7b-9664-724bcb4cfbaa",
       "elementType": "command",
       "guid": "2ca57055-0195-492b-b836-82791d5d0d64",
       "options": null,
       "position": {
        "height": 3,
        "width": 12,
        "x": 0,
        "y": 251,
        "z": null
       },
       "resultIndex": null
      },
      {
       "dashboardResultIndex": null,
       "elementNUID": "8940d048-5093-4193-ba48-7aee895bba8c",
       "elementType": "command",
       "guid": "330c5b2b-fca3-469d-b53d-e2d533fdcfbb",
       "options": null,
       "position": {
        "height": 2,
        "width": 12,
        "x": 0,
        "y": 302,
        "z": null
       },
       "resultIndex": null
      },
      {
       "dashboardResultIndex": null,
       "elementNUID": "b5efb27a-35d2-4852-a19f-ba5fca372497",
       "elementType": "command",
       "guid": "35c535d2-5bff-4fac-aca7-596ce1bc0aaa",
       "options": null,
       "position": {
        "height": 6,
        "width": 12,
        "x": 0,
        "y": 201,
        "z": null
       },
       "resultIndex": null
      },
      {
       "dashboardResultIndex": 0,
       "elementNUID": "d138e309-9d69-47cc-86ab-09a0ca225716",
       "elementType": "command",
       "guid": "365144e1-c27f-47b1-946d-1668aa6d1186",
       "options": null,
       "position": {
        "height": 6,
        "width": 12,
        "x": 0,
        "y": 286,
        "z": null
       },
       "resultIndex": null
      },
      {
       "dashboardResultIndex": null,
       "elementNUID": "ef5e5d75-53e5-4359-8cad-7619baafaaa0",
       "elementType": "command",
       "guid": "3b3913b7-b8c8-4cec-b892-9aa16ac571f8",
       "options": null,
       "position": {
        "height": 2,
        "width": 12,
        "x": 0,
        "y": 319,
        "z": null
       },
       "resultIndex": null
      },
      {
       "dashboardResultIndex": null,
       "elementNUID": "aaba83cf-0d77-4a94-b783-48461455657c",
       "elementType": "command",
       "guid": "3c328739-0383-45d3-a48a-2e144aa32579",
       "options": null,
       "position": {
        "height": 6,
        "width": 12,
        "x": 0,
        "y": 227,
        "z": null
       },
       "resultIndex": null
      },
      {
       "dashboardResultIndex": null,
       "elementNUID": "5e895fa3-55ef-4650-ad43-783b2be230b7",
       "elementType": "command",
       "guid": "3c6f64a3-119b-46f4-a24b-ad438f32e9d0",
       "options": null,
       "position": {
        "height": 35,
        "width": 12,
        "x": 0,
        "y": 72,
        "z": null
       },
       "resultIndex": null
      },
      {
       "dashboardResultIndex": null,
       "elementNUID": "3f69ce5b-2c98-4435-b271-583bf41f92c2",
       "elementType": "command",
       "guid": "40a3e07c-6dab-40db-b7ae-05154686a579",
       "options": null,
       "position": {
        "height": 2,
        "width": 12,
        "x": 0,
        "y": 241,
        "z": null
       },
       "resultIndex": null
      },
      {
       "dashboardResultIndex": null,
       "elementNUID": "4a734db0-871e-454f-b85b-e965e1f4caf9",
       "elementType": "command",
       "guid": "44ec3a04-4505-496a-8440-96926b2ca795",
       "options": null,
       "position": {
        "height": 5,
        "width": 12,
        "x": 0,
        "y": 157,
        "z": null
       },
       "resultIndex": null
      },
      {
       "dashboardResultIndex": 0,
       "elementNUID": "4e426ef6-dbf5-4b8c-96d3-50a020d7bd95",
       "elementType": "command",
       "guid": "4528cdaf-00e8-49fe-957c-a6cb7ffd1a14",
       "options": null,
       "position": {
        "height": 6,
        "width": 12,
        "x": 0,
        "y": 138,
        "z": null
       },
       "resultIndex": null
      },
      {
       "dashboardResultIndex": 0,
       "elementNUID": "224c68ae-ed76-446e-93eb-b17583c85e5f",
       "elementType": "command",
       "guid": "454bdf21-b6b4-4673-b0cf-d6c427ce34de",
       "options": null,
       "position": {
        "height": 6,
        "width": 12,
        "x": 0,
        "y": 304,
        "z": null
       },
       "resultIndex": null
      },
      {
       "dashboardResultIndex": null,
       "elementNUID": "1a84a533-ea28-4ded-b8dd-6ce3a83b8fa4",
       "elementType": "command",
       "guid": "4d9a8475-bf5f-4a2b-a571-d60467ac9878",
       "options": null,
       "position": {
        "height": 2,
        "width": 12,
        "x": 0,
        "y": 35,
        "z": null
       },
       "resultIndex": null
      },
      {
       "dashboardResultIndex": null,
       "elementNUID": "81e90014-9208-44d9-be8a-34a7858afca0",
       "elementType": "command",
       "guid": "513dc975-89f6-424b-b6bf-5062c7eb0cd1",
       "options": null,
       "position": {
        "height": 2,
        "width": 12,
        "x": 0,
        "y": 178,
        "z": null
       },
       "resultIndex": null
      },
      {
       "dashboardResultIndex": null,
       "elementNUID": "3d1a79fc-f3c4-436a-884f-2d0fdfbf2318",
       "elementType": "command",
       "guid": "72c89763-bae6-4b79-bc28-aa5f1ef9d0e2",
       "options": null,
       "position": {
        "height": 6,
        "width": 12,
        "x": 0,
        "y": 207,
        "z": null
       },
       "resultIndex": null
      },
      {
       "dashboardResultIndex": null,
       "elementNUID": "6d6395b4-3eec-4d3d-9d4c-fc8bf4185792",
       "elementType": "command",
       "guid": "73963bce-9fd0-4524-bd34-fdab17229c89",
       "options": null,
       "position": {
        "height": 2,
        "width": 12,
        "x": 0,
        "y": 219,
        "z": null
       },
       "resultIndex": null
      },
      {
       "dashboardResultIndex": null,
       "elementNUID": "1e93a4fa-c7de-46e9-bdf4-617afe3bc034",
       "elementType": "command",
       "guid": "73b813b0-9af7-4b43-b2ac-59e1d3490fb2",
       "options": null,
       "position": {
        "height": 2,
        "width": 12,
        "x": 0,
        "y": 186,
        "z": null
       },
       "resultIndex": null
      },
      {
       "dashboardResultIndex": null,
       "elementNUID": "db21e945-e8e4-411b-bd7a-79afe3ad1d07",
       "elementType": "command",
       "guid": "77a1587d-04ec-43f7-b1af-2071de8e8f80",
       "options": null,
       "position": {
        "height": 3,
        "width": 12,
        "x": 0,
        "y": 262,
        "z": null
       },
       "resultIndex": null
      },
      {
       "dashboardResultIndex": 0,
       "elementNUID": "6db814e3-7c83-4c5f-bd6b-7c22d8f8b50b",
       "elementType": "command",
       "guid": "79de5d49-e9bb-4f6b-b8fc-63caf4fe02cb",
       "options": null,
       "position": {
        "height": 6,
        "width": 12,
        "x": 0,
        "y": 266,
        "z": null
       },
       "resultIndex": null
      },
      {
       "dashboardResultIndex": 0,
       "elementNUID": "607de4b0-1ad6-4212-84fd-c7577e28bc8b",
       "elementType": "command",
       "guid": "7b3f46b2-f48d-4a93-9b10-d5288c6d80e0",
       "options": null,
       "position": {
        "height": 6,
        "width": 12,
        "x": 0,
        "y": 321,
        "z": null
       },
       "resultIndex": null
      },
      {
       "dashboardResultIndex": null,
       "elementNUID": "7b0faa46-5dd9-4966-a83b-3ac4522f7049",
       "elementType": "command",
       "guid": "7b4bef50-9981-4ada-bc34-1f23d1067d41",
       "options": null,
       "position": {
        "height": 2,
        "width": 12,
        "x": 0,
        "y": 107,
        "z": null
       },
       "resultIndex": null
      },
      {
       "dashboardResultIndex": null,
       "elementNUID": "c71717c3-f2dd-4fdd-b5f1-922fafcaeda0",
       "elementType": "command",
       "guid": "85f7c0e4-fa1f-42f5-b788-dd85d275188a",
       "options": null,
       "position": {
        "height": 10,
        "width": 12,
        "x": 0,
        "y": 37,
        "z": null
       },
       "resultIndex": null
      },
      {
       "dashboardResultIndex": 0,
       "elementNUID": "36419378-78cc-4348-a333-6d2be506322e",
       "elementType": "command",
       "guid": "91391050-b7ac-4da8-b18d-004b957408ae",
       "options": null,
       "position": {
        "height": 6,
        "width": 12,
        "x": 0,
        "y": 115,
        "z": null
       },
       "resultIndex": null
      },
      {
       "dashboardResultIndex": 0,
       "elementNUID": "194f5a4b-a2ce-4464-a1b8-f9fd6bbbad31",
       "elementType": "command",
       "guid": "9200eb88-c720-4d12-83e6-787eb6798aaa",
       "options": null,
       "position": {
        "height": 6,
        "width": 12,
        "x": 0,
        "y": 235,
        "z": null
       },
       "resultIndex": null
      },
      {
       "dashboardResultIndex": null,
       "elementNUID": "52ac6594-d938-4c3b-bd82-2c86760e4a59",
       "elementType": "command",
       "guid": "9334e059-0cc5-4991-b0ae-90bb9eaaa9e5",
       "options": null,
       "position": {
        "height": 25,
        "width": 12,
        "x": 0,
        "y": 47,
        "z": null
       },
       "resultIndex": null
      },
      {
       "dashboardResultIndex": null,
       "elementNUID": "d89640ee-28e6-44bb-babe-8315e2c88aef",
       "elementType": "command",
       "guid": "93491cd7-dcec-45ac-8bc6-596b71d9e032",
       "options": null,
       "position": {
        "height": 16,
        "width": 12,
        "x": 0,
        "y": 10,
        "z": null
       },
       "resultIndex": null
      },
      {
       "dashboardResultIndex": 0,
       "elementNUID": "921c3910-b29d-49c6-be3a-019fdd8e711a",
       "elementType": "command",
       "guid": "96a73ada-56e4-468b-b53c-dbfe355e6657",
       "options": null,
       "position": {
        "height": 6,
        "width": 12,
        "x": 0,
        "y": 172,
        "z": null
       },
       "resultIndex": null
      },
      {
       "dashboardResultIndex": null,
       "elementNUID": "5ea9d325-29bc-4b94-9d67-13e658f1fa5f",
       "elementType": "command",
       "guid": "9d248159-b07c-4c14-acec-da6cd2a9b88c",
       "options": null,
       "position": {
        "height": 7,
        "width": 12,
        "x": 0,
        "y": 194,
        "z": null
       },
       "resultIndex": null
      },
      {
       "dashboardResultIndex": null,
       "elementNUID": "3652d251-40be-485a-aa69-a7dd0eea104d",
       "elementType": "command",
       "guid": "a3505f20-22e1-43eb-be96-dadc2520a6f6",
       "options": null,
       "position": {
        "height": 2,
        "width": 12,
        "x": 0,
        "y": 170,
        "z": null
       },
       "resultIndex": null
      },
      {
       "dashboardResultIndex": 0,
       "elementNUID": "9bdbe949-aff8-407e-a284-f52e49096b25",
       "elementType": "command",
       "guid": "a68a473f-b296-4705-92a8-77ccbf08bb64",
       "options": null,
       "position": {
        "height": 6,
        "width": 12,
        "x": 0,
        "y": 180,
        "z": null
       },
       "resultIndex": null
      },
      {
       "dashboardResultIndex": null,
       "elementNUID": "14e871a2-0189-425d-8aa9-13164f8bc6b5",
       "elementType": "command",
       "guid": "a7bca9f6-a002-4b74-b82e-c1a80299abd7",
       "options": null,
       "position": {
        "height": 1,
        "width": 12,
        "x": 0,
        "y": 265,
        "z": null
       },
       "resultIndex": null
      },
      {
       "dashboardResultIndex": null,
       "elementNUID": "0d9fb8c5-d078-4b40-9ea3-e07cd78bcee4",
       "elementType": "command",
       "guid": "acdcecbb-a03b-4dab-9192-126fc6a3a6c8",
       "options": null,
       "position": {
        "height": 3,
        "width": 12,
        "x": 0,
        "y": 316,
        "z": null
       },
       "resultIndex": null
      },
      {
       "dashboardResultIndex": null,
       "elementNUID": "d73eca68-d0cd-4d44-a8a9-285e701eb44b",
       "elementType": "command",
       "guid": "b0b7d36f-6675-4fa4-9dd7-67b9ac405bf6",
       "options": null,
       "position": {
        "height": 6,
        "width": 12,
        "x": 0,
        "y": 310,
        "z": null
       },
       "resultIndex": null
      },
      {
       "dashboardResultIndex": null,
       "elementNUID": "8caca85b-7fbc-40c4-b4cb-05919d6dd8c8",
       "elementType": "command",
       "guid": "bda8e5b1-70d5-4c0b-809c-c45ba02bf8e7",
       "options": null,
       "position": {
        "height": 2,
        "width": 12,
        "x": 0,
        "y": 292,
        "z": null
       },
       "resultIndex": null
      },
      {
       "dashboardResultIndex": 0,
       "elementNUID": "73f3fe8f-fa8c-4cd2-9fc6-3a43e2600b82",
       "elementType": "command",
       "guid": "bf7d0b16-0652-41dc-8f16-f3cc89ab1a9e",
       "options": null,
       "position": {
        "height": 6,
        "width": 12,
        "x": 0,
        "y": 188,
        "z": null
       },
       "resultIndex": null
      },
      {
       "dashboardResultIndex": null,
       "elementNUID": "e8105cc6-59b5-413f-87e2-7486097f2274",
       "elementType": "command",
       "guid": "cb291918-c425-48f7-b90f-c7fdf0b5eea1",
       "options": null,
       "position": {
        "height": 2,
        "width": 12,
        "x": 0,
        "y": 162,
        "z": null
       },
       "resultIndex": null
      },
      {
       "dashboardResultIndex": null,
       "elementNUID": "f996acd5-4ebe-4c17-b402-1a9981fe3977",
       "elementType": "command",
       "guid": "d2ee262f-0ffb-4607-af9d-37b12deedbb3",
       "options": null,
       "position": {
        "height": 2,
        "width": 12,
        "x": 0,
        "y": 243,
        "z": null
       },
       "resultIndex": null
      },
      {
       "dashboardResultIndex": null,
       "elementNUID": "0d81da44-2ee8-4675-ab46-095c20324af9",
       "elementType": "command",
       "guid": "dbd6a6d5-ac79-43ee-94fb-33de4a6b11cd",
       "options": null,
       "position": {
        "height": 2,
        "width": 12,
        "x": 0,
        "y": 331,
        "z": null
       },
       "resultIndex": null
      },
      {
       "dashboardResultIndex": null,
       "elementNUID": "4c7da9c0-6fe3-47d9-a653-3b2d9eb8433c",
       "elementType": "command",
       "guid": "e18e84e8-ca32-41a2-b1ad-cd3fd526675a",
       "options": null,
       "position": {
        "height": 2,
        "width": 12,
        "x": 0,
        "y": 300,
        "z": null
       },
       "resultIndex": null
      },
      {
       "dashboardResultIndex": null,
       "elementNUID": "4619470a-3bd1-4def-92fe-c66db122fd2c",
       "elementType": "command",
       "guid": "e2f31b03-7a20-46e6-843e-d8eb37107bd3",
       "options": null,
       "position": {
        "height": 2,
        "width": 12,
        "x": 0,
        "y": 254,
        "z": null
       },
       "resultIndex": null
      },
      {
       "dashboardResultIndex": 0,
       "elementNUID": "23600233-1521-454c-a3b1-ba785ff647a5",
       "elementType": "command",
       "guid": "e38e51d8-64ef-4102-9ac2-00373f430795",
       "options": null,
       "position": {
        "height": 6,
        "width": 12,
        "x": 0,
        "y": 294,
        "z": null
       },
       "resultIndex": null
      },
      {
       "dashboardResultIndex": 0,
       "elementNUID": "e950dbda-68cf-4a14-996b-9eef312bbf0a",
       "elementType": "command",
       "guid": "e46f6b09-900f-41d7-9cd5-7edf989f1be4",
       "options": null,
       "position": {
        "height": 6,
        "width": 12,
        "x": 0,
        "y": 256,
        "z": null
       },
       "resultIndex": null
      },
      {
       "dashboardResultIndex": null,
       "elementNUID": "8a3867c5-1c7e-48f8-bc58-43fdce91afeb",
       "elementType": "command",
       "guid": "e79c9148-e867-4007-a963-929102f20612",
       "options": null,
       "position": {
        "height": 2,
        "width": 12,
        "x": 0,
        "y": 233,
        "z": null
       },
       "resultIndex": null
      },
      {
       "dashboardResultIndex": null,
       "elementNUID": "9007bd30-e3e6-4b00-b05b-b5ce1a6e11e8",
       "elementType": "command",
       "guid": "e8ba8da7-8f31-4a98-8f5f-bb1fe399937c",
       "options": null,
       "position": {
        "height": 10,
        "width": 12,
        "x": 0,
        "y": 121,
        "z": null
       },
       "resultIndex": null
      },
      {
       "dashboardResultIndex": null,
       "elementNUID": "1e51ba98-c547-4fef-8af4-ed7b615011e2",
       "elementType": "command",
       "guid": "eceb7b72-d661-4e5f-93f9-9c91946708ae",
       "options": null,
       "position": {
        "height": 2,
        "width": 12,
        "x": 0,
        "y": 283,
        "z": null
       },
       "resultIndex": null
      },
      {
       "dashboardResultIndex": 0,
       "elementNUID": "38838582-a633-4e6d-b015-665d8261c1ce",
       "elementType": "command",
       "guid": "f2cec4de-0d36-4f58-903a-d1a630ccbd76",
       "options": null,
       "position": {
        "height": 6,
        "width": 12,
        "x": 0,
        "y": 245,
        "z": null
       },
       "resultIndex": null
      },
      {
       "dashboardResultIndex": 0,
       "elementNUID": "0a2fc92c-057d-46a2-93f6-776b476960f3",
       "elementType": "command",
       "guid": "fc8e6aa9-4918-43b6-b7b4-f1f988ad3e7b",
       "options": null,
       "position": {
        "height": 6,
        "width": 12,
        "x": 0,
        "y": 277,
        "z": null
       },
       "resultIndex": null
      },
      {
       "dashboardResultIndex": null,
       "elementNUID": "f62afd6a-84c7-44ce-9a68-624afd731212",
       "elementType": "command",
       "guid": "feaaf418-0ef1-4de6-94bb-90b89350c0d7",
       "options": null,
       "position": {
        "height": 2,
        "width": 12,
        "x": 0,
        "y": 275,
        "z": null
       },
       "resultIndex": null
      }
     ],
     "globalVars": {},
     "guid": "",
     "layoutOption": {
      "grid": true,
      "stack": true
     },
     "nuid": "61966d46-28ba-471b-8f48-2fb66b79cf65",
     "origId": 1824699390332815,
     "title": "Untitled",
     "version": "DashboardViewV1",
     "width": 1024
    }
   ],
   "environmentMetadata": {
    "base_environment": "",
    "environment_version": "1"
   },
   "inputWidgetPreferences": null,
   "language": "python",
   "notebookMetadata": {
    "mostRecentlyExecutedCommandWithImplicitDF": {
     "commandId": 2297432522799704,
     "dataframes": [
      "_sqldf"
     ]
    },
    "pythonIndentUnit": 4
   },
   "notebookName": "Climate_Change_Surface_Temperature",
   "widgets": {}
  }
 },
 "nbformat": 4,
 "nbformat_minor": 0
}